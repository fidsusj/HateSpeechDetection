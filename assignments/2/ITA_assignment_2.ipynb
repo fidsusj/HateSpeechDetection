{
 "cells": [
  {
   "cell_type": "markdown",
   "metadata": {},
   "source": [
    "# Assignment 2: “Text Mining with Simpsons ”\n",
    "Due: Monday 2pm, December 14, 2020, via Moodle"
   ]
  },
  {
   "cell_type": "markdown",
   "metadata": {},
   "source": [
    "### Submission guidelines\n",
    "\n",
    "- Solutions need to be uploaded as a single Jupyter notebook. You will find many provided codes in the notebook, your task is to fill in the missing cells.\n",
    "- For the written solution use LaTeX in markdown inside the same notebook. Do *not* hand in a seperate file for it.\n",
    "- Download the .zip file containing the dataset but do *not* upload it with your solution.\n",
    "- It is sufficient if one person per group uploads the solution to Moodle, but make sure that the names of\n",
    "all team members are given on the PDF and in the source code."
   ]
  },
  {
   "cell_type": "markdown",
   "metadata": {},
   "source": [
    "--------"
   ]
  },
  {
   "cell_type": "markdown",
   "metadata": {},
   "source": [
    "The Simpson show is the world’s longest-running animated sitcom. The show revolves around the lives of the Simpson family, which consists of Homer, Marge, Bart, Lisa, and the little Maggi.\n",
    "For this notebook, you should download the dataset that contains the characters, locations, episode details, and script lines for approximately 600 Simpsons episodes, dating back to 1989.\n",
    "In the following exercises, we will explore the data and use visualizations to gain some insight into the show. The Zip file alongside this notebook should contain the following files:\n",
    "\n",
    "` simpsons_characters.csv, simpsons_locations.csv, simpsons_script_lines.csv, simpsons_episodes.csv`\n"
   ]
  },
  {
   "cell_type": "markdown",
   "metadata": {},
   "source": [
    "Take some time and familiarize yourself with the data. `simpsons_characters.csv` contains the character-names and their gender.\n",
    "`simpsons_locations.csv` contains information about locations in the shows,\n",
    "and `simpsons_episodes.csv` has information about each episode including their title, rating, and views.\n",
    "Finally, `simpsons_script_lines.csv` lists all the lines in the show, who said the line and where it was said. Be aware that this data set is not cleaned and, hence, includes faulty data as well as inconsistent data types."
   ]
  },
  {
   "cell_type": "markdown",
   "metadata": {},
   "source": [
    "Import the needed packages:"
   ]
  },
  {
   "cell_type": "code",
   "execution_count": 55,
   "metadata": {},
   "outputs": [],
   "source": [
    "import pandas as pd\n",
    "import numpy as np\n",
    "import matplotlib\n",
    "from matplotlib import pyplot as plt\n",
    "from os import path\n",
    "%matplotlib inline"
   ]
  },
  {
   "cell_type": "markdown",
   "metadata": {},
   "source": [
    "Let's read the data and get started!"
   ]
  },
  {
   "cell_type": "markdown",
   "metadata": {},
   "source": [
    "### Task 1:  Important Characters (3 + 2 + 2 + 4 = 11 point)\n",
    "### Sub-Task 1: \n",
    "Load the four datasets in the respective variables using pandas (pd),\n",
    "make sure to set the type of the `character_id` to integer and drop the line that has the non-numeric character ID `142024`."
   ]
  },
  {
   "cell_type": "code",
   "execution_count": 56,
   "metadata": {},
   "outputs": [
    {
     "name": "stderr",
     "output_type": "stream",
     "text": [
      "/home/st/miniconda3/envs/text_analytics/lib/python3.7/site-packages/IPython/core/interactiveshell.py:2714: DtypeWarning: Columns (4,5,6) have mixed types.Specify dtype option on import or set low_memory=False.\n",
      "  interactivity=interactivity, compiler=compiler, result=result)\n"
     ]
    }
   ],
   "source": [
    "df_characters = pd.read_csv('data/simpsons_characters.csv',\n",
    "                            dtype={\n",
    "                                'id': 'int64', \n",
    "                                'name': 'object', \n",
    "                                'normalized_name': 'object', \n",
    "                                'gender': 'category'\n",
    "                            })\n",
    "\n",
    "df_episodes = pd.read_csv('data/simpsons_episodes.csv',\n",
    "                           dtype={\n",
    "                               'id': 'int64', \n",
    "                               'image_url': 'object', \n",
    "                               'imdb_rating': 'float',\n",
    "                               'imdb_votes': 'float',\n",
    "                               'number_in_season': 'int64',\n",
    "                               'number_in_series': 'int64',\n",
    "                               'original_air_date': 'object',\n",
    "                               'original_air_year': 'int64',\n",
    "                               'production_code': 'object',\n",
    "                               'season': 'int64',\n",
    "                               'title': 'object',\n",
    "                               'us_viewers_in_millions': 'float',\n",
    "                               'video_url': 'object',\n",
    "                               'views': 'float'\n",
    "                           })\n",
    "\n",
    "df_locations = pd.read_csv('data/simpsons_locations.csv',\n",
    "                           dtype={\n",
    "                               'id': 'int64', \n",
    "                               'name': 'object', \n",
    "                               'normalized_name': 'object'\n",
    "                           })\n",
    "\n",
    "df_script = pd.read_csv('data/simpsons_script_lines.csv')\n",
    "df_script = df_script.drop(df_script.index[142024])\n",
    "df_script = df_script.astype({\n",
    "    'id': 'int64', \n",
    "    'episode_id': 'int64',\n",
    "    'number': 'int64',\n",
    "    'raw_text': 'object',\n",
    "    'timestamp_in_ms': 'int64',\n",
    "    'speaking_line': 'bool',\n",
    "    'character_id':'float',\n",
    "    'location_id': 'Int64',\n",
    "    'raw_character_text': 'object',\n",
    "    'raw_location_text': 'object',\n",
    "    'spoken_words': 'object',\n",
    "    'normalized_text': 'object',\n",
    "    # 'word_count': 'Int64' # Cleaning very difficult, see conv function below\n",
    "})\n",
    "df_script.character_id = df_script.character_id.astype('Int64')  # See https://github.com/pandas-dev/pandas/issues/25472"
   ]
  },
  {
   "cell_type": "markdown",
   "metadata": {},
   "source": [
    "Using panda's `.head()` function look at the top rows of each dataset."
   ]
  },
  {
   "cell_type": "code",
   "execution_count": 57,
   "metadata": {},
   "outputs": [
    {
     "data": {
      "text/html": [
       "<div>\n",
       "<style scoped>\n",
       "    .dataframe tbody tr th:only-of-type {\n",
       "        vertical-align: middle;\n",
       "    }\n",
       "\n",
       "    .dataframe tbody tr th {\n",
       "        vertical-align: top;\n",
       "    }\n",
       "\n",
       "    .dataframe thead th {\n",
       "        text-align: right;\n",
       "    }\n",
       "</style>\n",
       "<table border=\"1\" class=\"dataframe\">\n",
       "  <thead>\n",
       "    <tr style=\"text-align: right;\">\n",
       "      <th></th>\n",
       "      <th>id</th>\n",
       "      <th>name</th>\n",
       "      <th>normalized_name</th>\n",
       "      <th>gender</th>\n",
       "    </tr>\n",
       "  </thead>\n",
       "  <tbody>\n",
       "    <tr>\n",
       "      <th>0</th>\n",
       "      <td>7</td>\n",
       "      <td>Children</td>\n",
       "      <td>children</td>\n",
       "      <td>NaN</td>\n",
       "    </tr>\n",
       "    <tr>\n",
       "      <th>1</th>\n",
       "      <td>12</td>\n",
       "      <td>Mechanical Santa</td>\n",
       "      <td>mechanical santa</td>\n",
       "      <td>NaN</td>\n",
       "    </tr>\n",
       "    <tr>\n",
       "      <th>2</th>\n",
       "      <td>13</td>\n",
       "      <td>Tattoo Man</td>\n",
       "      <td>tattoo man</td>\n",
       "      <td>NaN</td>\n",
       "    </tr>\n",
       "    <tr>\n",
       "      <th>3</th>\n",
       "      <td>16</td>\n",
       "      <td>DOCTOR ZITSOFSKY</td>\n",
       "      <td>doctor zitsofsky</td>\n",
       "      <td>NaN</td>\n",
       "    </tr>\n",
       "    <tr>\n",
       "      <th>4</th>\n",
       "      <td>20</td>\n",
       "      <td>Students</td>\n",
       "      <td>students</td>\n",
       "      <td>NaN</td>\n",
       "    </tr>\n",
       "  </tbody>\n",
       "</table>\n",
       "</div>"
      ],
      "text/plain": [
       "   id              name   normalized_name gender\n",
       "0   7          Children          children    NaN\n",
       "1  12  Mechanical Santa  mechanical santa    NaN\n",
       "2  13        Tattoo Man        tattoo man    NaN\n",
       "3  16  DOCTOR ZITSOFSKY  doctor zitsofsky    NaN\n",
       "4  20          Students          students    NaN"
      ]
     },
     "execution_count": 57,
     "metadata": {},
     "output_type": "execute_result"
    }
   ],
   "source": [
    "df_characters.head()"
   ]
  },
  {
   "cell_type": "code",
   "execution_count": 58,
   "metadata": {},
   "outputs": [
    {
     "data": {
      "text/html": [
       "<div>\n",
       "<style scoped>\n",
       "    .dataframe tbody tr th:only-of-type {\n",
       "        vertical-align: middle;\n",
       "    }\n",
       "\n",
       "    .dataframe tbody tr th {\n",
       "        vertical-align: top;\n",
       "    }\n",
       "\n",
       "    .dataframe thead th {\n",
       "        text-align: right;\n",
       "    }\n",
       "</style>\n",
       "<table border=\"1\" class=\"dataframe\">\n",
       "  <thead>\n",
       "    <tr style=\"text-align: right;\">\n",
       "      <th></th>\n",
       "      <th>id</th>\n",
       "      <th>name</th>\n",
       "      <th>normalized_name</th>\n",
       "    </tr>\n",
       "  </thead>\n",
       "  <tbody>\n",
       "    <tr>\n",
       "      <th>0</th>\n",
       "      <td>1</td>\n",
       "      <td>Street</td>\n",
       "      <td>street</td>\n",
       "    </tr>\n",
       "    <tr>\n",
       "      <th>1</th>\n",
       "      <td>2</td>\n",
       "      <td>Car</td>\n",
       "      <td>car</td>\n",
       "    </tr>\n",
       "    <tr>\n",
       "      <th>2</th>\n",
       "      <td>3</td>\n",
       "      <td>Springfield Elementary School</td>\n",
       "      <td>springfield elementary school</td>\n",
       "    </tr>\n",
       "    <tr>\n",
       "      <th>3</th>\n",
       "      <td>4</td>\n",
       "      <td>Auditorium</td>\n",
       "      <td>auditorium</td>\n",
       "    </tr>\n",
       "    <tr>\n",
       "      <th>4</th>\n",
       "      <td>5</td>\n",
       "      <td>Simpson Home</td>\n",
       "      <td>simpson home</td>\n",
       "    </tr>\n",
       "  </tbody>\n",
       "</table>\n",
       "</div>"
      ],
      "text/plain": [
       "   id                           name                normalized_name\n",
       "0   1                         Street                         street\n",
       "1   2                            Car                            car\n",
       "2   3  Springfield Elementary School  springfield elementary school\n",
       "3   4                     Auditorium                     auditorium\n",
       "4   5                   Simpson Home                   simpson home"
      ]
     },
     "execution_count": 58,
     "metadata": {},
     "output_type": "execute_result"
    }
   ],
   "source": [
    "df_locations.head()"
   ]
  },
  {
   "cell_type": "code",
   "execution_count": 59,
   "metadata": {
    "scrolled": true
   },
   "outputs": [
    {
     "data": {
      "text/html": [
       "<div>\n",
       "<style scoped>\n",
       "    .dataframe tbody tr th:only-of-type {\n",
       "        vertical-align: middle;\n",
       "    }\n",
       "\n",
       "    .dataframe tbody tr th {\n",
       "        vertical-align: top;\n",
       "    }\n",
       "\n",
       "    .dataframe thead th {\n",
       "        text-align: right;\n",
       "    }\n",
       "</style>\n",
       "<table border=\"1\" class=\"dataframe\">\n",
       "  <thead>\n",
       "    <tr style=\"text-align: right;\">\n",
       "      <th></th>\n",
       "      <th>id</th>\n",
       "      <th>episode_id</th>\n",
       "      <th>number</th>\n",
       "      <th>raw_text</th>\n",
       "      <th>timestamp_in_ms</th>\n",
       "      <th>speaking_line</th>\n",
       "      <th>character_id</th>\n",
       "      <th>location_id</th>\n",
       "      <th>raw_character_text</th>\n",
       "      <th>raw_location_text</th>\n",
       "      <th>spoken_words</th>\n",
       "      <th>normalized_text</th>\n",
       "      <th>word_count</th>\n",
       "    </tr>\n",
       "  </thead>\n",
       "  <tbody>\n",
       "    <tr>\n",
       "      <th>0</th>\n",
       "      <td>9549</td>\n",
       "      <td>32</td>\n",
       "      <td>209</td>\n",
       "      <td>Miss Hoover: No, actually, it was a little of ...</td>\n",
       "      <td>848000</td>\n",
       "      <td>True</td>\n",
       "      <td>464</td>\n",
       "      <td>3</td>\n",
       "      <td>Miss Hoover</td>\n",
       "      <td>Springfield Elementary School</td>\n",
       "      <td>No, actually, it was a little of both. Sometim...</td>\n",
       "      <td>no actually it was a little of both sometimes ...</td>\n",
       "      <td>31</td>\n",
       "    </tr>\n",
       "    <tr>\n",
       "      <th>1</th>\n",
       "      <td>9550</td>\n",
       "      <td>32</td>\n",
       "      <td>210</td>\n",
       "      <td>Lisa Simpson: (NEAR TEARS) Where's Mr. Bergstrom?</td>\n",
       "      <td>856000</td>\n",
       "      <td>True</td>\n",
       "      <td>9</td>\n",
       "      <td>3</td>\n",
       "      <td>Lisa Simpson</td>\n",
       "      <td>Springfield Elementary School</td>\n",
       "      <td>Where's Mr. Bergstrom?</td>\n",
       "      <td>wheres mr bergstrom</td>\n",
       "      <td>3</td>\n",
       "    </tr>\n",
       "    <tr>\n",
       "      <th>2</th>\n",
       "      <td>9551</td>\n",
       "      <td>32</td>\n",
       "      <td>211</td>\n",
       "      <td>Miss Hoover: I don't know. Although I'd sure l...</td>\n",
       "      <td>856000</td>\n",
       "      <td>True</td>\n",
       "      <td>464</td>\n",
       "      <td>3</td>\n",
       "      <td>Miss Hoover</td>\n",
       "      <td>Springfield Elementary School</td>\n",
       "      <td>I don't know. Although I'd sure like to talk t...</td>\n",
       "      <td>i dont know although id sure like to talk to h...</td>\n",
       "      <td>22</td>\n",
       "    </tr>\n",
       "    <tr>\n",
       "      <th>3</th>\n",
       "      <td>9552</td>\n",
       "      <td>32</td>\n",
       "      <td>212</td>\n",
       "      <td>Lisa Simpson: That life is worth living.</td>\n",
       "      <td>864000</td>\n",
       "      <td>True</td>\n",
       "      <td>9</td>\n",
       "      <td>3</td>\n",
       "      <td>Lisa Simpson</td>\n",
       "      <td>Springfield Elementary School</td>\n",
       "      <td>That life is worth living.</td>\n",
       "      <td>that life is worth living</td>\n",
       "      <td>5</td>\n",
       "    </tr>\n",
       "    <tr>\n",
       "      <th>4</th>\n",
       "      <td>9553</td>\n",
       "      <td>32</td>\n",
       "      <td>213</td>\n",
       "      <td>Edna Krabappel-Flanders: The polls will be ope...</td>\n",
       "      <td>864000</td>\n",
       "      <td>True</td>\n",
       "      <td>40</td>\n",
       "      <td>3</td>\n",
       "      <td>Edna Krabappel-Flanders</td>\n",
       "      <td>Springfield Elementary School</td>\n",
       "      <td>The polls will be open from now until the end ...</td>\n",
       "      <td>the polls will be open from now until the end ...</td>\n",
       "      <td>33</td>\n",
       "    </tr>\n",
       "  </tbody>\n",
       "</table>\n",
       "</div>"
      ],
      "text/plain": [
       "     id  episode_id  number  \\\n",
       "0  9549          32     209   \n",
       "1  9550          32     210   \n",
       "2  9551          32     211   \n",
       "3  9552          32     212   \n",
       "4  9553          32     213   \n",
       "\n",
       "                                            raw_text  timestamp_in_ms  \\\n",
       "0  Miss Hoover: No, actually, it was a little of ...           848000   \n",
       "1  Lisa Simpson: (NEAR TEARS) Where's Mr. Bergstrom?           856000   \n",
       "2  Miss Hoover: I don't know. Although I'd sure l...           856000   \n",
       "3           Lisa Simpson: That life is worth living.           864000   \n",
       "4  Edna Krabappel-Flanders: The polls will be ope...           864000   \n",
       "\n",
       "   speaking_line  character_id  location_id       raw_character_text  \\\n",
       "0           True           464            3              Miss Hoover   \n",
       "1           True             9            3             Lisa Simpson   \n",
       "2           True           464            3              Miss Hoover   \n",
       "3           True             9            3             Lisa Simpson   \n",
       "4           True            40            3  Edna Krabappel-Flanders   \n",
       "\n",
       "               raw_location_text  \\\n",
       "0  Springfield Elementary School   \n",
       "1  Springfield Elementary School   \n",
       "2  Springfield Elementary School   \n",
       "3  Springfield Elementary School   \n",
       "4  Springfield Elementary School   \n",
       "\n",
       "                                        spoken_words  \\\n",
       "0  No, actually, it was a little of both. Sometim...   \n",
       "1                             Where's Mr. Bergstrom?   \n",
       "2  I don't know. Although I'd sure like to talk t...   \n",
       "3                         That life is worth living.   \n",
       "4  The polls will be open from now until the end ...   \n",
       "\n",
       "                                     normalized_text word_count  \n",
       "0  no actually it was a little of both sometimes ...         31  \n",
       "1                                wheres mr bergstrom          3  \n",
       "2  i dont know although id sure like to talk to h...         22  \n",
       "3                          that life is worth living          5  \n",
       "4  the polls will be open from now until the end ...         33  "
      ]
     },
     "execution_count": 59,
     "metadata": {},
     "output_type": "execute_result"
    }
   ],
   "source": [
    "df_script.head()"
   ]
  },
  {
   "cell_type": "code",
   "execution_count": 60,
   "metadata": {},
   "outputs": [
    {
     "data": {
      "text/html": [
       "<div>\n",
       "<style scoped>\n",
       "    .dataframe tbody tr th:only-of-type {\n",
       "        vertical-align: middle;\n",
       "    }\n",
       "\n",
       "    .dataframe tbody tr th {\n",
       "        vertical-align: top;\n",
       "    }\n",
       "\n",
       "    .dataframe thead th {\n",
       "        text-align: right;\n",
       "    }\n",
       "</style>\n",
       "<table border=\"1\" class=\"dataframe\">\n",
       "  <thead>\n",
       "    <tr style=\"text-align: right;\">\n",
       "      <th></th>\n",
       "      <th>id</th>\n",
       "      <th>image_url</th>\n",
       "      <th>imdb_rating</th>\n",
       "      <th>imdb_votes</th>\n",
       "      <th>number_in_season</th>\n",
       "      <th>number_in_series</th>\n",
       "      <th>original_air_date</th>\n",
       "      <th>original_air_year</th>\n",
       "      <th>production_code</th>\n",
       "      <th>season</th>\n",
       "      <th>title</th>\n",
       "      <th>us_viewers_in_millions</th>\n",
       "      <th>video_url</th>\n",
       "      <th>views</th>\n",
       "    </tr>\n",
       "  </thead>\n",
       "  <tbody>\n",
       "    <tr>\n",
       "      <th>0</th>\n",
       "      <td>10</td>\n",
       "      <td>http://static-media.fxx.com/img/FX_Networks_-_...</td>\n",
       "      <td>7.4</td>\n",
       "      <td>1511.0</td>\n",
       "      <td>10</td>\n",
       "      <td>10</td>\n",
       "      <td>1990-03-25</td>\n",
       "      <td>1990</td>\n",
       "      <td>7G10</td>\n",
       "      <td>1</td>\n",
       "      <td>Homer's Night Out</td>\n",
       "      <td>30.3</td>\n",
       "      <td>http://www.simpsonsworld.com/video/275197507879</td>\n",
       "      <td>50816.0</td>\n",
       "    </tr>\n",
       "    <tr>\n",
       "      <th>1</th>\n",
       "      <td>12</td>\n",
       "      <td>http://static-media.fxx.com/img/FX_Networks_-_...</td>\n",
       "      <td>8.3</td>\n",
       "      <td>1716.0</td>\n",
       "      <td>12</td>\n",
       "      <td>12</td>\n",
       "      <td>1990-04-29</td>\n",
       "      <td>1990</td>\n",
       "      <td>7G12</td>\n",
       "      <td>1</td>\n",
       "      <td>Krusty Gets Busted</td>\n",
       "      <td>30.4</td>\n",
       "      <td>http://www.simpsonsworld.com/video/288019523914</td>\n",
       "      <td>62561.0</td>\n",
       "    </tr>\n",
       "    <tr>\n",
       "      <th>2</th>\n",
       "      <td>14</td>\n",
       "      <td>http://static-media.fxx.com/img/FX_Networks_-_...</td>\n",
       "      <td>8.2</td>\n",
       "      <td>1638.0</td>\n",
       "      <td>1</td>\n",
       "      <td>14</td>\n",
       "      <td>1990-10-11</td>\n",
       "      <td>1990</td>\n",
       "      <td>7F03</td>\n",
       "      <td>2</td>\n",
       "      <td>Bart Gets an \"F\"</td>\n",
       "      <td>33.6</td>\n",
       "      <td>http://www.simpsonsworld.com/video/260539459671</td>\n",
       "      <td>59575.0</td>\n",
       "    </tr>\n",
       "    <tr>\n",
       "      <th>3</th>\n",
       "      <td>17</td>\n",
       "      <td>http://static-media.fxx.com/img/FX_Networks_-_...</td>\n",
       "      <td>8.1</td>\n",
       "      <td>1457.0</td>\n",
       "      <td>4</td>\n",
       "      <td>17</td>\n",
       "      <td>1990-11-01</td>\n",
       "      <td>1990</td>\n",
       "      <td>7F01</td>\n",
       "      <td>2</td>\n",
       "      <td>Two Cars in Every Garage and Three Eyes on Eve...</td>\n",
       "      <td>26.1</td>\n",
       "      <td>http://www.simpsonsworld.com/video/260537411822</td>\n",
       "      <td>64959.0</td>\n",
       "    </tr>\n",
       "    <tr>\n",
       "      <th>4</th>\n",
       "      <td>19</td>\n",
       "      <td>http://static-media.fxx.com/img/FX_Networks_-_...</td>\n",
       "      <td>8.0</td>\n",
       "      <td>1366.0</td>\n",
       "      <td>6</td>\n",
       "      <td>19</td>\n",
       "      <td>1990-11-15</td>\n",
       "      <td>1990</td>\n",
       "      <td>7F08</td>\n",
       "      <td>2</td>\n",
       "      <td>Dead Putting Society</td>\n",
       "      <td>25.4</td>\n",
       "      <td>http://www.simpsonsworld.com/video/260539459670</td>\n",
       "      <td>50691.0</td>\n",
       "    </tr>\n",
       "  </tbody>\n",
       "</table>\n",
       "</div>"
      ],
      "text/plain": [
       "   id                                          image_url  imdb_rating  \\\n",
       "0  10  http://static-media.fxx.com/img/FX_Networks_-_...          7.4   \n",
       "1  12  http://static-media.fxx.com/img/FX_Networks_-_...          8.3   \n",
       "2  14  http://static-media.fxx.com/img/FX_Networks_-_...          8.2   \n",
       "3  17  http://static-media.fxx.com/img/FX_Networks_-_...          8.1   \n",
       "4  19  http://static-media.fxx.com/img/FX_Networks_-_...          8.0   \n",
       "\n",
       "   imdb_votes  number_in_season  number_in_series original_air_date  \\\n",
       "0      1511.0                10                10        1990-03-25   \n",
       "1      1716.0                12                12        1990-04-29   \n",
       "2      1638.0                 1                14        1990-10-11   \n",
       "3      1457.0                 4                17        1990-11-01   \n",
       "4      1366.0                 6                19        1990-11-15   \n",
       "\n",
       "   original_air_year production_code  season  \\\n",
       "0               1990            7G10       1   \n",
       "1               1990            7G12       1   \n",
       "2               1990            7F03       2   \n",
       "3               1990            7F01       2   \n",
       "4               1990            7F08       2   \n",
       "\n",
       "                                               title  us_viewers_in_millions  \\\n",
       "0                                  Homer's Night Out                    30.3   \n",
       "1                                 Krusty Gets Busted                    30.4   \n",
       "2                                   Bart Gets an \"F\"                    33.6   \n",
       "3  Two Cars in Every Garage and Three Eyes on Eve...                    26.1   \n",
       "4                               Dead Putting Society                    25.4   \n",
       "\n",
       "                                         video_url    views  \n",
       "0  http://www.simpsonsworld.com/video/275197507879  50816.0  \n",
       "1  http://www.simpsonsworld.com/video/288019523914  62561.0  \n",
       "2  http://www.simpsonsworld.com/video/260539459671  59575.0  \n",
       "3  http://www.simpsonsworld.com/video/260537411822  64959.0  \n",
       "4  http://www.simpsonsworld.com/video/260539459670  50691.0  "
      ]
     },
     "execution_count": 60,
     "metadata": {},
     "output_type": "execute_result"
    }
   ],
   "source": [
    "df_episodes.head()"
   ]
  },
  {
   "cell_type": "markdown",
   "metadata": {},
   "source": [
    "Let's take a look at the important characters of the show. To start we detect the main characters by the number of spoken words/lines throughout the show. \n",
    "Extract top 10 characters based on the number of spoken words (word count) as well as the 10 most prominent characters regarding the number of lines they head during the show.\n",
    "Compare both results by drawing two bar plots: For the first plot, the x-axis should show the name of the top 10 characters with regard to the word count and the y-axis should display the number of spoken words.\n",
    "In the second plot, you should do the same but this time considering the number of lines for each character (,i.e., the characters displayed on the x-axis can be different for the first and second bar plot). You might notice that there is a column with `word_count` in the `scripts` data frame, but cleaning it up might be tricky. To find the sum of all values, first remove the `nan` and any other string characters in that colum, you can use the `conv` function provided."
   ]
  },
  {
   "cell_type": "code",
   "execution_count": 61,
   "metadata": {
    "scrolled": true
   },
   "outputs": [
    {
     "data": {
      "text/html": [
       "<div>\n",
       "<style scoped>\n",
       "    .dataframe tbody tr th:only-of-type {\n",
       "        vertical-align: middle;\n",
       "    }\n",
       "\n",
       "    .dataframe tbody tr th {\n",
       "        vertical-align: top;\n",
       "    }\n",
       "\n",
       "    .dataframe thead th {\n",
       "        text-align: right;\n",
       "    }\n",
       "</style>\n",
       "<table border=\"1\" class=\"dataframe\">\n",
       "  <thead>\n",
       "    <tr style=\"text-align: right;\">\n",
       "      <th></th>\n",
       "      <th>word_count</th>\n",
       "      <th>id</th>\n",
       "      <th>name</th>\n",
       "      <th>normalized_name</th>\n",
       "      <th>gender</th>\n",
       "    </tr>\n",
       "  </thead>\n",
       "  <tbody>\n",
       "    <tr>\n",
       "      <th>0</th>\n",
       "      <td>1270666.0</td>\n",
       "      <td>1</td>\n",
       "      <td>Marge Simpson</td>\n",
       "      <td>marge simpson</td>\n",
       "      <td>f</td>\n",
       "    </tr>\n",
       "    <tr>\n",
       "      <th>238</th>\n",
       "      <td>1154000.0</td>\n",
       "      <td>241</td>\n",
       "      <td>Entire Town</td>\n",
       "      <td>entire town</td>\n",
       "      <td>NaN</td>\n",
       "    </tr>\n",
       "    <tr>\n",
       "      <th>1</th>\n",
       "      <td>682780.0</td>\n",
       "      <td>2</td>\n",
       "      <td>Homer Simpson</td>\n",
       "      <td>homer simpson</td>\n",
       "      <td>m</td>\n",
       "    </tr>\n",
       "    <tr>\n",
       "      <th>3364</th>\n",
       "      <td>672126.0</td>\n",
       "      <td>3592</td>\n",
       "      <td>Robert Pinsky</td>\n",
       "      <td>robert pinsky</td>\n",
       "      <td>NaN</td>\n",
       "    </tr>\n",
       "    <tr>\n",
       "      <th>2605</th>\n",
       "      <td>571000.0</td>\n",
       "      <td>2739</td>\n",
       "      <td>ABBA</td>\n",
       "      <td>abba</td>\n",
       "      <td>NaN</td>\n",
       "    </tr>\n",
       "    <tr>\n",
       "      <th>8</th>\n",
       "      <td>364576.0</td>\n",
       "      <td>9</td>\n",
       "      <td>Lisa Simpson</td>\n",
       "      <td>lisa simpson</td>\n",
       "      <td>f</td>\n",
       "    </tr>\n",
       "    <tr>\n",
       "      <th>7</th>\n",
       "      <td>218814.0</td>\n",
       "      <td>8</td>\n",
       "      <td>Bart Simpson</td>\n",
       "      <td>bart simpson</td>\n",
       "      <td>m</td>\n",
       "    </tr>\n",
       "    <tr>\n",
       "      <th>14</th>\n",
       "      <td>36623.0</td>\n",
       "      <td>15</td>\n",
       "      <td>C. Montgomery Burns</td>\n",
       "      <td>c montgomery burns</td>\n",
       "      <td>m</td>\n",
       "    </tr>\n",
       "    <tr>\n",
       "      <th>16</th>\n",
       "      <td>32855.0</td>\n",
       "      <td>17</td>\n",
       "      <td>Moe Szyslak</td>\n",
       "      <td>moe szyslak</td>\n",
       "      <td>m</td>\n",
       "    </tr>\n",
       "    <tr>\n",
       "      <th>2</th>\n",
       "      <td>28138.0</td>\n",
       "      <td>3</td>\n",
       "      <td>Seymour Skinner</td>\n",
       "      <td>seymour skinner</td>\n",
       "      <td>m</td>\n",
       "    </tr>\n",
       "  </tbody>\n",
       "</table>\n",
       "</div>"
      ],
      "text/plain": [
       "      word_count    id                 name     normalized_name gender\n",
       "0      1270666.0     1        Marge Simpson       marge simpson      f\n",
       "238    1154000.0   241          Entire Town         entire town    NaN\n",
       "1       682780.0     2        Homer Simpson       homer simpson      m\n",
       "3364    672126.0  3592        Robert Pinsky       robert pinsky    NaN\n",
       "2605    571000.0  2739                 ABBA                abba    NaN\n",
       "8       364576.0     9         Lisa Simpson        lisa simpson      f\n",
       "7       218814.0     8         Bart Simpson        bart simpson      m\n",
       "14       36623.0    15  C. Montgomery Burns  c montgomery burns      m\n",
       "16       32855.0    17          Moe Szyslak         moe szyslak      m\n",
       "2        28138.0     3      Seymour Skinner     seymour skinner      m"
      ]
     },
     "execution_count": 61,
     "metadata": {},
     "output_type": "execute_result"
    }
   ],
   "source": [
    "def conv(row):\n",
    "    try:\n",
    "        return int(row)\n",
    "    except:\n",
    "        return np.nan\n",
    "df_script[\"word_count\"] = df_script[\"word_count\"].apply(lambda cell: conv(cell))\n",
    "df_script.dropna(subset=[\"word_count\"], inplace=True)\n",
    "\n",
    "top_characters_words = df_script.groupby(\"character_id\")[\"word_count\"].sum()\n",
    "merge_data_words_sub = pd.merge(top_characters_words, df_characters, how=\"inner\", left_on=\"character_id\", right_on=\"id\")\n",
    "merge_data_words_sub = merge_data_words_sub.sort_values(by=['word_count'], ascending=False)\n",
    "merge_data_words_sub.head(10)"
   ]
  },
  {
   "cell_type": "code",
   "execution_count": 62,
   "metadata": {},
   "outputs": [
    {
     "data": {
      "text/html": [
       "<div>\n",
       "<style scoped>\n",
       "    .dataframe tbody tr th:only-of-type {\n",
       "        vertical-align: middle;\n",
       "    }\n",
       "\n",
       "    .dataframe tbody tr th {\n",
       "        vertical-align: top;\n",
       "    }\n",
       "\n",
       "    .dataframe thead th {\n",
       "        text-align: right;\n",
       "    }\n",
       "</style>\n",
       "<table border=\"1\" class=\"dataframe\">\n",
       "  <thead>\n",
       "    <tr style=\"text-align: right;\">\n",
       "      <th></th>\n",
       "      <th>sentence_count</th>\n",
       "      <th>id</th>\n",
       "      <th>name</th>\n",
       "      <th>normalized_name</th>\n",
       "      <th>gender</th>\n",
       "    </tr>\n",
       "  </thead>\n",
       "  <tbody>\n",
       "    <tr>\n",
       "      <th>1</th>\n",
       "      <td>28167</td>\n",
       "      <td>2</td>\n",
       "      <td>Homer Simpson</td>\n",
       "      <td>homer simpson</td>\n",
       "      <td>m</td>\n",
       "    </tr>\n",
       "    <tr>\n",
       "      <th>0</th>\n",
       "      <td>13290</td>\n",
       "      <td>1</td>\n",
       "      <td>Marge Simpson</td>\n",
       "      <td>marge simpson</td>\n",
       "      <td>f</td>\n",
       "    </tr>\n",
       "    <tr>\n",
       "      <th>7</th>\n",
       "      <td>13201</td>\n",
       "      <td>8</td>\n",
       "      <td>Bart Simpson</td>\n",
       "      <td>bart simpson</td>\n",
       "      <td>m</td>\n",
       "    </tr>\n",
       "    <tr>\n",
       "      <th>8</th>\n",
       "      <td>10895</td>\n",
       "      <td>9</td>\n",
       "      <td>Lisa Simpson</td>\n",
       "      <td>lisa simpson</td>\n",
       "      <td>f</td>\n",
       "    </tr>\n",
       "    <tr>\n",
       "      <th>14</th>\n",
       "      <td>3121</td>\n",
       "      <td>15</td>\n",
       "      <td>C. Montgomery Burns</td>\n",
       "      <td>c montgomery burns</td>\n",
       "      <td>m</td>\n",
       "    </tr>\n",
       "    <tr>\n",
       "      <th>16</th>\n",
       "      <td>2809</td>\n",
       "      <td>17</td>\n",
       "      <td>Moe Szyslak</td>\n",
       "      <td>moe szyslak</td>\n",
       "      <td>m</td>\n",
       "    </tr>\n",
       "    <tr>\n",
       "      <th>2</th>\n",
       "      <td>2390</td>\n",
       "      <td>3</td>\n",
       "      <td>Seymour Skinner</td>\n",
       "      <td>seymour skinner</td>\n",
       "      <td>m</td>\n",
       "    </tr>\n",
       "    <tr>\n",
       "      <th>10</th>\n",
       "      <td>2057</td>\n",
       "      <td>11</td>\n",
       "      <td>Ned Flanders</td>\n",
       "      <td>ned flanders</td>\n",
       "      <td>m</td>\n",
       "    </tr>\n",
       "    <tr>\n",
       "      <th>30</th>\n",
       "      <td>1875</td>\n",
       "      <td>31</td>\n",
       "      <td>Grampa Simpson</td>\n",
       "      <td>grampa simpson</td>\n",
       "      <td>m</td>\n",
       "    </tr>\n",
       "    <tr>\n",
       "      <th>24</th>\n",
       "      <td>1798</td>\n",
       "      <td>25</td>\n",
       "      <td>Milhouse Van Houten</td>\n",
       "      <td>milhouse van houten</td>\n",
       "      <td>m</td>\n",
       "    </tr>\n",
       "  </tbody>\n",
       "</table>\n",
       "</div>"
      ],
      "text/plain": [
       "    sentence_count  id                 name      normalized_name gender\n",
       "1            28167   2        Homer Simpson        homer simpson      m\n",
       "0            13290   1        Marge Simpson        marge simpson      f\n",
       "7            13201   8         Bart Simpson         bart simpson      m\n",
       "8            10895   9         Lisa Simpson         lisa simpson      f\n",
       "14            3121  15  C. Montgomery Burns   c montgomery burns      m\n",
       "16            2809  17          Moe Szyslak          moe szyslak      m\n",
       "2             2390   3      Seymour Skinner      seymour skinner      m\n",
       "10            2057  11         Ned Flanders         ned flanders      m\n",
       "30            1875  31       Grampa Simpson       grampa simpson      m\n",
       "24            1798  25  Milhouse Van Houten  milhouse van houten      m"
      ]
     },
     "execution_count": 62,
     "metadata": {},
     "output_type": "execute_result"
    }
   ],
   "source": [
    "top_characters_sentences = df_script.groupby(\"character_id\").size()\n",
    "merge_data_sentences_sub = pd.merge(top_characters_sentences.rename('sentence_count'), df_characters, how=\"inner\", left_on=\"character_id\", right_on=\"id\")\n",
    "merge_data_sentences_sub = merge_data_sentences_sub.sort_values(by=['sentence_count'], ascending=False)\n",
    "merge_data_sentences_sub.head(10)"
   ]
  },
  {
   "cell_type": "code",
   "execution_count": 63,
   "metadata": {},
   "outputs": [
    {
     "data": {
      "text/plain": [
       "<AxesSubplot:xlabel='name'>"
      ]
     },
     "execution_count": 63,
     "metadata": {},
     "output_type": "execute_result"
    },
    {
     "data": {
      "image/png": "[encoded data removed]",
      "text/plain": [
       "<Figure size 432x288 with 1 Axes>"
      ]
     },
     "metadata": {
      "needs_background": "light"
     },
     "output_type": "display_data"
    }
   ],
   "source": [
    "#### Draw the word count plot ####\n",
    "#### Hint: look at the plot function from dataframe #### \n",
    "\n",
    "df_first_n_items_by_words = merge_data_words_sub[[\"word_count\", \"name\", \"id\"]].head(10)\n",
    "#df_first_n_items.head()\n",
    "df_first_n_items_by_words.plot.bar(x='name', y='word_count')"
   ]
  },
  {
   "cell_type": "code",
   "execution_count": 64,
   "metadata": {},
   "outputs": [
    {
     "data": {
      "text/plain": [
       "<AxesSubplot:xlabel='name'>"
      ]
     },
     "execution_count": 64,
     "metadata": {},
     "output_type": "execute_result"
    },
    {
     "data": {
      "image/png": "[encoded data removed]",
      "text/plain": [
       "<Figure size 432x288 with 1 Axes>"
      ]
     },
     "metadata": {
      "needs_background": "light"
     },
     "output_type": "display_data"
    }
   ],
   "source": [
    "#### Draw the sentence count plot ####\n",
    "#### Hint: look at the plot function from dataframe #### \n",
    "\n",
    "df_first_n_items_by_sentences = merge_data_sentences_sub[[\"sentence_count\", \"name\", \"id\"]].head(10)\n",
    "#df_first_n_items.head()\n",
    "df_first_n_items_by_sentences.plot.bar(x='name', y='sentence_count')"
   ]
  },
  {
   "cell_type": "markdown",
   "metadata": {},
   "source": [
    "If you have done the exercise correctly you should see that the top-4 characters of the show (Homer, Marge, Bart, and Lisa Simpson) have the most dialogs (lines) in the show but their distribution differs when we look at the word count.\n",
    "Seems like some characters speak in long sentences."
   ]
  },
  {
   "cell_type": "markdown",
   "metadata": {},
   "source": [
    "### Sub-Task 2: Common Words and Word Cloud \n",
    "Let's examine the dialogues and look at the top 20 common words, draw a bar plot in the same way as above to show the frequencies.\n",
    "To generate a meaningful output use the preprocessing pipelines explained in the lecture: \n",
    "- use regex to remove non-alphabetic characters and also remove `'` since the tokenizer will treat it as a new token (anything that is not a number or alphabet including punctuations)\n",
    "- lowercase all words\n",
    "- remove stopwords based on spaCy's stopword list\n",
    "- tokenize the `spoken_words` (remove single characters produced by the tokenizer)\n",
    "- perform stemming \n",
    " \n",
    "In this exercise, we require you to use SpaCy for all language processing steps except for stemming.\n",
    "This is due to the lack of a stemmer in SpaCy's library that only provides a tool for lemmatization.\n",
    "Hence, for Stemming we are going to use one of the stemmers provided by NLTK.\n"
   ]
  },
  {
   "cell_type": "code",
   "execution_count": 65,
   "metadata": {},
   "outputs": [],
   "source": [
    "import spacy \n",
    "import re \n",
    "from collections import Counter\n",
    "from matplotlib import pyplot as plt\n",
    "from nltk.stem import PorterStemmer"
   ]
  },
  {
   "cell_type": "code",
   "execution_count": 66,
   "metadata": {},
   "outputs": [
    {
     "data": {
      "text/html": [
       "<div>\n",
       "<style scoped>\n",
       "    .dataframe tbody tr th:only-of-type {\n",
       "        vertical-align: middle;\n",
       "    }\n",
       "\n",
       "    .dataframe tbody tr th {\n",
       "        vertical-align: top;\n",
       "    }\n",
       "\n",
       "    .dataframe thead th {\n",
       "        text-align: right;\n",
       "    }\n",
       "</style>\n",
       "<table border=\"1\" class=\"dataframe\">\n",
       "  <thead>\n",
       "    <tr style=\"text-align: right;\">\n",
       "      <th></th>\n",
       "      <th>id</th>\n",
       "      <th>episode_id</th>\n",
       "      <th>number</th>\n",
       "      <th>raw_text</th>\n",
       "      <th>timestamp_in_ms</th>\n",
       "      <th>speaking_line</th>\n",
       "      <th>character_id</th>\n",
       "      <th>location_id</th>\n",
       "      <th>raw_character_text</th>\n",
       "      <th>raw_location_text</th>\n",
       "      <th>spoken_words</th>\n",
       "      <th>normalized_text</th>\n",
       "      <th>word_count</th>\n",
       "      <th>all_tokens</th>\n",
       "      <th>tokens_without_stopwords</th>\n",
       "      <th>cleaned_tokens</th>\n",
       "      <th>stems</th>\n",
       "    </tr>\n",
       "  </thead>\n",
       "  <tbody>\n",
       "    <tr>\n",
       "      <th>0</th>\n",
       "      <td>9549</td>\n",
       "      <td>32</td>\n",
       "      <td>209</td>\n",
       "      <td>Miss Hoover: No, actually, it was a little of ...</td>\n",
       "      <td>848000</td>\n",
       "      <td>True</td>\n",
       "      <td>464</td>\n",
       "      <td>3</td>\n",
       "      <td>Miss Hoover</td>\n",
       "      <td>Springfield Elementary School</td>\n",
       "      <td>no actually it was a little of both sometimes ...</td>\n",
       "      <td>no actually it was a little of both sometimes ...</td>\n",
       "      <td>31.0</td>\n",
       "      <td>[no, actually, it, was, a, little, of, both, s...</td>\n",
       "      <td>[actually, little, disease, magazines, news, s...</td>\n",
       "      <td>[actually, little, disease, magazines, news, s...</td>\n",
       "      <td>[actual, littl, diseas, magazin, news, show, n...</td>\n",
       "    </tr>\n",
       "    <tr>\n",
       "      <th>1</th>\n",
       "      <td>9550</td>\n",
       "      <td>32</td>\n",
       "      <td>210</td>\n",
       "      <td>Lisa Simpson: (NEAR TEARS) Where's Mr. Bergstrom?</td>\n",
       "      <td>856000</td>\n",
       "      <td>True</td>\n",
       "      <td>9</td>\n",
       "      <td>3</td>\n",
       "      <td>Lisa Simpson</td>\n",
       "      <td>Springfield Elementary School</td>\n",
       "      <td>wheres mr bergstrom</td>\n",
       "      <td>wheres mr bergstrom</td>\n",
       "      <td>3.0</td>\n",
       "      <td>[where, s, mr, bergstrom]</td>\n",
       "      <td>[s, mr, bergstrom]</td>\n",
       "      <td>[mr, bergstrom]</td>\n",
       "      <td>[mr, bergstrom]</td>\n",
       "    </tr>\n",
       "    <tr>\n",
       "      <th>2</th>\n",
       "      <td>9551</td>\n",
       "      <td>32</td>\n",
       "      <td>211</td>\n",
       "      <td>Miss Hoover: I don't know. Although I'd sure l...</td>\n",
       "      <td>856000</td>\n",
       "      <td>True</td>\n",
       "      <td>464</td>\n",
       "      <td>3</td>\n",
       "      <td>Miss Hoover</td>\n",
       "      <td>Springfield Elementary School</td>\n",
       "      <td>i dont know although id sure like to talk to h...</td>\n",
       "      <td>i dont know although id sure like to talk to h...</td>\n",
       "      <td>22.0</td>\n",
       "      <td>[i, do, nt, know, although, i, d, sure, like, ...</td>\n",
       "      <td>[nt, know, d, sure, like, talk, nt, touch, les...</td>\n",
       "      <td>[nt, know, sure, like, talk, nt, touch, lesson...</td>\n",
       "      <td>[nt, know, sure, like, talk, nt, touch, lesson...</td>\n",
       "    </tr>\n",
       "    <tr>\n",
       "      <th>3</th>\n",
       "      <td>9552</td>\n",
       "      <td>32</td>\n",
       "      <td>212</td>\n",
       "      <td>Lisa Simpson: That life is worth living.</td>\n",
       "      <td>864000</td>\n",
       "      <td>True</td>\n",
       "      <td>9</td>\n",
       "      <td>3</td>\n",
       "      <td>Lisa Simpson</td>\n",
       "      <td>Springfield Elementary School</td>\n",
       "      <td>that life is worth living</td>\n",
       "      <td>that life is worth living</td>\n",
       "      <td>5.0</td>\n",
       "      <td>[that, life, is, worth, living]</td>\n",
       "      <td>[life, worth, living]</td>\n",
       "      <td>[life, worth, living]</td>\n",
       "      <td>[life, worth, live]</td>\n",
       "    </tr>\n",
       "    <tr>\n",
       "      <th>4</th>\n",
       "      <td>9553</td>\n",
       "      <td>32</td>\n",
       "      <td>213</td>\n",
       "      <td>Edna Krabappel-Flanders: The polls will be ope...</td>\n",
       "      <td>864000</td>\n",
       "      <td>True</td>\n",
       "      <td>40</td>\n",
       "      <td>3</td>\n",
       "      <td>Edna Krabappel-Flanders</td>\n",
       "      <td>Springfield Elementary School</td>\n",
       "      <td>the polls will be open from now until the end ...</td>\n",
       "      <td>the polls will be open from now until the end ...</td>\n",
       "      <td>33.0</td>\n",
       "      <td>[the, polls, will, be, open, from, now, until,...</td>\n",
       "      <td>[polls, open, end, recess, case, decided, thou...</td>\n",
       "      <td>[polls, open, end, recess, case, decided, thou...</td>\n",
       "      <td>[poll, open, end, recess, case, decid, thought...</td>\n",
       "    </tr>\n",
       "  </tbody>\n",
       "</table>\n",
       "</div>"
      ],
      "text/plain": [
       "     id  episode_id  number  \\\n",
       "0  9549          32     209   \n",
       "1  9550          32     210   \n",
       "2  9551          32     211   \n",
       "3  9552          32     212   \n",
       "4  9553          32     213   \n",
       "\n",
       "                                            raw_text  timestamp_in_ms  \\\n",
       "0  Miss Hoover: No, actually, it was a little of ...           848000   \n",
       "1  Lisa Simpson: (NEAR TEARS) Where's Mr. Bergstrom?           856000   \n",
       "2  Miss Hoover: I don't know. Although I'd sure l...           856000   \n",
       "3           Lisa Simpson: That life is worth living.           864000   \n",
       "4  Edna Krabappel-Flanders: The polls will be ope...           864000   \n",
       "\n",
       "   speaking_line  character_id  location_id       raw_character_text  \\\n",
       "0           True           464            3              Miss Hoover   \n",
       "1           True             9            3             Lisa Simpson   \n",
       "2           True           464            3              Miss Hoover   \n",
       "3           True             9            3             Lisa Simpson   \n",
       "4           True            40            3  Edna Krabappel-Flanders   \n",
       "\n",
       "               raw_location_text  \\\n",
       "0  Springfield Elementary School   \n",
       "1  Springfield Elementary School   \n",
       "2  Springfield Elementary School   \n",
       "3  Springfield Elementary School   \n",
       "4  Springfield Elementary School   \n",
       "\n",
       "                                        spoken_words  \\\n",
       "0  no actually it was a little of both sometimes ...   \n",
       "1                                wheres mr bergstrom   \n",
       "2  i dont know although id sure like to talk to h...   \n",
       "3                          that life is worth living   \n",
       "4  the polls will be open from now until the end ...   \n",
       "\n",
       "                                     normalized_text  word_count  \\\n",
       "0  no actually it was a little of both sometimes ...        31.0   \n",
       "1                                wheres mr bergstrom         3.0   \n",
       "2  i dont know although id sure like to talk to h...        22.0   \n",
       "3                          that life is worth living         5.0   \n",
       "4  the polls will be open from now until the end ...        33.0   \n",
       "\n",
       "                                          all_tokens  \\\n",
       "0  [no, actually, it, was, a, little, of, both, s...   \n",
       "1                          [where, s, mr, bergstrom]   \n",
       "2  [i, do, nt, know, although, i, d, sure, like, ...   \n",
       "3                    [that, life, is, worth, living]   \n",
       "4  [the, polls, will, be, open, from, now, until,...   \n",
       "\n",
       "                            tokens_without_stopwords  \\\n",
       "0  [actually, little, disease, magazines, news, s...   \n",
       "1                                 [s, mr, bergstrom]   \n",
       "2  [nt, know, d, sure, like, talk, nt, touch, les...   \n",
       "3                              [life, worth, living]   \n",
       "4  [polls, open, end, recess, case, decided, thou...   \n",
       "\n",
       "                                      cleaned_tokens  \\\n",
       "0  [actually, little, disease, magazines, news, s...   \n",
       "1                                    [mr, bergstrom]   \n",
       "2  [nt, know, sure, like, talk, nt, touch, lesson...   \n",
       "3                              [life, worth, living]   \n",
       "4  [polls, open, end, recess, case, decided, thou...   \n",
       "\n",
       "                                               stems  \n",
       "0  [actual, littl, diseas, magazin, news, show, n...  \n",
       "1                                    [mr, bergstrom]  \n",
       "2  [nt, know, sure, like, talk, nt, touch, lesson...  \n",
       "3                                [life, worth, live]  \n",
       "4  [poll, open, end, recess, case, decid, thought...  "
      ]
     },
     "execution_count": 66,
     "metadata": {},
     "output_type": "execute_result"
    }
   ],
   "source": [
    "nlp = spacy.load(\"en_core_web_sm\") ### load en_core_web_sm and disable the tagger, parser and ner.\n",
    "nlp.disable_pipes('tagger', 'parser', 'ner')   ### and disable the tagger, parser and ner.\n",
    "stopwords = spacy.lang.en.stop_words.STOP_WORDS ### load the list of stopwords from spacy for the English language\n",
    "stemmer = PorterStemmer() ### initialize the stemmer from NLTK\n",
    "\n",
    "df_script[\"spoken_words\"] = df_script[\"spoken_words\"].str.lower().str.replace('[^a-zA-Z ]', '') ### Your code to lower case and remove non-alphabetic characters\n",
    "df_script.dropna(subset=[\"spoken_words\"], inplace=True)\n",
    "\n",
    "script_words_array = []\n",
    "df_script_words = df_script[\"spoken_words\"].apply(lambda cell: script_words_array.append(cell))\n",
    "\n",
    "def tokenize(input_string):\n",
    "    doc = nlp(input_string)\n",
    "    tokens = []\n",
    "    for token in doc:\n",
    "        tokens.append(token.text)\n",
    "    return tokens\n",
    "\n",
    "df_script['all_tokens'] = df_script['spoken_words'].apply(lambda cell: tokenize(cell))\n",
    "\n",
    "def remove_stopwords(input_list_of_tokens):\n",
    "    return [token for token in input_list_of_tokens if not token in stopwords]\n",
    "\n",
    "df_script['tokens_without_stopwords'] = df_script['all_tokens'].apply(lambda cell: remove_stopwords(cell))\n",
    "\n",
    "def remove_single_characters(input_list_of_tokens):\n",
    "    return [token for token in input_list_of_tokens if not len(token) == 1]\n",
    "\n",
    "df_script['cleaned_tokens'] = df_script['tokens_without_stopwords'].apply(lambda cell: remove_single_characters(cell))\n",
    "\n",
    "def perform_stemming(input_list_of_tokens):\n",
    "    stems = []\n",
    "    for token in input_list_of_tokens:\n",
    "        stems.append(stemmer.stem(token))\n",
    "    return stems\n",
    "\n",
    "df_script['stems'] = df_script['cleaned_tokens'].apply(lambda cell: perform_stemming(cell))\n",
    "\n",
    "df_script.head()"
   ]
  },
  {
   "cell_type": "code",
   "execution_count": 67,
   "metadata": {},
   "outputs": [
    {
     "name": "stdout",
     "output_type": "stream",
     "text": [
      "[('nt', 15983), ('oh', 8172), ('like', 6269), ('know', 4969), ('ve', 4676), ('got', 4635), ('hey', 4290), ('homer', 4274), ('right', 4109), (nan, 4075), ('look', 3708), ('bart', 3580), ('want', 3571), ('let', 3284), ('think', 3265), ('come', 3192), ('ill', 3188), ('good', 3085), ('yeah', 2988), ('time', 2732)]\n"
     ]
    }
   ],
   "source": [
    "#### Count the words in the scripts and print out the most common 20, remove any single character tokens and stem\n",
    "counter = Counter(df_script['stems'].explode())\n",
    "twenty_most_common = counter.most_common(20)\n",
    "print(twenty_most_common)"
   ]
  },
  {
   "cell_type": "code",
   "execution_count": 68,
   "metadata": {},
   "outputs": [
    {
     "data": {
      "image/png": "[encoded data removed]",
      "text/plain": [
       "<Figure size 432x288 with 1 Axes>"
      ]
     },
     "metadata": {
      "needs_background": "light"
     },
     "output_type": "display_data"
    }
   ],
   "source": [
    "#### draw a bar plot with the x axis as the words and the y axis as the frequencys\n",
    "x = np.array(twenty_most_common).T[0]\n",
    "list_of_tuples = list(zip(*twenty_most_common))\n",
    "list_of_lists = [list(elem) for elem in list_of_tuples]\n",
    "plt.bar(np.array(list_of_lists[0]), np.array(list_of_lists[1]))\n",
    "plt.xticks(range(0, x.shape[0]), x, rotation='vertical')\n",
    "plt.show()"
   ]
  },
  {
   "cell_type": "markdown",
   "metadata": {},
   "source": [
    "Generate a word cloud to visualize the frequencies:\n",
    "A word cloud is a graphical representation of frequently used words in the normalized text.\n",
    "The height of each word in this picture is an indication of the frequency of occurrence of the word in the entire text.\n",
    "You will need to install the package `wordcloud`.\n",
    "To achieve a homogeneous output, set the `max_words` to 100 and `max_font_size` to 60.\n",
    "Make sure the same word does not appear more than once."
   ]
  },
  {
   "cell_type": "code",
   "execution_count": 69,
   "metadata": {},
   "outputs": [],
   "source": [
    "from wordcloud import WordCloud"
   ]
  },
  {
   "cell_type": "code",
   "execution_count": 70,
   "metadata": {},
   "outputs": [
    {
     "data": {
      "text/plain": [
       "<matplotlib.image.AxesImage at 0x7f7c00d3fd10>"
      ]
     },
     "execution_count": 70,
     "metadata": {},
     "output_type": "execute_result"
    },
    {
     "data": {
      "image/png": "[encoded data removed]",
      "text/plain": [
       "<Figure size 864x864 with 1 Axes>"
      ]
     },
     "metadata": {
      "needs_background": "light"
     },
     "output_type": "display_data"
    }
   ],
   "source": [
    "twenty_most_common_words_as_string=(\" \").join(x)\n",
    "\n",
    "wordcloud = WordCloud().generate(twenty_most_common_words_as_string)\n",
    "\n",
    "fig = plt.figure(1, figsize=(12, 12))\n",
    "plt.axis(\"off\")\n",
    "plt.imshow(wordcloud, interpolation=\"bilinear\")"
   ]
  },
  {
   "cell_type": "markdown",
   "metadata": {},
   "source": [
    "### Sub-Task 3: Common Named Entities \n",
    "Apply named entity recognition using SpaCy and generate a word cloud of the top 50\n",
    "named entities that have the type `PERSON`, using the same approach\n",
    "for visualization as above. Take into account that you cannot simply use the\n",
    "output of the previous step and need to undo the stemming. Since the named entity\n",
    "recognition takes quite some time, use only the first `10000` scripts."
   ]
  },
  {
   "cell_type": "code",
   "execution_count": 71,
   "metadata": {},
   "outputs": [
    {
     "name": "stdout",
     "output_type": "stream",
     "text": [
      "lisa simpson bart homer simpson burns michael jackson bart simpson homie maggie lisa simpson skinner krusty lurleen krabappel martin bob steve marge marge haw haw jack marge bart bart mm barney kent brockman lanley patty michael god marge simpson eenie meenie minee moe xray specs homer j simpson otto tom jones bergstrom bartender hibbert moon mike rotch nick hey simpson lenny bart lisa ariel kool moe dee barney you mike scioscia ken griffey jr scioscia\n"
     ]
    },
    {
     "data": {
      "text/plain": [
       "<matplotlib.image.AxesImage at 0x7f7ca7f3cbd0>"
      ]
     },
     "execution_count": 71,
     "metadata": {},
     "output_type": "execute_result"
    },
    {
     "data": {
      "image/png": "[encoded data removed]",
      "text/plain": [
       "<Figure size 864x864 with 1 Axes>"
      ]
     },
     "metadata": {
      "needs_background": "light"
     },
     "output_type": "display_data"
    }
   ],
   "source": [
    "nlp = spacy.load(\"en_core_web_sm\") # Load the small English spacy model again, this time with all components enabled\n",
    "\n",
    "named_entities = []\n",
    "for script in df_script.spoken_words.tolist()[:10000]:\n",
    "    doc = nlp(script)\n",
    "    for entity in doc.ents:\n",
    "        if entity.label_ == \"PERSON\":\n",
    "            named_entities.append(entity.text)\n",
    "        #print(entity.text, '-->', entity.label_)\n",
    "\n",
    "counter = Counter(named_entities)\n",
    "fifty_most_common_person_entities = counter.most_common(50)\n",
    "fifty_most_common_person_entities_as_string=(\" \").join(np.array(fifty_most_common_person_entities).T[0])\n",
    "print(fifty_most_common_person_entities_as_string)\n",
    "\n",
    "wordcloud = WordCloud().generate(fifty_most_common_person_entities_as_string)\n",
    "\n",
    "fig = plt.figure(1, figsize=(12, 12))\n",
    "plt.axis(\"off\")\n",
    "plt.imshow(wordcloud, interpolation=\"bilinear\")"
   ]
  },
  {
   "cell_type": "markdown",
   "metadata": {},
   "source": [
    "How well does the named entity recognition work? Do you notice some strange \"people\" in there?"
   ]
  },
  {
   "cell_type": "markdown",
   "metadata": {},
   "source": [
    "### Sub Task 4 : Sophistication of Speech\n",
    " "
   ]
  },
  {
   "cell_type": "markdown",
   "metadata": {},
   "source": [
    "Take into account the top 10 characters from the first subtask (based on line count), it is interesting to see whether there are big differences in the sophistication of speech or vocabulary size between the characters.\n",
    "To measure this, we turn to the Flesch Reading Ease. Although designed for written text we use it here on spoken words.\n",
    "This measures indicates how difficult a passage in English is to understand and is based on a ranking scale of 0-100, where higher scores indicate material that is easier to read; lower numbers mark passages that are more difficult to read.\n",
    "For more information look at the [wiki page](https://en.wikipedia.org/wiki/Flesch%E2%80%93Kincaid_readability_tests).\n",
    "\n",
    "$206.835 - 1.015 \\times \\frac{total words}{total sentences} - 84.6 \\times \\frac{total syllables}{total words}$\n",
    "\n",
    "For syllable counts, download `cmudict` from the NLTK library and count the vowel sounds from the Carnegie Mellon Pronouncing Dictionary (cmudict).\n",
    "Then count vowel sounds in each word, if a word is not in the dictionary do not count it in.\n",
    "CMUdict marks each vowel with a stress tag, 0 (unstressed), 1 (stressed), or 2 (secondary stress)."
   ]
  },
  {
   "cell_type": "code",
   "execution_count": 72,
   "metadata": {},
   "outputs": [
    {
     "name": "stdout",
     "output_type": "stream",
     "text": [
      "(132095, 17)\n",
      "(79603, 4)\n"
     ]
    },
    {
     "data": {
      "text/html": [
       "<div>\n",
       "<style scoped>\n",
       "    .dataframe tbody tr th:only-of-type {\n",
       "        vertical-align: middle;\n",
       "    }\n",
       "\n",
       "    .dataframe tbody tr th {\n",
       "        vertical-align: top;\n",
       "    }\n",
       "\n",
       "    .dataframe thead th {\n",
       "        text-align: right;\n",
       "    }\n",
       "</style>\n",
       "<table border=\"1\" class=\"dataframe\">\n",
       "  <thead>\n",
       "    <tr style=\"text-align: right;\">\n",
       "      <th></th>\n",
       "      <th>character_id</th>\n",
       "      <th>cleaned_tokens</th>\n",
       "      <th>word_count</th>\n",
       "      <th>raw_text</th>\n",
       "    </tr>\n",
       "  </thead>\n",
       "  <tbody>\n",
       "    <tr>\n",
       "      <th>1</th>\n",
       "      <td>9.0</td>\n",
       "      <td>[mr, bergstrom]</td>\n",
       "      <td>3.0</td>\n",
       "      <td>Lisa Simpson: (NEAR TEARS) Where's Mr. Bergstrom?</td>\n",
       "    </tr>\n",
       "    <tr>\n",
       "      <th>3</th>\n",
       "      <td>9.0</td>\n",
       "      <td>[life, worth, living]</td>\n",
       "      <td>5.0</td>\n",
       "      <td>Lisa Simpson: That life is worth living.</td>\n",
       "    </tr>\n",
       "    <tr>\n",
       "      <th>7</th>\n",
       "      <td>8.0</td>\n",
       "      <td>[victory, party, slide]</td>\n",
       "      <td>5.0</td>\n",
       "      <td>Bart Simpson: Victory party under the slide!</td>\n",
       "    </tr>\n",
       "    <tr>\n",
       "      <th>9</th>\n",
       "      <td>9.0</td>\n",
       "      <td>[mr, bergstrom, mr, bergstrom]</td>\n",
       "      <td>4.0</td>\n",
       "      <td>Lisa Simpson: (CALLING) Mr. Bergstrom! Mr. Ber...</td>\n",
       "    </tr>\n",
       "    <tr>\n",
       "      <th>11</th>\n",
       "      <td>9.0</td>\n",
       "      <td>[know, find]</td>\n",
       "      <td>8.0</td>\n",
       "      <td>Lisa Simpson: Do you know where I could find him?</td>\n",
       "    </tr>\n",
       "  </tbody>\n",
       "</table>\n",
       "</div>"
      ],
      "text/plain": [
       "    character_id                  cleaned_tokens  word_count  \\\n",
       "1            9.0                 [mr, bergstrom]         3.0   \n",
       "3            9.0           [life, worth, living]         5.0   \n",
       "7            8.0         [victory, party, slide]         5.0   \n",
       "9            9.0  [mr, bergstrom, mr, bergstrom]         4.0   \n",
       "11           9.0                    [know, find]         8.0   \n",
       "\n",
       "                                             raw_text  \n",
       "1   Lisa Simpson: (NEAR TEARS) Where's Mr. Bergstrom?  \n",
       "3            Lisa Simpson: That life is worth living.  \n",
       "7        Bart Simpson: Victory party under the slide!  \n",
       "9   Lisa Simpson: (CALLING) Mr. Bergstrom! Mr. Ber...  \n",
       "11  Lisa Simpson: Do you know where I could find him?  "
      ]
     },
     "execution_count": 72,
     "metadata": {},
     "output_type": "execute_result"
    }
   ],
   "source": [
    "def character_id_to_int():\n",
    "    df_script[\"character_id\"] = df_script[\"character_id\"].apply(lambda cell: conv(cell))\n",
    "    df_script.dropna(subset=[\"character_id\"], inplace=True)\n",
    "character_id_to_int()\n",
    "\n",
    "def keep_rows_by_character_id(character_ids):\n",
    "    return df_script.loc[df_script['character_id'].isin(character_ids)]\n",
    "df_script_top_ten = keep_rows_by_character_id(df_first_n_items_by_sentences[\"id\"].head(10))\n",
    "\n",
    "def keep_needed_columns(df, list_of_needed_columns):\n",
    "    return df[list_of_needed_columns]\n",
    "\n",
    "df_script_top_ten_final = keep_needed_columns(df_script_top_ten, [\"character_id\", \"cleaned_tokens\", \"word_count\", \"raw_text\"])\n",
    "print(df_script.shape)\n",
    "print(df_script_top_ten_final.shape)\n",
    "df_script_top_ten_final.head()"
   ]
  },
  {
   "cell_type": "code",
   "execution_count": 73,
   "metadata": {
    "scrolled": false
   },
   "outputs": [
    {
     "name": "stderr",
     "output_type": "stream",
     "text": [
      "[nltk_data] Downloading package cmudict to /home/st/nltk_data...\n",
      "[nltk_data]   Package cmudict is already up-to-date!\n",
      "/home/st/miniconda3/envs/text_analytics/lib/python3.7/site-packages/ipykernel_launcher.py:31: SettingWithCopyWarning: \n",
      "A value is trying to be set on a copy of a slice from a DataFrame.\n",
      "Try using .loc[row_indexer,col_indexer] = value instead\n",
      "\n",
      "See the caveats in the documentation: https://pandas.pydata.org/pandas-docs/stable/user_guide/indexing.html#returning-a-view-versus-a-copy\n",
      "/home/st/miniconda3/envs/text_analytics/lib/python3.7/site-packages/ipykernel_launcher.py:32: SettingWithCopyWarning: \n",
      "A value is trying to be set on a copy of a slice from a DataFrame.\n",
      "Try using .loc[row_indexer,col_indexer] = value instead\n",
      "\n",
      "See the caveats in the documentation: https://pandas.pydata.org/pandas-docs/stable/user_guide/indexing.html#returning-a-view-versus-a-copy\n"
     ]
    },
    {
     "data": {
      "text/html": [
       "<div>\n",
       "<style scoped>\n",
       "    .dataframe tbody tr th:only-of-type {\n",
       "        vertical-align: middle;\n",
       "    }\n",
       "\n",
       "    .dataframe tbody tr th {\n",
       "        vertical-align: top;\n",
       "    }\n",
       "\n",
       "    .dataframe thead th {\n",
       "        text-align: right;\n",
       "    }\n",
       "</style>\n",
       "<table border=\"1\" class=\"dataframe\">\n",
       "  <thead>\n",
       "    <tr style=\"text-align: right;\">\n",
       "      <th></th>\n",
       "      <th>word_count</th>\n",
       "      <th>syllable_count</th>\n",
       "      <th>sentence_count</th>\n",
       "    </tr>\n",
       "    <tr>\n",
       "      <th>character_id</th>\n",
       "      <th></th>\n",
       "      <th></th>\n",
       "      <th></th>\n",
       "    </tr>\n",
       "  </thead>\n",
       "  <tbody>\n",
       "    <tr>\n",
       "      <th>1.0</th>\n",
       "      <td>1270666.0</td>\n",
       "      <td>34.0</td>\n",
       "      <td>6.0</td>\n",
       "    </tr>\n",
       "    <tr>\n",
       "      <th>2.0</th>\n",
       "      <td>682780.0</td>\n",
       "      <td>70.0</td>\n",
       "      <td>32.0</td>\n",
       "    </tr>\n",
       "    <tr>\n",
       "      <th>3.0</th>\n",
       "      <td>28138.0</td>\n",
       "      <td>0.0</td>\n",
       "      <td>0.0</td>\n",
       "    </tr>\n",
       "    <tr>\n",
       "      <th>8.0</th>\n",
       "      <td>218814.0</td>\n",
       "      <td>45.0</td>\n",
       "      <td>24.0</td>\n",
       "    </tr>\n",
       "    <tr>\n",
       "      <th>9.0</th>\n",
       "      <td>364576.0</td>\n",
       "      <td>123.0</td>\n",
       "      <td>56.0</td>\n",
       "    </tr>\n",
       "    <tr>\n",
       "      <th>11.0</th>\n",
       "      <td>22909.0</td>\n",
       "      <td>0.0</td>\n",
       "      <td>0.0</td>\n",
       "    </tr>\n",
       "    <tr>\n",
       "      <th>15.0</th>\n",
       "      <td>36623.0</td>\n",
       "      <td>0.0</td>\n",
       "      <td>0.0</td>\n",
       "    </tr>\n",
       "    <tr>\n",
       "      <th>17.0</th>\n",
       "      <td>32855.0</td>\n",
       "      <td>0.0</td>\n",
       "      <td>0.0</td>\n",
       "    </tr>\n",
       "    <tr>\n",
       "      <th>25.0</th>\n",
       "      <td>14985.0</td>\n",
       "      <td>4.0</td>\n",
       "      <td>5.0</td>\n",
       "    </tr>\n",
       "    <tr>\n",
       "      <th>31.0</th>\n",
       "      <td>20168.0</td>\n",
       "      <td>0.0</td>\n",
       "      <td>0.0</td>\n",
       "    </tr>\n",
       "  </tbody>\n",
       "</table>\n",
       "</div>"
      ],
      "text/plain": [
       "              word_count  syllable_count  sentence_count\n",
       "character_id                                            \n",
       "1.0            1270666.0            34.0             6.0\n",
       "2.0             682780.0            70.0            32.0\n",
       "3.0              28138.0             0.0             0.0\n",
       "8.0             218814.0            45.0            24.0\n",
       "9.0             364576.0           123.0            56.0\n",
       "11.0             22909.0             0.0             0.0\n",
       "15.0             36623.0             0.0             0.0\n",
       "17.0             32855.0             0.0             0.0\n",
       "25.0             14985.0             4.0             5.0\n",
       "31.0             20168.0             0.0             0.0"
      ]
     },
     "execution_count": 73,
     "metadata": {},
     "output_type": "execute_result"
    }
   ],
   "source": [
    "import nltk\n",
    "nltk.download('cmudict')\n",
    "from nltk.corpus import cmudict\n",
    "phoneme_dict = dict(cmudict.entries())\n",
    "nlp = spacy.load(\"en_core_web_sm\", disable=[\"tagger\", \"parser\", \"ner\"]) # load the same spacy model again, with tagger, parser and ner disabled.\n",
    "nlp.add_pipe(nlp.create_pipe('sentencizer'))\n",
    "\n",
    "def syllable_counter(word):\n",
    "    count = 0\n",
    "    phones = cmudict.dict().get(word)\n",
    "    if phones:\n",
    "        phones0 = phones[0]\n",
    "        count = len([p for p in phones0 if p[-1].isdigit()])\n",
    "    #else:\n",
    "    #    print(\"Word not found in cmudict\")\n",
    "    return count\n",
    "\n",
    "def total_sylls(tokens): \n",
    "    ### function to use with apply method, to count the total number of syllable in line of a script \n",
    "    syllables = []\n",
    "    for token in tokens:\n",
    "        syllables.append(syllable_counter(token))\n",
    "    return sum(syllables)\n",
    "    \n",
    "def sentence_count(raw_text):\n",
    "    ### function to use with apply method, to count the total number of sentences in line of a script \n",
    "    doc = nlp(raw_text)\n",
    "    return len(list(doc.sents))\n",
    "\n",
    "# TODO: remove [:2] and improve performance\n",
    "df_script_top_ten['syllable_count'] = df_script_top_ten[\"cleaned_tokens\"][:50].apply(lambda cell: total_sylls(cell))\n",
    "df_script_top_ten['sentence_count'] = df_script_top_ten[\"raw_text\"][:50].apply(lambda cell: sentence_count(cell))\n",
    "#df_script_top_ten.head()\n",
    "top_characters_counts = df_script_top_ten.groupby('character_id').agg('sum') ## use aggragations to find the word_count, syllable_count and sentence_count per person \n",
    "top_characters_counts = top_characters_counts[[\"word_count\", \"syllable_count\", \"sentence_count\"]]\n",
    "top_characters_counts.head(10)"
   ]
  },
  {
   "cell_type": "code",
   "execution_count": 74,
   "metadata": {},
   "outputs": [
    {
     "name": "stderr",
     "output_type": "stream",
     "text": [
      "/home/st/miniconda3/envs/text_analytics/lib/python3.7/site-packages/ipykernel_launcher.py:3: RuntimeWarning: divide by zero encountered in double_scalars\n",
      "  This is separate from the ipykernel package so we can avoid doing imports until\n"
     ]
    },
    {
     "data": {
      "text/plain": [
       "<AxesSubplot:xlabel='name'>"
      ]
     },
     "execution_count": 74,
     "metadata": {},
     "output_type": "execute_result"
    },
    {
     "data": {
      "image/png": "[encoded data removed]",
      "text/plain": [
       "<Figure size 432x288 with 1 Axes>"
      ]
     },
     "metadata": {
      "needs_background": "light"
     },
     "output_type": "display_data"
    }
   ],
   "source": [
    "def calculate_flesch_readability(df_row):    \n",
    "    try:\n",
    "        flesch_readability = 206.835 - 1.015 * (df_row.word_count/df_row.sentence_count) - 84.6 * (df_row.syllable_count/df_row.word_count)\n",
    "        return flesch_readability\n",
    "    except:\n",
    "        # TODO: kann weg wenn oben für alles berechnet wird und keine 0 mehr auftaucht\n",
    "        return 0\n",
    "\n",
    "top_characters_counts['Flesch_readability'] = top_characters_counts.apply(calculate_flesch_readability, axis=1)\n",
    "#top_characters_counts.head()\n",
    "merge_characters_flesch = pd.merge(top_characters_counts, df_characters, how=\"inner\", left_on=\"character_id\", right_on=\"id\") ### merge with df_characters to find the character nanmes\n",
    "merge_characters_flesch_sorted = merge_characters_flesch.sort_values(by=['Flesch_readability'], ascending=False)\n",
    "merge_characters_flesch_sorted.head()\n",
    "\n",
    "### draw plot \n",
    "df_flesch_readability = merge_characters_flesch_sorted[[\"Flesch_readability\", \"name\", \"id\"]].head(10)\n",
    "#df_first_n_items.head()\n",
    "df_flesch_readability.plot.bar(x='name', y='Flesch_readability')"
   ]
  },
  {
   "cell_type": "markdown",
   "metadata": {},
   "source": [
    "## Task 2: TF-IDF ( 3 + 4 = 7 points)\n"
   ]
  },
  {
   "cell_type": "markdown",
   "metadata": {},
   "source": [
    "## Sub Task 1: \n",
    "Despite all the preprocessing, so far the top words we looked at are not so informative.\n",
    "We wish to find out the important words that are spoken by the top characters.\n",
    "For example, the youngest of the family should have \"mom\" as an important word.\n",
    "We looked at the Term Frequency - Inverse Document Frequency (TF-IDF) weighting in the lecture, so let's use that here to detect the most important words per character.\n",
    "In this case, each script line is a document for a certain character who spoke the words.\n",
    "Use `CountVectorizer` and `TfidfTransformers` from scikit-learn, and use the scikit-learn stop word list to remove stop words and remove the words with a frequency less than 5 from the analysis.\n",
    "Then plot the TF-IDF values for the top 10 words for Homer, Marge, Bart, and Lisa Simpson as a bar plot."
   ]
  },
  {
   "cell_type": "code",
   "execution_count": 75,
   "metadata": {},
   "outputs": [
    {
     "data": {
      "text/html": [
       "<div>\n",
       "<style scoped>\n",
       "    .dataframe tbody tr th:only-of-type {\n",
       "        vertical-align: middle;\n",
       "    }\n",
       "\n",
       "    .dataframe tbody tr th {\n",
       "        vertical-align: top;\n",
       "    }\n",
       "\n",
       "    .dataframe thead th {\n",
       "        text-align: right;\n",
       "    }\n",
       "</style>\n",
       "<table border=\"1\" class=\"dataframe\">\n",
       "  <thead>\n",
       "    <tr style=\"text-align: right;\">\n",
       "      <th></th>\n",
       "      <th>id</th>\n",
       "      <th>episode_id</th>\n",
       "      <th>number</th>\n",
       "      <th>raw_text</th>\n",
       "      <th>timestamp_in_ms</th>\n",
       "      <th>speaking_line</th>\n",
       "      <th>character_id</th>\n",
       "      <th>location_id</th>\n",
       "      <th>raw_character_text</th>\n",
       "      <th>raw_location_text</th>\n",
       "      <th>spoken_words</th>\n",
       "      <th>normalized_text</th>\n",
       "      <th>word_count</th>\n",
       "      <th>all_tokens</th>\n",
       "      <th>tokens_without_stopwords</th>\n",
       "      <th>cleaned_tokens</th>\n",
       "      <th>stems</th>\n",
       "    </tr>\n",
       "  </thead>\n",
       "  <tbody>\n",
       "    <tr>\n",
       "      <th>0</th>\n",
       "      <td>9549</td>\n",
       "      <td>32</td>\n",
       "      <td>209</td>\n",
       "      <td>Miss Hoover: No, actually, it was a little of ...</td>\n",
       "      <td>848000</td>\n",
       "      <td>True</td>\n",
       "      <td>464.0</td>\n",
       "      <td>3</td>\n",
       "      <td>Miss Hoover</td>\n",
       "      <td>Springfield Elementary School</td>\n",
       "      <td>no actually it was a little of both sometimes ...</td>\n",
       "      <td>no actually it was a little of both sometimes ...</td>\n",
       "      <td>31.0</td>\n",
       "      <td>[no, actually, it, was, a, little, of, both, s...</td>\n",
       "      <td>[actually, little, disease, magazines, news, s...</td>\n",
       "      <td>[actually, little, disease, magazines, news, s...</td>\n",
       "      <td>[actual, littl, diseas, magazin, news, show, n...</td>\n",
       "    </tr>\n",
       "    <tr>\n",
       "      <th>1</th>\n",
       "      <td>9550</td>\n",
       "      <td>32</td>\n",
       "      <td>210</td>\n",
       "      <td>Lisa Simpson: (NEAR TEARS) Where's Mr. Bergstrom?</td>\n",
       "      <td>856000</td>\n",
       "      <td>True</td>\n",
       "      <td>9.0</td>\n",
       "      <td>3</td>\n",
       "      <td>Lisa Simpson</td>\n",
       "      <td>Springfield Elementary School</td>\n",
       "      <td>wheres mr bergstrom</td>\n",
       "      <td>wheres mr bergstrom</td>\n",
       "      <td>3.0</td>\n",
       "      <td>[where, s, mr, bergstrom]</td>\n",
       "      <td>[s, mr, bergstrom]</td>\n",
       "      <td>[mr, bergstrom]</td>\n",
       "      <td>[mr, bergstrom]</td>\n",
       "    </tr>\n",
       "    <tr>\n",
       "      <th>2</th>\n",
       "      <td>9551</td>\n",
       "      <td>32</td>\n",
       "      <td>211</td>\n",
       "      <td>Miss Hoover: I don't know. Although I'd sure l...</td>\n",
       "      <td>856000</td>\n",
       "      <td>True</td>\n",
       "      <td>464.0</td>\n",
       "      <td>3</td>\n",
       "      <td>Miss Hoover</td>\n",
       "      <td>Springfield Elementary School</td>\n",
       "      <td>i dont know although id sure like to talk to h...</td>\n",
       "      <td>i dont know although id sure like to talk to h...</td>\n",
       "      <td>22.0</td>\n",
       "      <td>[i, do, nt, know, although, i, d, sure, like, ...</td>\n",
       "      <td>[nt, know, d, sure, like, talk, nt, touch, les...</td>\n",
       "      <td>[nt, know, sure, like, talk, nt, touch, lesson...</td>\n",
       "      <td>[nt, know, sure, like, talk, nt, touch, lesson...</td>\n",
       "    </tr>\n",
       "    <tr>\n",
       "      <th>3</th>\n",
       "      <td>9552</td>\n",
       "      <td>32</td>\n",
       "      <td>212</td>\n",
       "      <td>Lisa Simpson: That life is worth living.</td>\n",
       "      <td>864000</td>\n",
       "      <td>True</td>\n",
       "      <td>9.0</td>\n",
       "      <td>3</td>\n",
       "      <td>Lisa Simpson</td>\n",
       "      <td>Springfield Elementary School</td>\n",
       "      <td>that life is worth living</td>\n",
       "      <td>that life is worth living</td>\n",
       "      <td>5.0</td>\n",
       "      <td>[that, life, is, worth, living]</td>\n",
       "      <td>[life, worth, living]</td>\n",
       "      <td>[life, worth, living]</td>\n",
       "      <td>[life, worth, live]</td>\n",
       "    </tr>\n",
       "    <tr>\n",
       "      <th>4</th>\n",
       "      <td>9553</td>\n",
       "      <td>32</td>\n",
       "      <td>213</td>\n",
       "      <td>Edna Krabappel-Flanders: The polls will be ope...</td>\n",
       "      <td>864000</td>\n",
       "      <td>True</td>\n",
       "      <td>40.0</td>\n",
       "      <td>3</td>\n",
       "      <td>Edna Krabappel-Flanders</td>\n",
       "      <td>Springfield Elementary School</td>\n",
       "      <td>the polls will be open from now until the end ...</td>\n",
       "      <td>the polls will be open from now until the end ...</td>\n",
       "      <td>33.0</td>\n",
       "      <td>[the, polls, will, be, open, from, now, until,...</td>\n",
       "      <td>[polls, open, end, recess, case, decided, thou...</td>\n",
       "      <td>[polls, open, end, recess, case, decided, thou...</td>\n",
       "      <td>[poll, open, end, recess, case, decid, thought...</td>\n",
       "    </tr>\n",
       "  </tbody>\n",
       "</table>\n",
       "</div>"
      ],
      "text/plain": [
       "     id  episode_id  number  \\\n",
       "0  9549          32     209   \n",
       "1  9550          32     210   \n",
       "2  9551          32     211   \n",
       "3  9552          32     212   \n",
       "4  9553          32     213   \n",
       "\n",
       "                                            raw_text  timestamp_in_ms  \\\n",
       "0  Miss Hoover: No, actually, it was a little of ...           848000   \n",
       "1  Lisa Simpson: (NEAR TEARS) Where's Mr. Bergstrom?           856000   \n",
       "2  Miss Hoover: I don't know. Although I'd sure l...           856000   \n",
       "3           Lisa Simpson: That life is worth living.           864000   \n",
       "4  Edna Krabappel-Flanders: The polls will be ope...           864000   \n",
       "\n",
       "   speaking_line  character_id  location_id       raw_character_text  \\\n",
       "0           True         464.0            3              Miss Hoover   \n",
       "1           True           9.0            3             Lisa Simpson   \n",
       "2           True         464.0            3              Miss Hoover   \n",
       "3           True           9.0            3             Lisa Simpson   \n",
       "4           True          40.0            3  Edna Krabappel-Flanders   \n",
       "\n",
       "               raw_location_text  \\\n",
       "0  Springfield Elementary School   \n",
       "1  Springfield Elementary School   \n",
       "2  Springfield Elementary School   \n",
       "3  Springfield Elementary School   \n",
       "4  Springfield Elementary School   \n",
       "\n",
       "                                        spoken_words  \\\n",
       "0  no actually it was a little of both sometimes ...   \n",
       "1                                wheres mr bergstrom   \n",
       "2  i dont know although id sure like to talk to h...   \n",
       "3                          that life is worth living   \n",
       "4  the polls will be open from now until the end ...   \n",
       "\n",
       "                                     normalized_text  word_count  \\\n",
       "0  no actually it was a little of both sometimes ...        31.0   \n",
       "1                                wheres mr bergstrom         3.0   \n",
       "2  i dont know although id sure like to talk to h...        22.0   \n",
       "3                          that life is worth living         5.0   \n",
       "4  the polls will be open from now until the end ...        33.0   \n",
       "\n",
       "                                          all_tokens  \\\n",
       "0  [no, actually, it, was, a, little, of, both, s...   \n",
       "1                          [where, s, mr, bergstrom]   \n",
       "2  [i, do, nt, know, although, i, d, sure, like, ...   \n",
       "3                    [that, life, is, worth, living]   \n",
       "4  [the, polls, will, be, open, from, now, until,...   \n",
       "\n",
       "                            tokens_without_stopwords  \\\n",
       "0  [actually, little, disease, magazines, news, s...   \n",
       "1                                 [s, mr, bergstrom]   \n",
       "2  [nt, know, d, sure, like, talk, nt, touch, les...   \n",
       "3                              [life, worth, living]   \n",
       "4  [polls, open, end, recess, case, decided, thou...   \n",
       "\n",
       "                                      cleaned_tokens  \\\n",
       "0  [actually, little, disease, magazines, news, s...   \n",
       "1                                    [mr, bergstrom]   \n",
       "2  [nt, know, sure, like, talk, nt, touch, lesson...   \n",
       "3                              [life, worth, living]   \n",
       "4  [polls, open, end, recess, case, decided, thou...   \n",
       "\n",
       "                                               stems  \n",
       "0  [actual, littl, diseas, magazin, news, show, n...  \n",
       "1                                    [mr, bergstrom]  \n",
       "2  [nt, know, sure, like, talk, nt, touch, lesson...  \n",
       "3                                [life, worth, live]  \n",
       "4  [poll, open, end, recess, case, decid, thought...  "
      ]
     },
     "execution_count": 75,
     "metadata": {},
     "output_type": "execute_result"
    }
   ],
   "source": [
    "from sklearn.feature_extraction.text import CountVectorizer\n",
    "from sklearn.feature_extraction.text import TfidfTransformer\n",
    "#del df_script['id']\n",
    "#df_script = df_script.rename(columns = {'character_id':'id'})  # to merge easily\n",
    "df_script.head()"
   ]
  },
  {
   "cell_type": "code",
   "execution_count": 76,
   "metadata": {
    "scrolled": true
   },
   "outputs": [
    {
     "data": {
      "text/html": [
       "<div>\n",
       "<style scoped>\n",
       "    .dataframe tbody tr th:only-of-type {\n",
       "        vertical-align: middle;\n",
       "    }\n",
       "\n",
       "    .dataframe tbody tr th {\n",
       "        vertical-align: top;\n",
       "    }\n",
       "\n",
       "    .dataframe thead th {\n",
       "        text-align: right;\n",
       "    }\n",
       "</style>\n",
       "<table border=\"1\" class=\"dataframe\">\n",
       "  <thead>\n",
       "    <tr style=\"text-align: right;\">\n",
       "      <th></th>\n",
       "      <th>id_x</th>\n",
       "      <th>episode_id</th>\n",
       "      <th>number</th>\n",
       "      <th>raw_text</th>\n",
       "      <th>timestamp_in_ms</th>\n",
       "      <th>speaking_line</th>\n",
       "      <th>character_id</th>\n",
       "      <th>location_id</th>\n",
       "      <th>raw_character_text</th>\n",
       "      <th>raw_location_text</th>\n",
       "      <th>...</th>\n",
       "      <th>normalized_text</th>\n",
       "      <th>word_count</th>\n",
       "      <th>all_tokens</th>\n",
       "      <th>tokens_without_stopwords</th>\n",
       "      <th>cleaned_tokens</th>\n",
       "      <th>stems</th>\n",
       "      <th>id_y</th>\n",
       "      <th>name</th>\n",
       "      <th>normalized_name</th>\n",
       "      <th>gender</th>\n",
       "    </tr>\n",
       "  </thead>\n",
       "  <tbody>\n",
       "    <tr>\n",
       "      <th>0</th>\n",
       "      <td>9549</td>\n",
       "      <td>32</td>\n",
       "      <td>209</td>\n",
       "      <td>Miss Hoover: No, actually, it was a little of ...</td>\n",
       "      <td>848000</td>\n",
       "      <td>True</td>\n",
       "      <td>464.0</td>\n",
       "      <td>3</td>\n",
       "      <td>Miss Hoover</td>\n",
       "      <td>Springfield Elementary School</td>\n",
       "      <td>...</td>\n",
       "      <td>no actually it was a little of both sometimes ...</td>\n",
       "      <td>31.0</td>\n",
       "      <td>[no, actually, it, was, a, little, of, both, s...</td>\n",
       "      <td>[actually, little, disease, magazines, news, s...</td>\n",
       "      <td>[actually, little, disease, magazines, news, s...</td>\n",
       "      <td>[actual, littl, diseas, magazin, news, show, n...</td>\n",
       "      <td>464</td>\n",
       "      <td>Miss Hoover</td>\n",
       "      <td>miss hoover</td>\n",
       "      <td>f</td>\n",
       "    </tr>\n",
       "    <tr>\n",
       "      <th>1</th>\n",
       "      <td>9551</td>\n",
       "      <td>32</td>\n",
       "      <td>211</td>\n",
       "      <td>Miss Hoover: I don't know. Although I'd sure l...</td>\n",
       "      <td>856000</td>\n",
       "      <td>True</td>\n",
       "      <td>464.0</td>\n",
       "      <td>3</td>\n",
       "      <td>Miss Hoover</td>\n",
       "      <td>Springfield Elementary School</td>\n",
       "      <td>...</td>\n",
       "      <td>i dont know although id sure like to talk to h...</td>\n",
       "      <td>22.0</td>\n",
       "      <td>[i, do, nt, know, although, i, d, sure, like, ...</td>\n",
       "      <td>[nt, know, d, sure, like, talk, nt, touch, les...</td>\n",
       "      <td>[nt, know, sure, like, talk, nt, touch, lesson...</td>\n",
       "      <td>[nt, know, sure, like, talk, nt, touch, lesson...</td>\n",
       "      <td>464</td>\n",
       "      <td>Miss Hoover</td>\n",
       "      <td>miss hoover</td>\n",
       "      <td>f</td>\n",
       "    </tr>\n",
       "    <tr>\n",
       "      <th>2</th>\n",
       "      <td>14828</td>\n",
       "      <td>49</td>\n",
       "      <td>215</td>\n",
       "      <td>Miss Hoover: Thank you, Ralph. Very graphic. L...</td>\n",
       "      <td>784000</td>\n",
       "      <td>True</td>\n",
       "      <td>464.0</td>\n",
       "      <td>3</td>\n",
       "      <td>Miss Hoover</td>\n",
       "      <td>Springfield Elementary School</td>\n",
       "      <td>...</td>\n",
       "      <td>thank you ralph very graphic lisa simpson woul...</td>\n",
       "      <td>14.0</td>\n",
       "      <td>[thank, you, ralph, very, graphic, lisa, simps...</td>\n",
       "      <td>[thank, ralph, graphic, lisa, simpson, like, r...</td>\n",
       "      <td>[thank, ralph, graphic, lisa, simpson, like, r...</td>\n",
       "      <td>[thank, ralph, graphic, lisa, simpson, like, r...</td>\n",
       "      <td>464</td>\n",
       "      <td>Miss Hoover</td>\n",
       "      <td>miss hoover</td>\n",
       "      <td>f</td>\n",
       "    </tr>\n",
       "    <tr>\n",
       "      <th>3</th>\n",
       "      <td>14830</td>\n",
       "      <td>49</td>\n",
       "      <td>217</td>\n",
       "      <td>Miss Hoover: Dear God!</td>\n",
       "      <td>803000</td>\n",
       "      <td>True</td>\n",
       "      <td>464.0</td>\n",
       "      <td>3</td>\n",
       "      <td>Miss Hoover</td>\n",
       "      <td>Springfield Elementary School</td>\n",
       "      <td>...</td>\n",
       "      <td>dear god</td>\n",
       "      <td>2.0</td>\n",
       "      <td>[dear, god]</td>\n",
       "      <td>[dear, god]</td>\n",
       "      <td>[dear, god]</td>\n",
       "      <td>[dear, god]</td>\n",
       "      <td>464</td>\n",
       "      <td>Miss Hoover</td>\n",
       "      <td>miss hoover</td>\n",
       "      <td>f</td>\n",
       "    </tr>\n",
       "    <tr>\n",
       "      <th>4</th>\n",
       "      <td>15284</td>\n",
       "      <td>51</td>\n",
       "      <td>35</td>\n",
       "      <td>Miss Hoover: I question the educational value ...</td>\n",
       "      <td>226000</td>\n",
       "      <td>True</td>\n",
       "      <td>464.0</td>\n",
       "      <td>3</td>\n",
       "      <td>Miss Hoover</td>\n",
       "      <td>Springfield Elementary School</td>\n",
       "      <td>...</td>\n",
       "      <td>i question the educational value of this assembly</td>\n",
       "      <td>8.0</td>\n",
       "      <td>[i, question, the, educational, value, of, thi...</td>\n",
       "      <td>[question, educational, value, assembly]</td>\n",
       "      <td>[question, educational, value, assembly]</td>\n",
       "      <td>[question, educ, valu, assembl]</td>\n",
       "      <td>464</td>\n",
       "      <td>Miss Hoover</td>\n",
       "      <td>miss hoover</td>\n",
       "      <td>f</td>\n",
       "    </tr>\n",
       "  </tbody>\n",
       "</table>\n",
       "<p>5 rows × 21 columns</p>\n",
       "</div>"
      ],
      "text/plain": [
       "    id_x  episode_id  number  \\\n",
       "0   9549          32     209   \n",
       "1   9551          32     211   \n",
       "2  14828          49     215   \n",
       "3  14830          49     217   \n",
       "4  15284          51      35   \n",
       "\n",
       "                                            raw_text  timestamp_in_ms  \\\n",
       "0  Miss Hoover: No, actually, it was a little of ...           848000   \n",
       "1  Miss Hoover: I don't know. Although I'd sure l...           856000   \n",
       "2  Miss Hoover: Thank you, Ralph. Very graphic. L...           784000   \n",
       "3                             Miss Hoover: Dear God!           803000   \n",
       "4  Miss Hoover: I question the educational value ...           226000   \n",
       "\n",
       "   speaking_line  character_id  location_id raw_character_text  \\\n",
       "0           True         464.0            3        Miss Hoover   \n",
       "1           True         464.0            3        Miss Hoover   \n",
       "2           True         464.0            3        Miss Hoover   \n",
       "3           True         464.0            3        Miss Hoover   \n",
       "4           True         464.0            3        Miss Hoover   \n",
       "\n",
       "               raw_location_text  ...  \\\n",
       "0  Springfield Elementary School  ...   \n",
       "1  Springfield Elementary School  ...   \n",
       "2  Springfield Elementary School  ...   \n",
       "3  Springfield Elementary School  ...   \n",
       "4  Springfield Elementary School  ...   \n",
       "\n",
       "                                     normalized_text word_count  \\\n",
       "0  no actually it was a little of both sometimes ...       31.0   \n",
       "1  i dont know although id sure like to talk to h...       22.0   \n",
       "2  thank you ralph very graphic lisa simpson woul...       14.0   \n",
       "3                                           dear god        2.0   \n",
       "4  i question the educational value of this assembly        8.0   \n",
       "\n",
       "                                          all_tokens  \\\n",
       "0  [no, actually, it, was, a, little, of, both, s...   \n",
       "1  [i, do, nt, know, although, i, d, sure, like, ...   \n",
       "2  [thank, you, ralph, very, graphic, lisa, simps...   \n",
       "3                                        [dear, god]   \n",
       "4  [i, question, the, educational, value, of, thi...   \n",
       "\n",
       "                            tokens_without_stopwords  \\\n",
       "0  [actually, little, disease, magazines, news, s...   \n",
       "1  [nt, know, d, sure, like, talk, nt, touch, les...   \n",
       "2  [thank, ralph, graphic, lisa, simpson, like, r...   \n",
       "3                                        [dear, god]   \n",
       "4           [question, educational, value, assembly]   \n",
       "\n",
       "                                      cleaned_tokens  \\\n",
       "0  [actually, little, disease, magazines, news, s...   \n",
       "1  [nt, know, sure, like, talk, nt, touch, lesson...   \n",
       "2  [thank, ralph, graphic, lisa, simpson, like, r...   \n",
       "3                                        [dear, god]   \n",
       "4           [question, educational, value, assembly]   \n",
       "\n",
       "                                               stems id_y         name  \\\n",
       "0  [actual, littl, diseas, magazin, news, show, n...  464  Miss Hoover   \n",
       "1  [nt, know, sure, like, talk, nt, touch, lesson...  464  Miss Hoover   \n",
       "2  [thank, ralph, graphic, lisa, simpson, like, r...  464  Miss Hoover   \n",
       "3                                        [dear, god]  464  Miss Hoover   \n",
       "4                    [question, educ, valu, assembl]  464  Miss Hoover   \n",
       "\n",
       "  normalized_name gender  \n",
       "0     miss hoover      f  \n",
       "1     miss hoover      f  \n",
       "2     miss hoover      f  \n",
       "3     miss hoover      f  \n",
       "4     miss hoover      f  \n",
       "\n",
       "[5 rows x 21 columns]"
      ]
     },
     "execution_count": 76,
     "metadata": {},
     "output_type": "execute_result"
    }
   ],
   "source": [
    "merged_data = pd.merge(df_script, df_characters, how=\"inner\", left_on=\"character_id\", right_on=\"id\") #merge the dataframes to the characters to get the names and drop nan values\n",
    "merged_data.dropna(subset=[\"normalized_text\"], inplace=True)\n",
    "#merged_data[merged_data['stems'] == np.nan].head()\n",
    "merged_data.head()"
   ]
  },
  {
   "cell_type": "code",
   "execution_count": 77,
   "metadata": {},
   "outputs": [
    {
     "name": "stdout",
     "output_type": "stream",
     "text": [
      "\n",
      "Top ten words for Homer Simpson:\n",
      "oh       729.177072\n",
      "im       587.267208\n",
      "marge    573.057926\n",
      "dont     450.361621\n",
      "just     398.935549\n",
      "right    382.385406\n",
      "hey      358.030410\n",
      "like     353.401870\n",
      "know     342.871581\n",
      "thats    342.489921\n",
      "dtype: float64\n"
     ]
    },
    {
     "data": {
      "image/png": "[encoded data removed]",
      "text/plain": [
       "<Figure size 432x288 with 1 Axes>"
      ]
     },
     "metadata": {
      "needs_background": "light"
     },
     "output_type": "display_data"
    },
    {
     "name": "stdout",
     "output_type": "stream",
     "text": [
      "\n",
      "Top ten words for Marge Simpson:\n",
      "homer    556.411413\n",
      "oh       383.646986\n",
      "dont     301.928650\n",
      "im       277.825359\n",
      "just     249.297451\n",
      "bart     237.828007\n",
      "homie    233.254671\n",
      "thats    199.955645\n",
      "know     193.208900\n",
      "youre    193.191299\n",
      "dtype: float64\n"
     ]
    },
    {
     "data": {
      "image/png": "[encoded data removed]",
      "text/plain": [
       "<Figure size 432x288 with 1 Axes>"
      ]
     },
     "metadata": {
      "needs_background": "light"
     },
     "output_type": "display_data"
    },
    {
     "name": "stdout",
     "output_type": "stream",
     "text": [
      "\n",
      "Top ten words for Bart Simpson:\n",
      "dad      354.264478\n",
      "oh       277.567764\n",
      "im       270.190672\n",
      "hey      268.861644\n",
      "dont     223.455797\n",
      "just     199.098999\n",
      "yeah     188.352156\n",
      "mom      185.100227\n",
      "youre    182.558155\n",
      "like     162.581868\n",
      "dtype: float64\n"
     ]
    },
    {
     "data": {
      "image/png": "[encoded data removed]",
      "text/plain": [
       "<Figure size 432x288 with 1 Axes>"
      ]
     },
     "metadata": {
      "needs_background": "light"
     },
     "output_type": "display_data"
    },
    {
     "name": "stdout",
     "output_type": "stream",
     "text": [
      "\n",
      "Top ten words for Lisa Simpson:\n",
      "dad      409.864527\n",
      "bart     267.645585\n",
      "mom      237.786320\n",
      "im       226.695391\n",
      "oh       213.656165\n",
      "dont     208.955109\n",
      "just     189.126203\n",
      "thats    158.462755\n",
      "youre    155.892905\n",
      "like     152.736103\n",
      "dtype: float64\n"
     ]
    },
    {
     "data": {
      "image/png": "[encoded data removed]",
      "text/plain": [
       "<Figure size 432x288 with 1 Axes>"
      ]
     },
     "metadata": {
      "needs_background": "light"
     },
     "output_type": "display_data"
    }
   ],
   "source": [
    "def calc_tf(vectorizer, list_of_docs):\n",
    "    return vectorizer.fit_transform(list_of_docs)\n",
    "\n",
    "def calc_idf_and_tfidf(vectorizer, count_vectorized):\n",
    "    transformer = TfidfTransformer(smooth_idf=True,use_idf=True)\n",
    "    X = transformer.fit_transform(count_vectorized)\n",
    "    df_idf = pd.DataFrame({'feature_name':vectorizer.get_feature_names(), 'idf_weights':transformer.idf_})\n",
    "    \n",
    "    df_tf_idf = pd.DataFrame(X.toarray() ,columns=vectorizer.get_feature_names())\n",
    "    return df_tf_idf\n",
    "\n",
    "def sum_tfidf_over_all_docs(df_tf_idf, number_top_n_words, visualize=True):\n",
    "    df_tf_idf_sum_over_all_docs = df_tf_idf.sum()\n",
    "    df_tf_idf_sum_over_all_docs_top_n = df_tf_idf_sum_over_all_docs.sort_values(ascending = False).iloc[:number_top_n_words]\n",
    "    \n",
    "    if visualize == True:\n",
    "        print(\"\\nTop ten words for {}:\".format(character_id[1]))\n",
    "        print(df_tf_idf_sum_over_all_docs_top_n)\n",
    "        df_tf_idf_sum_over_all_docs_top_n.plot.bar()\n",
    "        plt.show()\n",
    "    return df_tf_idf_sum_over_all_docs_top_n\n",
    "\n",
    "def calc_tfidf(list_of_docs, number_top_n_words, count_vectorizer_max_features=None):\n",
    "    vectorizer = CountVectorizer(stop_words='english', min_df=5, max_features=count_vectorizer_max_features)\n",
    "    \n",
    "    count_vectorized = calc_tf(vectorizer, list_of_docs)\n",
    "    df_tf = pd.DataFrame(count_vectorized.toarray(), columns=vectorizer.get_feature_names())\n",
    "    \n",
    "    df_tf_idf = calc_idf_and_tfidf(vectorizer, count_vectorized)\n",
    "    \n",
    "    sum_tfidf_over_all_docs(df_tf_idf, number_top_n_words)\n",
    "\n",
    "def get_character_items(input_df, character_id):\n",
    "    corpus = input_df[input_df['character_id'] == character_id]\n",
    "    return corpus[\"normalized_text\"]\n",
    "\n",
    "for character_id in [[2, 'Homer Simpson'], [1, 'Marge Simpson'], [8, 'Bart Simpson'], [9, 'Lisa Simpson']]:\n",
    "    ##### Your code ######\n",
    "    corpus_list = get_character_items(merged_data, character_id[0])\n",
    "    \n",
    "    calc_tfidf(corpus_list, 10)\n",
    "    \n",
    "    ### Don't forget that you need the tfidf values for a single word averaged across documents ####"
   ]
  },
  {
   "cell_type": "markdown",
   "metadata": {},
   "source": [
    "If you did the exercise correctly, \"mom\" and \"dad\" should be among the top words for the childern and \"homer\" should be the top word for Marge, since this is what she calls her husband."
   ]
  },
  {
   "cell_type": "markdown",
   "metadata": {},
   "source": [
    "## Sub Task 2: \n",
    "If we consider the spoken words from each character a document of its own, we can generate 4 documents (by concatenation of all dialogs) for Homer, Marge, Bart, and Lisa Simpson, and create document vectors from those.\n",
    "Let's take a look at how the values in these vectors are distributed. Use  `sns.heatmap` from the seaborn package to show the vectors of the 4 documents for the top-20 words (set the `max_features` parameter of the `CountVectorizer` to 20).\n",
    "Compare it with the heatmap of only term frequencies of the documents. Use `fmt='g'` to print out the correct format."
   ]
  },
  {
   "cell_type": "code",
   "execution_count": 78,
   "metadata": {},
   "outputs": [],
   "source": [
    "import seaborn as sns"
   ]
  },
  {
   "cell_type": "code",
   "execution_count": 79,
   "metadata": {},
   "outputs": [
    {
     "data": {
      "text/html": [
       "<div>\n",
       "<style scoped>\n",
       "    .dataframe tbody tr th:only-of-type {\n",
       "        vertical-align: middle;\n",
       "    }\n",
       "\n",
       "    .dataframe tbody tr th {\n",
       "        vertical-align: top;\n",
       "    }\n",
       "\n",
       "    .dataframe thead th {\n",
       "        text-align: right;\n",
       "    }\n",
       "</style>\n",
       "<table border=\"1\" class=\"dataframe\">\n",
       "  <thead>\n",
       "    <tr style=\"text-align: right;\">\n",
       "      <th></th>\n",
       "      <th>bart</th>\n",
       "      <th>dad</th>\n",
       "      <th>dont</th>\n",
       "      <th>gonna</th>\n",
       "      <th>got</th>\n",
       "      <th>hey</th>\n",
       "      <th>homer</th>\n",
       "      <th>ill</th>\n",
       "      <th>im</th>\n",
       "      <th>just</th>\n",
       "      <th>know</th>\n",
       "      <th>like</th>\n",
       "      <th>look</th>\n",
       "      <th>marge</th>\n",
       "      <th>oh</th>\n",
       "      <th>okay</th>\n",
       "      <th>right</th>\n",
       "      <th>thats</th>\n",
       "      <th>think</th>\n",
       "      <th>youre</th>\n",
       "    </tr>\n",
       "  </thead>\n",
       "  <tbody>\n",
       "    <tr>\n",
       "      <th>0</th>\n",
       "      <td>0.097552</td>\n",
       "      <td>0.039389</td>\n",
       "      <td>0.288974</td>\n",
       "      <td>0.136204</td>\n",
       "      <td>0.143935</td>\n",
       "      <td>0.178906</td>\n",
       "      <td>0.055770</td>\n",
       "      <td>0.169887</td>\n",
       "      <td>0.424810</td>\n",
       "      <td>0.271857</td>\n",
       "      <td>0.202834</td>\n",
       "      <td>0.239462</td>\n",
       "      <td>0.120743</td>\n",
       "      <td>0.336646</td>\n",
       "      <td>0.427571</td>\n",
       "      <td>0.140254</td>\n",
       "      <td>0.190686</td>\n",
       "      <td>0.179274</td>\n",
       "      <td>0.112461</td>\n",
       "      <td>0.194367</td>\n",
       "    </tr>\n",
       "    <tr>\n",
       "      <th>1</th>\n",
       "      <td>0.211040</td>\n",
       "      <td>0.010462</td>\n",
       "      <td>0.346323</td>\n",
       "      <td>0.054834</td>\n",
       "      <td>0.110390</td>\n",
       "      <td>0.023088</td>\n",
       "      <td>0.490263</td>\n",
       "      <td>0.088745</td>\n",
       "      <td>0.349930</td>\n",
       "      <td>0.288602</td>\n",
       "      <td>0.208515</td>\n",
       "      <td>0.220059</td>\n",
       "      <td>0.100289</td>\n",
       "      <td>0.029221</td>\n",
       "      <td>0.373019</td>\n",
       "      <td>0.084055</td>\n",
       "      <td>0.131314</td>\n",
       "      <td>0.181098</td>\n",
       "      <td>0.153681</td>\n",
       "      <td>0.207433</td>\n",
       "    </tr>\n",
       "    <tr>\n",
       "      <th>2</th>\n",
       "      <td>0.064614</td>\n",
       "      <td>0.410888</td>\n",
       "      <td>0.296677</td>\n",
       "      <td>0.156529</td>\n",
       "      <td>0.183375</td>\n",
       "      <td>0.314878</td>\n",
       "      <td>0.084635</td>\n",
       "      <td>0.146973</td>\n",
       "      <td>0.396782</td>\n",
       "      <td>0.282116</td>\n",
       "      <td>0.197026</td>\n",
       "      <td>0.229788</td>\n",
       "      <td>0.127862</td>\n",
       "      <td>0.002275</td>\n",
       "      <td>0.292582</td>\n",
       "      <td>0.108751</td>\n",
       "      <td>0.159259</td>\n",
       "      <td>0.146518</td>\n",
       "      <td>0.114666</td>\n",
       "      <td>0.224783</td>\n",
       "    </tr>\n",
       "    <tr>\n",
       "      <th>3</th>\n",
       "      <td>0.349302</td>\n",
       "      <td>0.521332</td>\n",
       "      <td>0.286399</td>\n",
       "      <td>0.104838</td>\n",
       "      <td>0.115322</td>\n",
       "      <td>0.107221</td>\n",
       "      <td>0.012867</td>\n",
       "      <td>0.098643</td>\n",
       "      <td>0.342630</td>\n",
       "      <td>0.284016</td>\n",
       "      <td>0.189662</td>\n",
       "      <td>0.214442</td>\n",
       "      <td>0.120564</td>\n",
       "      <td>0.001430</td>\n",
       "      <td>0.254947</td>\n",
       "      <td>0.093401</td>\n",
       "      <td>0.107697</td>\n",
       "      <td>0.181084</td>\n",
       "      <td>0.154398</td>\n",
       "      <td>0.204911</td>\n",
       "    </tr>\n",
       "  </tbody>\n",
       "</table>\n",
       "</div>"
      ],
      "text/plain": [
       "       bart       dad      dont     gonna       got       hey     homer  \\\n",
       "0  0.097552  0.039389  0.288974  0.136204  0.143935  0.178906  0.055770   \n",
       "1  0.211040  0.010462  0.346323  0.054834  0.110390  0.023088  0.490263   \n",
       "2  0.064614  0.410888  0.296677  0.156529  0.183375  0.314878  0.084635   \n",
       "3  0.349302  0.521332  0.286399  0.104838  0.115322  0.107221  0.012867   \n",
       "\n",
       "        ill        im      just      know      like      look     marge  \\\n",
       "0  0.169887  0.424810  0.271857  0.202834  0.239462  0.120743  0.336646   \n",
       "1  0.088745  0.349930  0.288602  0.208515  0.220059  0.100289  0.029221   \n",
       "2  0.146973  0.396782  0.282116  0.197026  0.229788  0.127862  0.002275   \n",
       "3  0.098643  0.342630  0.284016  0.189662  0.214442  0.120564  0.001430   \n",
       "\n",
       "         oh      okay     right     thats     think     youre  \n",
       "0  0.427571  0.140254  0.190686  0.179274  0.112461  0.194367  \n",
       "1  0.373019  0.084055  0.131314  0.181098  0.153681  0.207433  \n",
       "2  0.292582  0.108751  0.159259  0.146518  0.114666  0.224783  \n",
       "3  0.254947  0.093401  0.107697  0.181084  0.154398  0.204911  "
      ]
     },
     "execution_count": 79,
     "metadata": {},
     "output_type": "execute_result"
    }
   ],
   "source": [
    "# prepare data -> 4 docs \n",
    "\n",
    "list_of_docs = []\n",
    "for character_id in [[2, 'Homer Simpson'], [1, 'Marge Simpson'], [8, 'Bart Simpson'], [9, 'Lisa Simpson']]:\n",
    "    ##### Your code ######\n",
    "    corpus_list = get_character_items(merged_data, character_id[0])\n",
    "    list_of_docs.append(' '.join(corpus_list))\n",
    "\n",
    "character_list = ['Homer Simpson', 'Marge Simpson', 'Bart Simpson', 'Lisa Simpson']\n",
    "vectorizer = CountVectorizer(stop_words='english', max_features=20)\n",
    "count_vectorized = calc_tf(vectorizer, list_of_docs)\n",
    "df_tf = pd.DataFrame(count_vectorized.toarray(), columns=vectorizer.get_feature_names())\n",
    "#df_tf.index = character_list\n",
    "df_tf_idf = calc_idf_and_tfidf(vectorizer, count_vectorized)\n",
    "#df_tf_idf.index = character_list\n",
    "df_tf_idf.head()"
   ]
  },
  {
   "cell_type": "code",
   "execution_count": 80,
   "metadata": {},
   "outputs": [
    {
     "data": {
      "text/plain": [
       "<AxesSubplot:>"
      ]
     },
     "execution_count": 80,
     "metadata": {},
     "output_type": "execute_result"
    },
    {
     "data": {
      "image/png": "[encoded data removed]",
      "text/plain": [
       "<Figure size 1224x432 with 1 Axes>"
      ]
     },
     "metadata": {
      "needs_background": "light"
     },
     "output_type": "display_data"
    }
   ],
   "source": [
    "fig, ax = plt.subplots(figsize=(17,6))         \n",
    "sns.heatmap(df_tf_idf ### Your tfidf weights ###\n",
    "    , annot=True, cbar=False, ax=ax, xticklabels=df_tf_idf.columns, fmt='g' # top 20 words\n",
    ")"
   ]
  },
  {
   "cell_type": "code",
   "execution_count": 81,
   "metadata": {},
   "outputs": [
    {
     "data": {
      "text/plain": [
       "<AxesSubplot:>"
      ]
     },
     "execution_count": 81,
     "metadata": {},
     "output_type": "execute_result"
    },
    {
     "data": {
      "image/png": "[encoded data removed]",
      "text/plain": [
       "<Figure size 1224x432 with 1 Axes>"
      ]
     },
     "metadata": {
      "needs_background": "light"
     },
     "output_type": "display_data"
    }
   ],
   "source": [
    "fig, ax = plt.subplots(figsize=(17,6))         \n",
    "sns.heatmap(df_tf ### Your count vectorizer weights ###\n",
    "    , annot=True, cbar=False, ax=ax, xticklabels=df_tf.columns, fmt='g' #top 20 words\n",
    ")"
   ]
  },
  {
   "cell_type": "markdown",
   "metadata": {},
   "source": [
    "Based on the TF_IDF vectors of the top-20 words, which characters are similar?"
   ]
  },
  {
   "cell_type": "code",
   "execution_count": 82,
   "metadata": {},
   "outputs": [
    {
     "name": "stdout",
     "output_type": "stream",
     "text": [
      "Homer Simpson to Marge Simpson: [[0.82142195]]\n",
      "Homer Simpson to Bart Simpson: [[0.85197557]]\n",
      "Homer Simpson to Lisa Simpson: [[0.76483166]]\n",
      "Marge Simpson to Bart Simpson: [[0.76609426]]\n",
      "Marge Simpson to Lisa Simpson: [[0.73122939]]\n",
      "Bart Simpson to Lisa Simpson: [[0.9189898]]\n"
     ]
    }
   ],
   "source": [
    "from sklearn.metrics.pairwise import cosine_similarity\n",
    "names = ['Homer Simpson', 'Marge Simpson', 'Bart Simpson', 'Lisa Simpson']\n",
    "#cosine= ### Your code ### \n",
    "for i,name in zip(range(4),names):\n",
    "    for j,name2 in zip(range(i+1,4),names[i+1:]):\n",
    "        print('{} to {}: {}'.format(name, name2, cosine_similarity(df_tf_idf.iloc[[i]], df_tf_idf.iloc[[j]])))\n"
   ]
  },
  {
   "cell_type": "markdown",
   "metadata": {},
   "source": [
    "# Task 3: Topics ( 4 + 3 = 7 points)"
   ]
  },
  {
   "cell_type": "markdown",
   "metadata": {},
   "source": [
    "It is interesting to inspect the topics often discussed in the show. We look at SVD (LSA) and NMF for topic detection."
   ]
  },
  {
   "cell_type": "markdown",
   "metadata": {},
   "source": [
    "## Sub Task1:\n",
    "Use `NMF` from scikit-learn to detect the topics in the scripts, and use the text cleaning steps from the first task:\n",
    "- use regex to remove non-alphabetic characters and also remove `'` since the tokenizer will treat it as a new token (anything that is not a number or alphabet including punctuations)\n",
    "- lowercase all words\n",
    "- remove stopwords based on spaCy's stopword list for English\n",
    "- tokenize the spoken_words (remove single characters produced by the tokenizer) \n",
    "- perform stemming \n",
    "\n",
    "set the `max_features` of  `CountVectorizer` to 10,000 and `random_state` of the `NMF` to 42, `n_components=10`."
   ]
  },
  {
   "cell_type": "code",
   "execution_count": 83,
   "metadata": {},
   "outputs": [],
   "source": [
    "from sklearn.decomposition import NMF \n",
    "stopwords = spacy.lang.en.stop_words.STOP_WORDS # load spacy's stop word list\n",
    "#df_script.head()"
   ]
  },
  {
   "cell_type": "code",
   "execution_count": 84,
   "metadata": {},
   "outputs": [],
   "source": [
    "def show_topics(components, num_top_words, vocab):\n",
    "    #for each component or topic sorts the row values from large to small and returns the top words and the representation of the topic.\n",
    "    top_words = lambda t: [vocab[i] for i in np.argsort(t)[:-num_top_words-1:-1]]\n",
    "    topic_words = ([top_words(t) for t in components])\n",
    "    return [' '.join(t) for t in topic_words]"
   ]
  },
  {
   "cell_type": "code",
   "execution_count": 85,
   "metadata": {},
   "outputs": [],
   "source": [
    "# => alread done above reuse df_script\n",
    "#nlp = spacy.load(#### Your Code ####\n",
    "#porter = #### initlize the stemmer ####\n",
    "#df_script.dropna(inplace=True)\n",
    "#df_script.spoken_words =#### Your Code ####"
   ]
  },
  {
   "cell_type": "code",
   "execution_count": 86,
   "metadata": {},
   "outputs": [],
   "source": [
    "nmf = NMF(random_state=42, n_components=10)"
   ]
  },
  {
   "cell_type": "markdown",
   "metadata": {},
   "source": [
    "Use the `show_topics()` method to show the top-20 words for the top 2 topics."
   ]
  },
  {
   "cell_type": "code",
   "execution_count": 87,
   "metadata": {},
   "outputs": [
    {
     "name": "stdout",
     "output_type": "stream",
     "text": [
      "\n",
      "Topics in NMF model:\n"
     ]
    },
    {
     "data": {
      "text/plain": [
       "['im gonna sorry going sure afraid marge man look really think bart glad time make good ive little way life',\n",
       " 'dont want worry think need make look care come tell dad okay say marge ill wanna love people understand forget',\n",
       " 'oh yeah god man boy uh yes marge thank good come love little look bart wait great hes dear sorry',\n",
       " 'just ill little say uh want okay let think make lets look got marge time way hes maybe did tell',\n",
       " 'like id looks look people got feel bart man ive make yeah say hes good marge lisa sounds really theres',\n",
       " 'youre gonna think bart going man dad right marge good okay lisa cut boy really time make come tell getting',\n",
       " 'hey got look come whats dad bart ive kids ya guys man wait want lets wanna theres mom good did',\n",
       " 'thats right got yeah ill good okay ive uh time lets hes little thing bart great want way make really',\n",
       " 'know did little didnt ive really bart got think uh dad hes say people thing marge theres time ill good',\n",
       " 'homer simpson bart got marge mr want man uh did think ive lisa come hes time theres youve say love']"
      ]
     },
     "execution_count": 87,
     "metadata": {},
     "output_type": "execute_result"
    }
   ],
   "source": [
    "#### Your Code ####\n",
    "vectorizer = CountVectorizer(stop_words='english', max_features=10000)\n",
    "tf = vectorizer.fit_transform(list(df_script[\"spoken_words\"].explode()))\n",
    "nmf.fit(tf)\n",
    "\n",
    "n_top_words = 20\n",
    "print(\"\\nTopics in NMF model:\")\n",
    "tfidf_feature_names = vectorizer.get_feature_names()\n",
    "\n",
    "show_topics(nmf.components_, n_top_words, tfidf_feature_names)"
   ]
  },
  {
   "cell_type": "markdown",
   "metadata": {},
   "source": [
    "## Sub Task 2:\n",
    "The SVD algorithm factorizes a matrix into one matrix with orthogonal columns and one with orthogonal rows (along with a diagonal matrix, which contains the relative importance of each factor).\n",
    "Latent Semantic Analysis (LSA) uses SVD. Here we use the 'TruncatedSVD' method from 'sklearn' to look at the topics.\n",
    "This is faster than SVD since we focus only on the largest singluar values.\n",
    "Use the cleaned documents form the substask before. Where `random_state=42`, `n_components=10`, and `n_iter=7`."
   ]
  },
  {
   "cell_type": "code",
   "execution_count": 88,
   "metadata": {},
   "outputs": [],
   "source": [
    "from sklearn.decomposition import TruncatedSVD"
   ]
  },
  {
   "cell_type": "code",
   "execution_count": 89,
   "metadata": {},
   "outputs": [
    {
     "data": {
      "text/plain": [
       "TruncatedSVD(n_components=10, n_iter=7, random_state=42)"
      ]
     },
     "execution_count": 89,
     "metadata": {},
     "output_type": "execute_result"
    }
   ],
   "source": [
    "svd = TruncatedSVD(n_components=10, n_iter=7, random_state=42)\n",
    "svd.fit(tf)"
   ]
  },
  {
   "cell_type": "markdown",
   "metadata": {},
   "source": [
    "Use the `show_topics` method to show the top-20 words for the top-2 topics. "
   ]
  },
  {
   "cell_type": "code",
   "execution_count": 90,
   "metadata": {},
   "outputs": [
    {
     "name": "stdout",
     "output_type": "stream",
     "text": [
      "['im oh dont just like know youre gonna right thats homer got hey think ill want bart sorry yeah look', 'im gonna sorry going afraid glad sure trying sick tired proud telling worried saying scared hi troy getting gettin mcclure']\n"
     ]
    }
   ],
   "source": [
    "n_top_words = 20\n",
    "topics = show_topics(svd.components_, n_top_words, tfidf_feature_names)\n",
    "print(topics[:2])"
   ]
  },
  {
   "cell_type": "markdown",
   "metadata": {},
   "source": [
    "As you can see there is not much to make out of these topics. But topic models also give us document representations, so let's compare Homer, Marge, Bart, and Lisa Simpson based on their SVD vectors.\n",
    "Use the same approach as the TF_IDF Task, but apply the pre-processing steps mentioned in the previous subtask.\n",
    "Notice that if you use the default parameters for the SVD you might encounter a strange shape in the transformed data.\n",
    "This happens because the underlying algorithm is set to 'randomized_svd'.\n",
    "Investigate how to solve this problem and run the algorithm with `n_components=2, n_iter=7, random_state=40`.\n",
    "Hint: You need one extra parameter to overcome this problem.\n",
    "Transform the TF_IDF vectors for the 4 subsets to the SVD and compute the cosine similarity."
   ]
  },
  {
   "cell_type": "code",
   "execution_count": 91,
   "metadata": {},
   "outputs": [],
   "source": [
    "subsets = {}\n",
    "tmp_feature = []\n",
    "for name in ['Homer Simpson', 'Marge Simpson', 'Bart Simpson', 'Lisa Simpson']:\n",
    "    subsets[name] = merged_data[merged_data['name']==name]['normalized_text'] #.### Your code ###\n",
    "    vectorizer = CountVectorizer(analyzer='word', max_features=10000)\n",
    "    list_of_docs = list(subsets[name])\n",
    "    count_vectorized = calc_tf(vectorizer, list_of_docs)\n",
    "    df_tf = pd.DataFrame(count_vectorized.toarray(), columns=vectorizer.get_feature_names())\n",
    "    #df_tf.index = character_list\n",
    "    df_tf_idf = calc_idf_and_tfidf(vectorizer, count_vectorized)\n",
    "    tmp_feature.append(vectorizer.get_feature_names())\n",
    "    #df_tf_idf.index = character_list\n",
    "    #number_top_n_words = 10\n",
    "    #df_sum_tfidf = sum_tfidf_over_all_docs(df_tf_idf, number_top_n_words, False)\n",
    "    \n",
    "    subsets[name] = df_tf_idf\n",
    "#print(subsets.values())\n",
    "# im subset steht für jeden CHarakter ein sparse tfidf Vektor drin (als matrix)"
   ]
  },
  {
   "cell_type": "code",
   "execution_count": 92,
   "metadata": {},
   "outputs": [
    {
     "name": "stdout",
     "output_type": "stream",
     "text": [
      "[[ 5.32344801e-04  4.14467873e-04  1.95679723e-04 ...  5.05130653e-04\n",
      "   9.05321445e-06  1.65937103e-07]\n",
      " [ 4.73330265e-04 -7.79410244e-05 -8.15822695e-05 ... -4.14904651e-04\n",
      "  -1.05814700e-06  6.77567849e-07]]\n",
      "['you the to it what and oh me that is my of do marge im this in no dont for', 'no oh uh yeah god im my not right its problem sorry thats huh theres good marge it yes dont']\n",
      "[[ 1.78430196e-04  4.20556511e-05  1.47627806e-04 ...  1.29894847e-04\n",
      "   1.97883133e-04  1.50009362e-07]\n",
      " [-1.32328135e-04 -2.60168089e-05 -1.04744129e-04 ... -8.24936117e-05\n",
      "  -1.13528116e-04 -1.63516044e-07]]\n",
      "['homer you to the what oh no that it and dont are do this have is of your in im', 'homer no stop please simpson hello goodnight xyz gotta wheres embarrassing wake slow scaring telephone sakes howd careful serious sit']\n"
     ]
    }
   ],
   "source": [
    "count_vectorized = CountVectorizer(analyzer='word', max_features=10000)\n",
    "### Your Code ### \n",
    "svd = TruncatedSVD(n_components=2, n_iter=7, random_state=40) ### Your Code ###\n",
    "svd.fit(subsets[\"Homer Simpson\"])#np.array(list(subsets.values())))### Your Code ### \n",
    "#new_weights = ### Your Code ###\n",
    "\n",
    "n_top_words = 20\n",
    "print(svd.components_)\n",
    "topics = show_topics(svd.components_, n_top_words, tmp_feature[0])\n",
    "print(topics[:2])\n",
    "\n",
    "\n",
    "svd.fit(subsets[\"Marge Simpson\"])#np.array(list(subsets.values())))### Your Code ### \n",
    "#new_weights = ### Your Code ###\n",
    "\n",
    "n_top_words = 20\n",
    "print(svd.components_)\n",
    "topics = show_topics(svd.components_, n_top_words, tmp_feature[1])\n",
    "print(topics[:2])"
   ]
  },
  {
   "cell_type": "code",
   "execution_count": 93,
   "metadata": {},
   "outputs": [
    {
     "ename": "SyntaxError",
     "evalue": "invalid syntax (<ipython-input-93-82e3bcbcc7cf>, line 2)",
     "output_type": "error",
     "traceback": [
      "\u001b[0;36m  File \u001b[0;32m\"<ipython-input-93-82e3bcbcc7cf>\"\u001b[0;36m, line \u001b[0;32m2\u001b[0m\n\u001b[0;31m    cosine = ###Compute the cosine similirity###\u001b[0m\n\u001b[0m                                                ^\u001b[0m\n\u001b[0;31mSyntaxError\u001b[0m\u001b[0;31m:\u001b[0m invalid syntax\n"
     ]
    }
   ],
   "source": [
    "names = ['Homer Simpson', 'Marge Simpson', 'Bart Simpson', 'Lisa Simpson']\n",
    "cosine = ###Compute the cosine similirity###\n",
    "for i, name in zip(range(4),names):\n",
    "    for j, name2 in zip(range(i+1,4),names[i+1:]):\n",
    "        print('{} to {}: {}'.\n",
    "                  format(name,name2,###Cosine Similiarity### ))"
   ]
  },
  {
   "cell_type": "markdown",
   "metadata": {},
   "source": [
    "## Task 4: Mathematical Concepts ( 1 + 2 + 2 = 5 points)\n",
    "Answer the following questions in the notebook, use markdown or latex to fill in the cells for the answers:"
   ]
  },
  {
   "cell_type": "markdown",
   "metadata": {},
   "source": [
    "## Sub Task 1: \n",
    "What is the relationship between PCA and SVD? "
   ]
  },
  {
   "cell_type": "markdown",
   "metadata": {},
   "source": [
    "PCA (Principal component analysis), e.g. used for dimensionality reduction or feature extraction, is a technique where a dataset with many correlated coordinates is transformed into a dataset with fewer uncorrelated coordinates (=principal components).\n",
    "\n",
    "SVD (Singular value decomposition) is a method for calculating principal components of a dataset. So a PCA can be calculated by using SVD."
   ]
  },
  {
   "cell_type": "markdown",
   "metadata": {},
   "source": [
    "## Sub Task 2: "
   ]
  },
  {
   "cell_type": "markdown",
   "metadata": {},
   "source": [
    "Find the Singular value decomposition of  $A = \\left[ \\begin{matrix}1&-1\\\\ -2&2\\\\ 2&-2\\end{matrix} \\right]$.\n"
   ]
  },
  {
   "cell_type": "markdown",
   "metadata": {},
   "source": [
    "Matrix A can be decomposed into: $A = U * S * V^T$   \n",
    "With the elements:  \n",
    "* $A\\in \\mathbb{R}^{3x2} (general: A\\in \\mathbb{R}^{mxn})$  \n",
    "* $U\\in \\mathbb{R}^{3x3} (general: U\\in \\mathbb{R}^{mxm})$  \n",
    "$U * U^T = U^T * U = I_m$  \n",
    "$U = A * A^T$\n",
    "* $V\\in \\mathbb{R}^{2x2} (general: V\\in \\mathbb{R}^{nxn})$  \n",
    "$V * V^T = V^T * V = I_n$  \n",
    "$V = A^T * A$\n",
    "* $S\\in \\mathbb{R}^{3x2} (general: V\\in \\mathbb{R}^{mxn})$\n",
    "Singular values on the main diagonal \n",
    "\n",
    "**1. $U = A * A^T$**  \n",
    "$U = \\left[ \\begin{matrix}1&-1\\\\ -2&2\\\\ 2&-2\\end{matrix} \\right] * \\left[ \\begin{matrix}1&-2&2\\\\ -1&2&-2\\end{matrix} \\right] = \\left[ \\begin{matrix}2&-4&4\\\\ -4&8&-8\\\\ 4&-8&8\\end{matrix} \\right]$\n",
    "\n",
    "**2. $V = A^T * A$**  \n",
    "$V = \\left[ \\begin{matrix}1&-2&2\\\\ -1&2&-2\\end{matrix} \\right] * \\left[ \\begin{matrix}1&-1\\\\ -2&2\\\\ 2&-2\\end{matrix} \\right] = \\left[ \\begin{matrix}9&-9\\\\ -9&9\\end{matrix} \\right]$\n",
    "\n",
    "**3. Calculate eigenvalues and eigenvectors of U**  \n",
    "**3.1. eigenvalues**  \n",
    "Approach for finding eigenvalues of a matrix:  \n",
    "$U - \\lambda I = 0$  $with \\lambda = eigenvalue$  \n",
    "$ \\left[ \\begin{matrix}2-\\lambda&-4&4\\\\ -4&8-\\lambda&-8\\\\ 4&-8&8-\\lambda\\end{matrix} \\right] = 0$\n",
    "\n",
    "Create characteristic polynomial (by using rule of Sarrus):  \n",
    "Simplified: $(-\\lambda^3 + 18\\lambda^2)=0 $  \n",
    "$\\lambda * (-\\lambda^2 + 18\\lambda)=0 $  \n",
    "$\\lambda * ( \\lambda * (-\\lambda + 18)=0 $  \n",
    "$ \\lambda_1 = 18$  \n",
    "$ \\lambda_2 = 0$  \n",
    "\n",
    "**3.2. eigenvectors**  \n",
    "Approach for finding eigenvalues of a matrix:  \n",
    "$U - \\lambda I * x = 0$  $with \\lambda = eigenvalue and x = eigenvector$  \n",
    "$ \\left[ \\begin{matrix}2-\\lambda&-4&4\\\\ -4&8-\\lambda&-8\\\\ 4&-8&8-\\lambda\\end{matrix} \\right] * \\left[ \\begin{matrix}x_1\\\\ x_2\\\\ x_3\\end{matrix} \\right] = 0$\n",
    "\n",
    "For $ \\lambda_1 = 18$  \n",
    "$\\left[ \\begin{matrix}2-18&-4&4\\\\ -4&8-18&-8\\\\ 4&-8&8-18\\end{matrix} \\right] = \\left[ \\begin{matrix}0\\\\ 0\\\\ 0\\end{matrix} \\right]$ Solution of the linear equation system = $\\left[ \\begin{matrix}1/2\\\\ -1\\\\ 1\\end{matrix} \\right]$\n",
    "\n",
    "For $ \\lambda_2 = 0$  \n",
    "$\\left[ \\begin{matrix}2-0&-4&4\\\\ -4&8-0&-8\\\\ 4&-8&8-0\\end{matrix} \\right] = \\left[ \\begin{matrix}0\\\\ 0\\\\ 0\\end{matrix} \\right]$ Solution of the linear equation system = $\\left[ \\begin{matrix}-2\\\\ 0\\\\ 1\\end{matrix} \\right]$\n",
    "\n",
    "The eigenvectors are:  \n",
    "$u_1 = \\left[ \\begin{matrix}1/2\\\\ -1\\\\ 1\\end{matrix} \\right]$\n",
    "$u_2 = \\left[ \\begin{matrix}2\\\\ 0\\\\ 1\\end{matrix} \\right]$\n",
    "$u_3 = \\left[ \\begin{matrix}-2\\\\ 0\\\\ 1\\end{matrix} \\right]$\n",
    "\n",
    "**3.3. normalize eigenvectors**  \n",
    "\n",
    "$u_1 = \\left[ \\begin{matrix}(1/2)/\\sqrt{0,5^2 + (-1)^2 + 1^2)}\\\\ -1/\\sqrt{0,5^2 + (-1)^2 + 1^2)}\\\\ 1/\\sqrt{0,5^2 + (-1)^2 + 1^2)}\\end{matrix} \\right] = \\left[ \\begin{matrix}1/3\\\\ -2/3\\\\ 2/3\\end{matrix} \\right] $\n",
    "\n",
    "$u_2 = \\left[ \\begin{matrix}2/\\sqrt{2^2 + 0^2 + 1^2)}\\\\ 0/\\sqrt{2^2 + 0^2 + 1^2)}\\\\ 1/\\sqrt{2^2 + 0^2 + 1^2)}\\end{matrix} \\right] = \\left[ \\begin{matrix}0,8944\\\\ 0\\\\ 0,4472\\end{matrix} \\right] $\n",
    "\n",
    "$u_3 = \\left[ \\begin{matrix}-2/\\sqrt{(-2)^2 + 0^2 + 1^2)}\\\\ 0/\\sqrt{(-2)^2 + 0^2 + 1^2)}\\\\ 1/\\sqrt{(-2)^2 + 0^2 + 1^2)}\\end{matrix} \\right] = \\left[ \\begin{matrix}-0,8944\\\\ 0\\\\ 0,4472\\end{matrix} \\right] $\n",
    "\n",
    "$u = u_1 u_2 u_3 = \\left[ \\begin{matrix}1/3&0,8944&-0,8944\\\\ -2/3&0&0\\\\ 2/3&0,4472&0,4472\\end{matrix} \\right] $\n",
    "\n",
    "**4. Calculate eigenvalues and eigenvectors of V**  \n",
    "**4.1. eigenvalues**  \n",
    "Approach for finding eigenvalues of a matrix:  \n",
    "$V - \\lambda I = 0$  $with \\lambda = eigenvalue$  \n",
    "$ \\left[ \\begin{matrix}9-\\lambda&-9\\\\ -9&9-\\lambda\\end{matrix} \\right] = 0$  \n",
    "\n",
    "Create characteristic polynomial (by using rule of Sarrus):  \n",
    "$ (9-\\lambda) * (9-\\lambda) - (-9) * (-9) = 0 $  \n",
    "Simplified: $\\lambda^2 - 18\\lambda=0 $   \n",
    "$\\lambda * (\\lambda - 18)=0 $   \n",
    "$ \\lambda_1 = 18$  \n",
    "$ \\lambda_2 = 0$  \n",
    "\n",
    "**4.2. eigenvectors**  \n",
    "Approach for finding eigenvalues of a matrix:  \n",
    "$V - \\lambda I * x = 0$  $with \\lambda = eigenvalue and x = eigenvector$  \n",
    "$ \\left[ \\begin{matrix}9-\\lambda&-9\\\\ -9&9-\\lambda\\end{matrix} \\right] * \\left[ \\begin{matrix}x_1\\\\ x_2\\end{matrix} \\right] = 0$\n",
    "\n",
    "For $ \\lambda_1 = 18$  \n",
    "$\\left[ \\begin{matrix}9-18&-9\\\\ -9&9-18\\end{matrix} \\right] * \\left[ \\begin{matrix}x_1\\\\ x_2\\end{matrix} \\right] = \\left[ \\begin{matrix}0\\\\ 0\\end{matrix} \\right]$ Solution of the linear equation system = $\\left[ \\begin{matrix}-1\\\\ 1 \\end{matrix} \\right]$\n",
    "\n",
    "For $ \\lambda_2 = 0$  \n",
    "$\\left[ \\begin{matrix}9-0&-9\\\\ -9&9-0\\end{matrix} \\right] * \\left[ \\begin{matrix}x_1\\\\ x_2\\end{matrix} \\right] = \\left[ \\begin{matrix}0\\\\ 0\\end{matrix} \\right]$ Solution of the linear equation system = $\\left[ \\begin{matrix}1\\\\ 1 \\end{matrix} \\right]$\n",
    "\n",
    "The eigenvectors are:  \n",
    "$v_1 = \\left[ \\begin{matrix}1\\\\ 1 \\end{matrix} \\right]$\n",
    "$v_2 = \\left[ \\begin{matrix}-1\\\\ 1 \\end{matrix} \\right]$\n",
    "\n",
    "**4.3. normalize eigenvectors**  \n",
    "\n",
    "$v_1 = \\left[ \\begin{matrix}1/\\sqrt{1^2 + 1^2)}\\\\ 1/\\sqrt{1^2 + 1^2)} \\end{matrix} \\right] = \\left[ \\begin{matrix}0,7071\\\\ 0,7071\\end{matrix} \\right] $\n",
    "\n",
    "$v_2 = \\left[ \\begin{matrix}-1/\\sqrt{(-1)^2 + 1^2)}\\\\ 1/\\sqrt{(-1)^2 + 1^2)} \\end{matrix} \\right] = \\left[ \\begin{matrix}-0,7071\\\\ 0,7071\\end{matrix} \\right] $\n",
    "\n",
    "$v = v_1 v_2= \\left[ \\begin{matrix}0,7071&-0,7071\\\\ 0,7071&0,7071\\end{matrix} \\right] $\n",
    "\n",
    "$v^T = \\left[ \\begin{matrix}0,7071&0,7071\\\\ -0,7071&0,7071\\end{matrix} \\right] $\n",
    "\n",
    "**5. Matrix S**  \n",
    "S consists of the eigenvalues of V which are placed on the main diagonal of S  \n",
    "$S = \\left[ \\begin{matrix}s_1&0\\\\ 0&s_1 \\\\ 0&0\\end{matrix} \\right] = \\left[ \\begin{matrix}\\sqrt{18}&0\\\\ 0&0 \\\\ 0&0\\end{matrix} \\right] $\n",
    "\n",
    "**6. Conclusion**  \n",
    "\n",
    "$u = \\left[ \\begin{matrix}1/3&0,8944&-0,8944\\\\ -2/3&0&0\\\\ 2/3&0,4472&0,4472\\end{matrix} \\right] $\n",
    "\n",
    "$S = \\left[ \\begin{matrix}\\sqrt{18}&0\\\\ 0&0 \\\\ 0&0\\end{matrix} \\right] $\n",
    "\n",
    "$v^T = \\left[ \\begin{matrix}0,7071&0,7071\\\\ -0,7071&0,7071\\end{matrix} \\right] $"
   ]
  },
  {
   "cell_type": "markdown",
   "metadata": {},
   "source": [
    "## Sub Task 3:\n",
    "\n",
    "Consider the term-document matrix \n",
    "\n",
    "|        | d1 | d2 | d3 | d4 | d5 | d6 |\n",
    "|--------|----|----|----|----|----|----|\n",
    "| bank   | 1  | 2  | 1  | 2  | 1  | 1  |\n",
    "| money  | 0  | 0  | 0  | 2  | 1  | 2  |\n",
    "| river  | 2  | 0  | 2  | 0  | 0  | 0  |\n",
    "| ship   | 2  | 1  | 1  | 0  | 0  | 0  |\n",
    "| water  | 1  | 2  | 2  | 0  | 0  | 0  |\n",
    "| invest | 0  | 0  | 0  | 1  | 2  | 0  |\n",
    "| loan   | 0  | 0  | 0  | 1  | 1  | 1  |\n",
    "\n",
    "Use NumPy to compute the SVD for the matrix and write down the term matrix (U) and document matrix ($V^T$) and the singular values ($\\Sigma$). Compute the following: \n",
    "\n",
    "- zero out everything but the 2 largest singular values of $\\Sigma$ and compute the new term-document matrix.\n",
    "- detect the two topics given the new $\\Sigma$ and show the top-3 words for each. What are these topics? \n",
    "- what is the most similar document to each document, using the cosine similarity and reduced representation? \n",
    "\n"
   ]
  },
  {
   "cell_type": "code",
   "execution_count": 94,
   "metadata": {},
   "outputs": [],
   "source": [
    "import numpy as np \n",
    "A = np.array([[1,0,2,2,1,0,0],\n",
    "             [2,0,0,1,2,0,0],\n",
    "             [1,0,2,1,2,0,0],\n",
    "             [2,2,0,0,0,1,1],\n",
    "             [1,1,0,0,0,2,1],\n",
    "             [1,2,0,0,0,0,1]])"
   ]
  },
  {
   "cell_type": "code",
   "execution_count": 95,
   "metadata": {},
   "outputs": [],
   "source": [
    "u, s, vh = np.linalg.svd(A, full_matrices=True) ### Your Code ####"
   ]
  },
  {
   "cell_type": "code",
   "execution_count": 96,
   "metadata": {},
   "outputs": [
    {
     "name": "stdout",
     "output_type": "stream",
     "text": [
      "[5.312145587284325, 4.101240409843781, 0, 0, 0, 0]\n"
     ]
    }
   ],
   "source": [
    "two_largest_singular_values = sorted(s, reverse=True)[:2]\n",
    "two_largest_singular_values.extend([0, 0, 0, 0])\n",
    "print(two_largest_singular_values)"
   ]
  },
  {
   "cell_type": "code",
   "execution_count": 97,
   "metadata": {
    "scrolled": true
   },
   "outputs": [
    {
     "name": "stdout",
     "output_type": "stream",
     "text": [
      "[[ 1.2 -0.1  1.5  1.4  1.7 -0.1 -0.1]\n",
      " [ 1.4  0.4  1.2  1.1  1.4  0.2  0.2]\n",
      " [ 1.3 -0.1  1.6  1.5  1.8 -0.1 -0.1]\n",
      " [ 1.8  2.  -0.1  0.1  0.2  1.2  1.2]\n",
      " [ 1.3  1.5 -0.2 -0.1 -0.   0.9  0.9]\n",
      " [ 1.2  1.4 -0.1 -0.   0.   0.8  0.8]]\n"
     ]
    }
   ],
   "source": [
    "Sigma = np.zeros((A.shape[0], A.shape[1]))\n",
    "Sigma[:A.shape[1], :A.shape[0]] = np.diag(two_largest_singular_values)\n",
    "new_reconstruction= u.dot(Sigma.dot(vh))\n",
    "print(new_reconstruction.round(1))"
   ]
  },
  {
   "cell_type": "code",
   "execution_count": 98,
   "metadata": {},
   "outputs": [
    {
     "name": "stdout",
     "output_type": "stream",
     "text": [
      "['bank water river', 'money invest loan']\n"
     ]
    }
   ],
   "source": [
    "vocab=['bank', 'money', 'river', 'ship', 'water', 'invest', 'loan']\n",
    "\n",
    "svd = TruncatedSVD(n_components=5, n_iter=7, random_state=42)\n",
    "svd.fit(new_reconstruction)\n",
    "\n",
    "n_top_words = 3\n",
    "topics = show_topics(svd.components_, n_top_words, vocab)\n",
    "\n",
    "top_words = topics[:2] ### Your Code ###\n",
    "print(top_words)"
   ]
  },
  {
   "cell_type": "code",
   "execution_count": 99,
   "metadata": {
    "scrolled": true
   },
   "outputs": [
    {
     "name": "stdout",
     "output_type": "stream",
     "text": [
      "Document similarities:\n",
      "d1 to d1: [[1.]]\n",
      "d1 to d2: [[0.76894992]]\n",
      "d1 to d3: [[0.58798063]]\n",
      "d1 to d4: [[0.66111764]]\n",
      "d1 to d5: [[0.69412426]]\n",
      "d1 to d6: [[0.74298566]]\n",
      "d1 to d7: [[0.74298566]]\n",
      "d2 to d1: [[0.76894992]]\n",
      "d2 to d2: [[1.]]\n",
      "d2 to d3: [[-0.06459549]]\n",
      "d2 to d4: [[0.02960394]]\n",
      "d2 to d5: [[0.07385903]]\n",
      "d2 to d6: [[0.9989975]]\n",
      "d2 to d7: [[0.9989975]]\n",
      "d3 to d1: [[0.58798063]]\n",
      "d3 to d2: [[-0.06459549]]\n",
      "d3 to d3: [[1.]]\n",
      "d3 to d4: [[0.99507182]]\n",
      "d3 to d5: [[0.98988851]]\n",
      "d3 to d6: [[-0.1043006]]\n",
      "d3 to d7: [[-0.1043006]]\n",
      "d4 to d1: [[0.66111764]]\n",
      "d4 to d2: [[0.02960394]]\n",
      "d4 to d3: [[0.99507182]]\n",
      "d4 to d4: [[1.]]\n",
      "d4 to d5: [[0.99844318]]\n",
      "d4 to d6: [[-0.00998503]]\n",
      "d4 to d7: [[-0.00998503]]\n",
      "d5 to d1: [[0.69412426]]\n",
      "d5 to d2: [[0.07385903]]\n",
      "d5 to d3: [[0.98988851]]\n",
      "d5 to d4: [[0.99844318]]\n",
      "d5 to d5: [[1.]]\n",
      "d5 to d6: [[0.03471304]]\n",
      "d5 to d7: [[0.03471304]]\n",
      "d6 to d1: [[0.74298566]]\n",
      "d6 to d2: [[0.9989975]]\n",
      "d6 to d3: [[-0.1043006]]\n",
      "d6 to d4: [[-0.00998503]]\n",
      "d6 to d5: [[0.03471304]]\n",
      "d6 to d6: [[1.]]\n",
      "d6 to d7: [[1.]]\n",
      "d7 to d1: [[0.74298566]]\n",
      "d7 to d2: [[0.9989975]]\n",
      "d7 to d3: [[-0.1043006]]\n",
      "d7 to d4: [[-0.00998503]]\n",
      "d7 to d5: [[0.03471304]]\n",
      "d7 to d6: [[1.]]\n",
      "d7 to d7: [[1.]]\n"
     ]
    }
   ],
   "source": [
    "from sklearn.metrics import pairwise\n",
    "from scipy import sparse\n",
    "\n",
    "documents = []\n",
    "for i in range(0, len(new_reconstruction[0])):\n",
    "    document = new_reconstruction.round(1)[:, [i]]\n",
    "    documents.append(document.reshape(6,))\n",
    "\n",
    "print(\"Document similarities:\")\n",
    "for i,document1 in enumerate(documents):\n",
    "    for j,document2 in enumerate(documents):\n",
    "        print('d{} to d{}: {}'.format(i+1, j+1, cosine_similarity([document1], [document2])))"
   ]
  },
  {
   "cell_type": "code",
   "execution_count": null,
   "metadata": {},
   "outputs": [],
   "source": []
  }
 ],
 "metadata": {
  "kernelspec": {
   "display_name": "Python 3",
   "language": "python",
   "name": "python3"
  },
  "language_info": {
   "codemirror_mode": {
    "name": "ipython",
    "version": 3
   },
   "file_extension": ".py",
   "mimetype": "text/x-python",
   "name": "python",
   "nbconvert_exporter": "python",
   "pygments_lexer": "ipython3",
   "version": "3.7.9"
  }
 },
 "nbformat": 4,
 "nbformat_minor": 2
}
