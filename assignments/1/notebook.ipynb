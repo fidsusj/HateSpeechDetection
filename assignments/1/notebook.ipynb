{
  "nbformat": 4,
  "nbformat_minor": 0,
  "metadata": {
    "colab": {
      "name": "notebook.ipynb",
      "provenance": [],
      "collapsed_sections": []
    },
    "kernelspec": {
      "name": "python3",
      "display_name": "Python 3"
    }
  },
  "cells": [
    {
      "cell_type": "markdown",
      "metadata": {
        "id": "oVu_8NTOaUq0"
      },
      "source": [
        "Problem 1-2\n",
        "\n",
        "2. quantitative comparison via SequenceMatcher.ratio()"
      ]
    },
    {
      "cell_type": "code",
      "metadata": {
        "id": "wRzqx5kCb46U"
      },
      "source": [
        "import difflib"
      ],
      "execution_count": 26,
      "outputs": []
    },
    {
      "cell_type": "code",
      "metadata": {
        "id": "8FPecnvWb8mY"
      },
      "source": [
        "# read files to strings\n",
        "filename = \" - FL_SYB_BetriebsaerztlicherDienst_ID8414.txt\"\n",
        "\n",
        "pdftotext = open('online pdftotext' + filename, 'r').read()\n",
        "pdf2go = open('online pdf2go' + filename, 'r').read()\n",
        "calibre = open('calibre' + filename, 'r').read()\n",
        "pypdf2 = open('pypdf2' + filename, 'r').read()"
      ],
      "execution_count": 45,
      "outputs": []
    },
    {
      "cell_type": "code",
      "metadata": {
        "colab": {
          "base_uri": "https://localhost:8080/"
        },
        "id": "FZNOck80dUA0",
        "outputId": "046e176d-e8df-421c-8e16-583774f1b338"
      },
      "source": [
        "baseline = difflib.SequenceMatcher(None, pdftotext, pdftotext).ratio()\n",
        "\n",
        "pdf2go_ratio = difflib.SequenceMatcher(None, pdf2go, pdftotext).ratio()\n",
        "calibre_ratio = difflib.SequenceMatcher(None, calibre, pdftotext).ratio()\n",
        "pypdf2_ratio = difflib.SequenceMatcher(None, pypdf2, pdftotext).ratio()\n",
        "\n",
        "print(\"baseline:\", baseline)\n",
        "print(\"pdf2go:\", pdf2go_ratio)\n",
        "print(\"calibre:\", calibre_ratio)\n",
        "print(\"pypdf2:\", pypdf2_ratio)"
      ],
      "execution_count": 52,
      "outputs": [
        {
          "output_type": "stream",
          "text": [
            "baseline: 1.0\n",
            "pdf2go: 0.45782220202938056\n",
            "calibre: 0.35420936764594246\n",
            "pypdf2: 0.3905145549897393\n"
          ],
          "name": "stdout"
        }
      ]
    },
    {
      "cell_type": "markdown",
      "metadata": {
        "id": "VB76ala10a5Y"
      },
      "source": [
        "4. \n",
        "(i)"
      ]
    },
    {
      "cell_type": "code",
      "metadata": {
        "id": "bUYnlT9e1AYe"
      },
      "source": [
        "import os\n",
        "import re"
      ],
      "execution_count": 64,
      "outputs": []
    },
    {
      "cell_type": "code",
      "metadata": {
        "id": "Cr80PW_30xUU"
      },
      "source": [
        "directory = \"processed_txt/phone_numbers\"\n",
        "phone_numbers = r\"\\d[\\d\\ \\/\\-\\–]{6,}\\d\"\n",
        "\n",
        "file = open(\"extracted_phone_numbers.txt\", \"w\")\n",
        "\n",
        "for filename in os.listdir(directory):\n",
        "  lines = open(os.path.join(directory, filename)).readlines()\n",
        "  for line in lines:\n",
        "    result = re.search(phone_numbers, line)\n",
        "    if result:\n",
        "      file.write(result.group() + \"\\n\")\n",
        "      print(result.group())"
      ],
      "execution_count": null,
      "outputs": []
    }
  ]
}