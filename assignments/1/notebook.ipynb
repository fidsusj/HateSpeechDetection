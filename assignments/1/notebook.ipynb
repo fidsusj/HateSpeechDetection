{
 "cells": [
  {
   "cell_type": "markdown",
   "metadata": {},
   "source": [
    "Felix Hausberger\n",
    "\n",
    "Christopher Klammt\n",
    "\n",
    "Nils Krehl"
   ]
  },
  {
   "cell_type": "markdown",
   "metadata": {
    "id": "oVu_8NTOaUq0"
   },
   "source": [
    "# Problem 1-2 PDF Conversion and Regular Expressions\n",
    "\n",
    "## 2. Quantitative comparison via SequenceMatcher.ratio()"
   ]
  },
  {
   "cell_type": "markdown",
   "metadata": {},
   "source": [
    "Convert PDFs to plain text\n",
    "\n",
    "To use pdftotext the following dependencies need to be installed: `sudo apt-get install build-essential libpoppler-cpp-dev pkg-config python-dev`"
   ]
  },
  {
   "cell_type": "code",
   "execution_count": 1,
   "metadata": {},
   "outputs": [],
   "source": [
    "import pdftotext\n",
    "from PyPDF2 import PdfFileReader\n",
    "from pdfminer.pdfinterp import PDFResourceManager, PDFPageInterpreter\n",
    "from pdfminer.converter import TextConverter\n",
    "from pdfminer.layout import LAParams\n",
    "from pdfminer.pdfpage import PDFPage\n",
    "from io import StringIO"
   ]
  },
  {
   "cell_type": "code",
   "execution_count": 2,
   "metadata": {},
   "outputs": [],
   "source": [
    "input_file_path = 'data/phone_numbers/FL_SYB_BetriebsaerztlicherDienst_ID8414.pdf'\n",
    "output_path_pdfminer = 'comparison_txt/pdfminer - FL_SYB_BetriebsaerztlicherDienst_ID8414.txt'\n",
    "output_path_pdftotext = 'comparison_txt/pdftotext - FL_SYB_BetriebsaerztlicherDienst_ID8414.txt'\n",
    "output_path_pypdf2 = 'comparison_txt/pypdf2 - FL_SYB_BetriebsaerztlicherDienst_ID8414.txt'\n",
    "\n",
    "def run_pdfminer(input_file_path):\n",
    "    output = StringIO()\n",
    "    manager = PDFResourceManager()\n",
    "    converter = TextConverter(manager, output, laparams=LAParams())\n",
    "    interpreter = PDFPageInterpreter(manager, converter)\n",
    "    \n",
    "    with open(input_file_path, \"rb\") as input_file:\n",
    "        for page in PDFPage.get_pages(input_file):\n",
    "            interpreter.process_page(page)    \n",
    "        converter.close()\n",
    "        text = output.getvalue()\n",
    "    return text\n",
    "    \n",
    "pdfminer = run_pdfminer(input_file_path)\n",
    "\n",
    "def run_pdftotext(input_path_file):\n",
    "    with open(input_file_path, \"rb\") as input_file:\n",
    "        text = pdftotext.PDF(input_file)\n",
    "    return text\n",
    "\n",
    "pdftotext = run_pdftotext(input_file_path)\n",
    "\n",
    "def run_pypdf2(input_file_path):\n",
    "    with open(input_file_path, \"rb\") as input_file:\n",
    "        pypdf2reader = PdfFileReader(input_file,strict=False)\n",
    "        totalPageNumber = pypdf2reader.numPages\n",
    "        currentPageNumber = 0\n",
    "        pdf_content = []\n",
    "        while (currentPageNumber < totalPageNumber):\n",
    "            page = pypdf2reader.getPage(currentPageNumber)\n",
    "            text = page.extractText()\n",
    "            pdf_content.append(text)\n",
    "            currentPageNumber += 1\n",
    "    return pdf_content\n",
    "\n",
    "pypdf2 = run_pypdf2(input_file_path)\n",
    "\n",
    "def write_file(output_file, content):\n",
    "    output_file = open(output_file, 'w')\n",
    "    output_file.write(content)\n",
    "    output_file.close()\n",
    "\n",
    "write_file(output_path_pdftotext, \"\\n\\n\".join(pdftotext))\n",
    "write_file(output_path_pypdf2, \"\\n\\n\".join(pypdf2))\n",
    "write_file(output_path_pdfminer, pdfminer)"
   ]
  },
  {
   "cell_type": "markdown",
   "metadata": {},
   "source": [
    "Compare results of pdf to text conversion"
   ]
  },
  {
   "cell_type": "code",
   "execution_count": 3,
   "metadata": {
    "id": "wRzqx5kCb46U"
   },
   "outputs": [],
   "source": [
    "import difflib"
   ]
  },
  {
   "cell_type": "code",
   "execution_count": 4,
   "metadata": {
    "id": "8FPecnvWb8mY"
   },
   "outputs": [],
   "source": [
    "# read files to strings\n",
    "filename = \" - FL_SYB_BetriebsaerztlicherDienst_ID8414.txt\"\n",
    "\n",
    "online = open('comparison_txt/online pdftotext' + filename, mode='r', encoding=\"utf8\").read()\n",
    "pdfminer = open('comparison_txt/pdfminer' + filename, mode='r', encoding=\"utf8\").read()\n",
    "pdftotext = open('comparison_txt/pdftotext' + filename, mode='r', encoding=\"utf8\").read()\n",
    "pypdf2 = open('comparison_txt/pypdf2' + filename, mode='r', encoding=\"utf8\").read()"
   ]
  },
  {
   "cell_type": "code",
   "execution_count": 5,
   "metadata": {
    "colab": {
     "base_uri": "https://localhost:8080/"
    },
    "id": "FZNOck80dUA0",
    "outputId": "046e176d-e8df-421c-8e16-583774f1b338"
   },
   "outputs": [
    {
     "name": "stdout",
     "output_type": "stream",
     "text": [
      "baseline: 1.0\n",
      "pdfminer: 0.4150660264105642\n",
      "pdftotext: 0.19538226965802657\n",
      "pypdf2: 0.39060718899612434\n"
     ]
    }
   ],
   "source": [
    "baseline = difflib.SequenceMatcher(None, online, online).ratio()\n",
    "pdfminer_ratio = difflib.SequenceMatcher(None, pdfminer, online).ratio()\n",
    "pdftotext_ratio = difflib.SequenceMatcher(None, pdftotext, online).ratio()\n",
    "pypdf2_ratio = difflib.SequenceMatcher(None, pypdf2, online).ratio()\n",
    "\n",
    "print(\"baseline:\", baseline)\n",
    "print(\"pdfminer:\", pdfminer_ratio)\n",
    "print(\"pdftotext:\", pdftotext_ratio)\n",
    "print(\"pypdf2:\", pypdf2_ratio)"
   ]
  },
  {
   "cell_type": "markdown",
   "metadata": {
    "id": "VB76ala10a5Y"
   },
   "source": [
    "## 4. Regex Extractions"
   ]
  },
  {
   "cell_type": "markdown",
   "metadata": {},
   "source": [
    "### (i)"
   ]
  },
  {
   "cell_type": "code",
   "execution_count": 6,
   "metadata": {
    "id": "Cr80PW_30xUU"
   },
   "outputs": [],
   "source": [
    "import os\n",
    "import re\n",
    "\n",
    "directory = \"processed_txt/phone_numbers\"\n",
    "phone_numbers = r\"\\(?\\d[\\d\\ \\/\\-\\–)]{6,}\\d\"\n",
    "\n",
    "file = open(\"extracted_phone_numbers.txt\", \"w\")\n",
    "\n",
    "for filename in os.listdir(directory):\n",
    "  lines = open(os.path.join(directory, filename)).readlines()\n",
    "  for line in lines:\n",
    "    result = re.search(phone_numbers, line)\n",
    "    if result:\n",
    "        phone_number = result.group()\n",
    "        phone_number = phone_number.replace(\" \", \"\")\n",
    "        phone_number = phone_number.replace(\"/\", \"\")\n",
    "        phone_number = phone_number.replace(\"-\", \"\")\n",
    "        phone_number = phone_number.replace(\"–\", \"\")\n",
    "        phone_number = phone_number.replace(\"(\", \"\")\n",
    "        phone_number = phone_number.replace(\")\", \"\")\n",
    "        file.write(phone_number + \"\\n\")\n",
    "        \n",
    "file.close()"
   ]
  },
  {
   "cell_type": "markdown",
   "metadata": {},
   "source": [
    "### (ii)\n"
   ]
  },
  {
   "cell_type": "code",
   "execution_count": 7,
   "metadata": {},
   "outputs": [],
   "source": [
    "import os\n",
    "import re\n",
    "\n",
    "directory = \"processed_txt/phone_numbers\"\n",
    "urls = r\"www.[a-zA-Z0-9+\\-&@#\\/%?=~_|!:.]*\"\n",
    "\n",
    "file = open(\"extracted_urls.txt\", \"w\")\n",
    "\n",
    "for filename in os.listdir(directory):\n",
    "  lines = open(os.path.join(directory, filename)).readlines()\n",
    "  for line in lines:\n",
    "    result = re.search(urls, line)\n",
    "    if result:\n",
    "        url = result.group()\n",
    "        file.write(url + \"\\n\")\n",
    "             \n",
    "file.close()"
   ]
  },
  {
   "cell_type": "code",
   "execution_count": 8,
   "metadata": {},
   "outputs": [],
   "source": [
    "import os\n",
    "import re\n",
    "\n",
    "directory = \"processed_txt/phone_numbers\"\n",
    "emails = r\"[a-zA-Z0-9\\-_.]+@[a-zA-Z0-9\\-_.]*\\.[a-zA-Z0-9\\-]+\"\n",
    "\n",
    "file = open(\"extracted_emails.txt\", \"w\")\n",
    "\n",
    "for filename in os.listdir(directory):\n",
    "  lines = open(os.path.join(directory, filename)).readlines()\n",
    "  for line in lines:\n",
    "    result = re.search(emails, line)\n",
    "    if result:\n",
    "        email = result.group()\n",
    "        file.write(email + \"\\n\")\n",
    "        \n",
    "file.close()"
   ]
  },
  {
   "cell_type": "markdown",
   "metadata": {},
   "source": [
    "### (iii)"
   ]
  },
  {
   "cell_type": "code",
   "execution_count": 9,
   "metadata": {
    "tags": [
     "outputPrepend"
    ]
   },
   "outputs": [],
   "source": [
    "import os\n",
    "import re\n",
    "\n",
    "isbn_path = \"processed_txt/isbn/gelbe_seiten_2019-43.txt\"\n",
    "isbn_numbers = r\"^(?=(?:\\D*\\d){10}(?:(?:\\D*\\d){3})?$)(978|979)[\\d-]+$\"\n",
    "\n",
    "file = open(\"extracted_isbn.txt\", mode=\"w\", encoding=\"utf-8\")\n",
    "\n",
    "lines = open(isbn_path, encoding=\"utf-8\").readlines()\n",
    "for line in lines:\n",
    "    result = re.search(isbn_numbers, line)\n",
    "    if result:\n",
    "        file.write(result.group() + \"\\n\")\n",
    "            \n",
    "file.close()"
   ]
  },
  {
   "cell_type": "markdown",
   "metadata": {},
   "source": [
    "### (iv)"
   ]
  },
  {
   "cell_type": "code",
   "execution_count": 10,
   "metadata": {},
   "outputs": [
    {
     "name": "stdout",
     "output_type": "stream",
     "text": [
      "1.337 l\n",
      "2.500 l\n",
      "0.012 l\n",
      "18.421 l\n",
      "8.321 l\n"
     ]
    }
   ],
   "source": [
    "import os\n",
    "import regex as re\n",
    "\n",
    "unit_path = \"data/unit_conversion/si.txt\"\n",
    "file = open(\"converted_units.txt\", \"w\")\n",
    "regex = r\"((\\d*?)|(\\d+?),)(\\d{1,3})(\\.\\d+)?\\s?(ml|milliliters)\"\n",
    "\n",
    "for line in open(unit_path, encoding=\"utf-8\").readlines():\n",
    "    result = re.search(regex, line)\n",
    "    if result:\n",
    "        unit = \"\"\n",
    "        if (result.group(2)):\n",
    "            unit += re.subf(regex, r\"{2}\", result.group())\n",
    "        elif (result.group(3)):\n",
    "            unit += re.subf(regex, r\"{3}\", result.group())\n",
    "        else:\n",
    "            unit = \"0\"\n",
    "        \n",
    "        unit += \".\"\n",
    "        \n",
    "        if len(result.group(4)) == 1:\n",
    "            unit += re.subf(regex, r\"00{4} l\", result.group())\n",
    "        elif len(result.group(4)) == 2:\n",
    "            unit += re.subf(regex, r\"0{4} l\", result.group())\n",
    "        else:\n",
    "            unit += re.subf(regex, r\"{4} l\", result.group())\n",
    "        file.write(unit + \"\\n\")\n",
    "        print(unit)\n",
    "        \n",
    "file.close()"
   ]
  },
  {
   "cell_type": "markdown",
   "metadata": {},
   "source": [
    "##### 5."
   ]
  },
  {
   "cell_type": "code",
   "execution_count": 11,
   "metadata": {},
   "outputs": [],
   "source": [
    "import re\n",
    "import os\n",
    "\n",
    "directory = \"processed_txt/scans\"\n",
    "phone_numbers = r\"\\(?\\d[\\d\\ \\/\\-\\–)]{6,}\\d\"\n",
    "\n",
    "file = open(\"extracted_phone_numbers_scans.txt\", \"w\")\n",
    "\n",
    "for filename in os.listdir(directory):\n",
    "    lines = open(os.path.join(directory, filename), encoding=\"utf-8\").readlines()\n",
    "    for line in lines:\n",
    "        result = re.search(phone_numbers, line)\n",
    "        if result:\n",
    "            phone_number = result.group()\n",
    "            phone_number = phone_number.replace(\" \", \"\")\n",
    "            phone_number = phone_number.replace(\"/\", \"\")\n",
    "            phone_number = phone_number.replace(\"-\", \"\")\n",
    "            phone_number = phone_number.replace(\"–\", \"\")\n",
    "            phone_number = phone_number.replace(\"(\", \"\")\n",
    "            phone_number = phone_number.replace(\")\", \"\")\n",
    "            \n",
    "            file.write(phone_number + \"\\n\")\n",
    "            \n",
    "file.close()"
   ]
  },
  {
   "cell_type": "markdown",
   "metadata": {
    "pycharm": {
     "name": "#%% md\n"
    }
   },
   "source": [
    "It works quite okay with the scanned and ocr interpreted text. But some phone numbers are missed, because they have wrong characters recognized in between them.\n",
    "Examples:\n",
    "- \"(06221) 43.41 49-0\" is not recognized because of the point in between numbers\n",
    "- \"(0 62 21] 4 18 55 58\" is not recognized because the closing bracket is\n",
    "\n",
    "The extraction can be changed to take these into account, but one never can be sure to get all misinterpretations right.\n",
    "\n",
    "Furthermore, one difficulty is, that a lot of the phone numbers don't have a prefix, because e.g. it is a prefix for all numbers on one page. "
   ]
  }
 ],
 "metadata": {
  "colab": {
   "collapsed_sections": [],
   "name": "notebook.ipynb",
   "provenance": []
  },
  "kernelspec": {
   "display_name": "Python 3",
   "language": "python",
   "name": "python3"
  },
  "language_info": {
   "codemirror_mode": {
    "name": "ipython",
    "version": 3
   },
   "file_extension": ".py",
   "mimetype": "text/x-python",
   "name": "python",
   "nbconvert_exporter": "python",
   "pygments_lexer": "ipython3",
   "version": "3.7.9"
  },
  "pycharm": {
   "stem_cell": {
    "cell_type": "raw",
    "metadata": {
     "collapsed": false
    },
    "source": []
   }
  }
 },
 "nbformat": 4,
 "nbformat_minor": 4
}
