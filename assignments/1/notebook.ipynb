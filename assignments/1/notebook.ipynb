{
 "cells": [
  {
   "cell_type": "markdown",
   "metadata": {
    "id": "oVu_8NTOaUq0"
   },
   "source": [
    "# Problem 1-2 PDF Conversion and Regular Expressions\n",
    "\n",
    "## 2. Quantitative comparison via SequenceMatcher.ratio()"
   ]
  },
  {
   "cell_type": "code",
   "execution_count": 26,
   "metadata": {
    "id": "wRzqx5kCb46U"
   },
   "outputs": [],
   "source": [
    "import difflib"
   ]
  },
  {
   "cell_type": "code",
   "execution_count": 27,
   "metadata": {
    "id": "8FPecnvWb8mY"
   },
   "outputs": [],
   "source": [
    "# read files to strings\n",
    "filename = \" - FL_SYB_BetriebsaerztlicherDienst_ID8414.txt\"\n",
    "\n",
    "pdftotext = open('comparison_txt/online pdftotext' + filename, mode='r', encoding=\"utf8\").read()\n",
    "pdf2go = open('comparison_txt/online pdf2go' + filename, mode='r', encoding=\"utf8\").read()\n",
    "calibre = open('comparison_txt/calibre' + filename, mode='r', encoding=\"utf8\").read()\n",
    "pypdf2 = open('comparison_txt/pypdf2' + filename, mode='r', encoding=\"utf8\").read()"
   ]
  },
  {
   "cell_type": "code",
   "execution_count": 28,
   "metadata": {
    "colab": {
     "base_uri": "https://localhost:8080/"
    },
    "id": "FZNOck80dUA0",
    "outputId": "046e176d-e8df-421c-8e16-583774f1b338"
   },
   "outputs": [
    {
     "name": "stdout",
     "output_type": "stream",
     "text": [
      "baseline: 1.0\n",
      "pdf2go: 0.45782220202938056\n",
      "calibre: 0.35420936764594246\n",
      "pypdf2: 0.3905145549897393\n"
     ]
    }
   ],
   "source": [
    "baseline = difflib.SequenceMatcher(None, pdftotext, pdftotext).ratio()\n",
    "pdf2go_ratio = difflib.SequenceMatcher(None, pdf2go, pdftotext).ratio()\n",
    "calibre_ratio = difflib.SequenceMatcher(None, calibre, pdftotext).ratio()\n",
    "pypdf2_ratio = difflib.SequenceMatcher(None, pypdf2, pdftotext).ratio()\n",
    "\n",
    "print(\"baseline:\", baseline)\n",
    "print(\"pdf2go:\", pdf2go_ratio)\n",
    "print(\"calibre:\", calibre_ratio)\n",
    "print(\"pypdf2:\", pypdf2_ratio)"
   ]
  },
  {
   "cell_type": "markdown",
   "metadata": {
    "id": "VB76ala10a5Y"
   },
   "source": [
    "## 4. Regex Extractions"
   ]
  },
  {
   "cell_type": "markdown",
   "metadata": {},
   "source": [
    "### (i)"
   ]
  },
  {
   "cell_type": "code",
   "execution_count": 56,
   "metadata": {
    "id": "Cr80PW_30xUU"
   },
   "outputs": [],
   "source": [
    "import os\n",
    "import re\n",
    "\n",
    "directory = \"processed_txt/phone_numbers\"\n",
    "phone_numbers = r\"\\(?\\d[\\d\\ \\/\\-\\–)]{6,}\\d\"\n",
    "\n",
    "file = open(\"extracted_phone_numbers.txt\", \"w\")\n",
    "\n",
    "for filename in os.listdir(directory):\n",
    "  lines = open(os.path.join(directory, filename)).readlines()\n",
    "  for line in lines:\n",
    "    result = re.search(phone_numbers, line)\n",
    "    if result:\n",
    "        phone_number = result.group()\n",
    "        phone_number = phone_number.replace(\" \", \"\")\n",
    "        phone_number = phone_number.replace(\"/\", \"\")\n",
    "        phone_number = phone_number.replace(\"-\", \"\")\n",
    "        phone_number = phone_number.replace(\"–\", \"\")\n",
    "        phone_number = phone_number.replace(\"(\", \"\")\n",
    "        phone_number = phone_number.replace(\")\", \"\")\n",
    "        file.write(phone_number + \"\\n\")\n",
    "        \n",
    "file.close()"
   ]
  },
  {
   "cell_type": "markdown",
   "metadata": {},
   "source": [
    "### (ii)\n"
   ]
  },
  {
   "cell_type": "code",
   "execution_count": 58,
   "metadata": {},
   "outputs": [],
   "source": [
    "import os\n",
    "import re\n",
    "\n",
    "directory = \"processed_txt/phone_numbers\"\n",
    "urls = r\"www.[a-zA-Z0-9+\\-&@#\\/%?=~_|!:.]*\"\n",
    "\n",
    "file = open(\"extracted_urls.txt\", \"w\")\n",
    "\n",
    "for filename in os.listdir(directory):\n",
    "  lines = open(os.path.join(directory, filename)).readlines()\n",
    "  for line in lines:\n",
    "    result = re.search(urls, line)\n",
    "    if result:\n",
    "        url = result.group()\n",
    "        file.write(url + \"\\n\")\n",
    "             \n",
    "file.close()"
   ]
  },
  {
   "cell_type": "code",
   "execution_count": 59,
   "metadata": {},
   "outputs": [],
   "source": [
    "import os\n",
    "import re\n",
    "\n",
    "directory = \"processed_txt/phone_numbers\"\n",
    "emails = r\"[a-zA-Z0-9\\-_.]+@[a-zA-Z0-9\\-_.]*\\.[a-zA-Z0-9\\-]+\"\n",
    "\n",
    "file = open(\"extracted_emails.txt\", \"w\")\n",
    "\n",
    "for filename in os.listdir(directory):\n",
    "  lines = open(os.path.join(directory, filename)).readlines()\n",
    "  for line in lines:\n",
    "    result = re.search(emails, line)\n",
    "    if result:\n",
    "        email = result.group()\n",
    "        file.write(email + \"\\n\")\n",
    "        \n",
    "file.close()"
   ]
  },
  {
   "cell_type": "markdown",
   "metadata": {},
   "source": [
    "### (iii)"
   ]
  },
  {
   "cell_type": "code",
   "execution_count": 60,
   "metadata": {
    "tags": [
     "outputPrepend"
    ]
   },
   "outputs": [],
   "source": [
    "import os\n",
    "import re\n",
    "\n",
    "isbn_path = \"processed_txt/isbn/gelbe_seiten_2019-43.txt\"\n",
    "isbn_numbers = r\"^(?=(?:\\D*\\d){10}(?:(?:\\D*\\d){3})?$)(978|979)[\\d-]+$\"\n",
    "\n",
    "file = open(\"extracted_isbn.txt\", mode=\"w\", encoding=\"utf-8\")\n",
    "\n",
    "lines = open(isbn_path, encoding=\"utf-8\").readlines()\n",
    "for line in lines:\n",
    "    result = re.search(isbn_numbers, line)\n",
    "    if result:\n",
    "        file.write(result.group() + \"\\n\")\n",
    "            \n",
    "file.close()"
   ]
  },
  {
   "cell_type": "markdown",
   "metadata": {},
   "source": [
    "### (iv)"
   ]
  },
  {
   "cell_type": "code",
   "execution_count": 61,
   "metadata": {},
   "outputs": [],
   "source": [
    "import os\n",
    "import re\n",
    "\n",
    "unit_path = \"data/unit_conversion/si.txt\"\n",
    "file = open(\"converted_units.txt\", \"w\")\n",
    "regex1 = r\".*(?=\\s?(ml|milliliters))\"\n",
    "\n",
    "for line in open(unit_path, encoding=\"utf-8\").readlines():\n",
    "    result = re.search(regex1, line)\n",
    "    if result:\n",
    "        unit = str(round(float(result.group(0).replace(',',''))/1000,3)) + \" l\"\n",
    "        file.write(unit + \"\\n\")\n",
    "        \n",
    "file.close()"
   ]
  },
  {
   "cell_type": "markdown",
   "metadata": {},
   "source": [
    "##### 5."
   ]
  },
  {
   "cell_type": "code",
   "execution_count": 31,
   "metadata": {},
   "outputs": [],
   "source": [
    "import re\n",
    "import os\n",
    "\n",
    "directory = \"processed_txt/scans\"\n",
    "phone_numbers = r\"\\(?\\d[\\d\\ \\/\\-\\–)]{6,}\\d\"\n",
    "\n",
    "file = open(\"extracted_phone_numbers_scans.txt\", \"w\")\n",
    "\n",
    "for filename in os.listdir(directory):\n",
    "    lines = open(os.path.join(directory, filename), encoding=\"utf-8\").readlines()\n",
    "    for line in lines:\n",
    "        result = re.search(phone_numbers, line)\n",
    "        if result:\n",
    "            phone_number = result.group()\n",
    "            phone_number = phone_number.replace(\" \", \"\")\n",
    "            phone_number = phone_number.replace(\"/\", \"\")\n",
    "            phone_number = phone_number.replace(\"-\", \"\")\n",
    "            phone_number = phone_number.replace(\"–\", \"\")\n",
    "            phone_number = phone_number.replace(\"(\", \"\")\n",
    "            phone_number = phone_number.replace(\")\", \"\")\n",
    "            \n",
    "            file.write(phone_number + \"\\n\")\n",
    "            \n",
    "file.close()"
   ]
  },
  {
   "cell_type": "markdown",
   "metadata": {
    "pycharm": {
     "name": "#%% md\n"
    }
   },
   "source": [
    "It works quite okay with the scanned and ocr interpreted text. But some phone numbers are missed, because they have wrong characters recognized in between them.\n",
    "Examples:\n",
    "- \"(06221) 43.41 49-0\" is not recognized because of the point in between numbers\n",
    "- \"(0 62 21] 4 18 55 58\" is not recognized because the closing bracket is\n",
    "\n",
    "The extraction can be changed to take these into account, but one never can be sure to get all misinterpretations right.\n",
    "\n",
    "Furthermore, one difficulty is, that a lot of the phone numbers don't have a prefix, because e.g. it is a prefix for all numbers on one page. "
   ]
  }
 ],
 "metadata": {
  "colab": {
   "collapsed_sections": [],
   "name": "notebook.ipynb",
   "provenance": []
  },
  "kernelspec": {
   "display_name": "Python 3",
   "language": "python",
   "name": "python3"
  },
  "language_info": {
   "codemirror_mode": {
    "name": "ipython",
    "version": 3
   },
   "file_extension": ".py",
   "mimetype": "text/x-python",
   "name": "python",
   "nbconvert_exporter": "python",
   "pygments_lexer": "ipython3",
   "version": "3.7.7"
  },
  "pycharm": {
   "stem_cell": {
    "cell_type": "raw",
    "metadata": {
     "collapsed": false
    },
    "source": []
   }
  }
 },
 "nbformat": 4,
 "nbformat_minor": 4
}
