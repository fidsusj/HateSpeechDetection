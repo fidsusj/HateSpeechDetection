{
 "cells": [
  {
   "cell_type": "markdown",
   "metadata": {
    "id": "oVu_8NTOaUq0"
   },
   "source": [
    "Problem 1-2\n",
    "\n",
    "2. quantitative comparison via SequenceMatcher.ratio()"
   ]
  },
  {
   "cell_type": "code",
   "execution_count": 26,
   "metadata": {
    "id": "wRzqx5kCb46U"
   },
   "outputs": [],
   "source": [
    "import difflib"
   ]
  },
  {
   "cell_type": "code",
   "execution_count": 45,
   "metadata": {
    "id": "8FPecnvWb8mY"
   },
   "outputs": [],
   "source": [
    "# read files to strings\n",
    "filename = \" - FL_SYB_BetriebsaerztlicherDienst_ID8414.txt\"\n",
    "\n",
    "pdftotext = open('online pdftotext' + filename, 'r').read()\n",
    "pdf2go = open('online pdf2go' + filename, 'r').read()\n",
    "calibre = open('calibre' + filename, 'r').read()\n",
    "pypdf2 = open('pypdf2' + filename, 'r').read()"
   ]
  },
  {
   "cell_type": "code",
   "execution_count": 52,
   "metadata": {
    "colab": {
     "base_uri": "https://localhost:8080/"
    },
    "id": "FZNOck80dUA0",
    "outputId": "046e176d-e8df-421c-8e16-583774f1b338"
   },
   "outputs": [
    {
     "name": "stdout",
     "output_type": "stream",
     "text": [
      "baseline: 1.0\n",
      "pdf2go: 0.45782220202938056\n",
      "calibre: 0.35420936764594246\n",
      "pypdf2: 0.3905145549897393\n"
     ]
    }
   ],
   "source": [
    "baseline = difflib.SequenceMatcher(None, pdftotext, pdftotext).ratio()\n",
    "\n",
    "pdf2go_ratio = difflib.SequenceMatcher(None, pdf2go, pdftotext).ratio()\n",
    "calibre_ratio = difflib.SequenceMatcher(None, calibre, pdftotext).ratio()\n",
    "pypdf2_ratio = difflib.SequenceMatcher(None, pypdf2, pdftotext).ratio()\n",
    "\n",
    "print(\"baseline:\", baseline)\n",
    "print(\"pdf2go:\", pdf2go_ratio)\n",
    "print(\"calibre:\", calibre_ratio)\n",
    "print(\"pypdf2:\", pypdf2_ratio)"
   ]
  },
  {
   "cell_type": "markdown",
   "metadata": {
    "id": "VB76ala10a5Y"
   },
   "source": [
    "4. \n",
    "(i)"
   ]
  },
  {
   "cell_type": "code",
   "execution_count": 40,
   "metadata": {
    "id": "Cr80PW_30xUU"
   },
   "outputs": [],
   "source": [
    "import os\n",
    "import re\n",
    "\n",
    "directory = \"processed_txt/phone_numbers\"\n",
    "phone_numbers = r\"\\(?\\d[\\d\\ \\/\\-\\–)]{6,}\\d\"\n",
    "\n",
    "file = open(\"extracted_phone_numbers.txt\", \"w\")\n",
    "\n",
    "for filename in os.listdir(directory):\n",
    "  lines = open(os.path.join(directory, filename)).readlines()\n",
    "  for line in lines:\n",
    "    result = re.search(phone_numbers, line)\n",
    "    if result:\n",
    "        phone_number = result.group()\n",
    "        phone_number = phone_number.replace(\" \", \"\")\n",
    "        phone_number = phone_number.replace(\"/\", \"\")\n",
    "        phone_number = phone_number.replace(\"-\", \"\")\n",
    "        phone_number = phone_number.replace(\"–\", \"\")\n",
    "        phone_number = phone_number.replace(\"(\", \"\")\n",
    "        phone_number = phone_number.replace(\")\", \"\")\n",
    "        \n",
    "        file.write(phone_number + \"\\n\")"
   ]
  },
  {
   "cell_type": "markdown",
   "metadata": {},
   "source": [
    "(ii)"
   ]
  },
  {
   "cell_type": "markdown",
   "metadata": {},
   "source": [
    "(iii)"
   ]
  },
  {
   "cell_type": "code",
   "execution_count": 12,
   "metadata": {
    "tags": [
     "outputPrepend"
    ]
   },
   "outputs": [],
   "source": [
    "import os\n",
    "import re\n",
    "\n",
    "isbn_path = \"processed_txt/isbn/gelbe_seiten_2019-43.txt\"\n",
    "isbn_numbers = r\"^(?=(?:\\D*\\d){10}(?:(?:\\D*\\d){3})?$)(978|979)[\\d-]+$\"\n",
    "\n",
    "file = open(\"extracted_isbn.txt\", \"w\")\n",
    "\n",
    "lines = open(isbn_path).readlines()\n",
    "for line in lines:\n",
    "    result = re.search(isbn_numbers, line)\n",
    "    if result:\n",
    "        file.write(result.group() + \"\\n\")"
   ]
  },
  {
   "cell_type": "markdown",
   "metadata": {},
   "source": [
    "##### 5."
   ]
  },
  {
   "cell_type": "code",
   "execution_count": 3,
   "metadata": {},
   "outputs": [],
   "source": [
    "import re\n",
    "import os\n",
    "\n",
    "directory = \"processed_txt/scans\"\n",
    "phone_numbers = r\"\\(?\\d[\\d\\ \\/\\-\\–)]{6,}\\d\"\n",
    "\n",
    "file = open(\"extracted_phone_numbers_scans.txt\", \"w\")\n",
    "\n",
    "for filename in os.listdir(directory):\n",
    "    lines = open(os.path.join(directory, filename)).readlines()\n",
    "    for line in lines:\n",
    "        result = re.search(phone_numbers, line)\n",
    "        if result:\n",
    "            phone_number = result.group()\n",
    "            phone_number = phone_number.replace(\" \", \"\")\n",
    "            phone_number = phone_number.replace(\"/\", \"\")\n",
    "            phone_number = phone_number.replace(\"-\", \"\")\n",
    "            phone_number = phone_number.replace(\"–\", \"\")\n",
    "            phone_number = phone_number.replace(\"(\", \"\")\n",
    "            phone_number = phone_number.replace(\")\", \"\")\n",
    "            \n",
    "            file.write(phone_number + \"\\n\")"
   ]
  },
  {
   "cell_type": "markdown",
   "metadata": {},
   "source": [
    "It works quite okay with the scanned and ocr interpreted text. But some phone numbers are missed, because they have wrong characters recognized in between them.\n",
    "Examples:\n",
    "- \"(06221) 43.41 49-0\" is not recognized because of the point in between numbers\n",
    "- \"(0 62 21] 4 18 55 58\" is not recognized because the closing bracket is\n",
    "\n",
    "The extraction can be changed to take these into account, but one never can be sure to get all misinterpretations right.\n",
    "\n",
    "Furthermore, one difficulty is, that a lot of the phone numbers don't have a prefix, because e.g. it is a prefix for all numbers on one page. "
   ]
  }
 ],
 "metadata": {
  "colab": {
   "collapsed_sections": [],
   "name": "notebook.ipynb",
   "provenance": []
  },
  "kernelspec": {
   "display_name": "Python 3",
   "language": "python",
   "name": "python3"
  },
  "language_info": {
   "codemirror_mode": {
    "name": "ipython",
    "version": 3
   },
   "file_extension": ".py",
   "mimetype": "text/x-python",
   "name": "python",
   "nbconvert_exporter": "python",
   "pygments_lexer": "ipython3",
   "version": "3.7.7"
  }
 },
 "nbformat": 4,
 "nbformat_minor": 4
}
