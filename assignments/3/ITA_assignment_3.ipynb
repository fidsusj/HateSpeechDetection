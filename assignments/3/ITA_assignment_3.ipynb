{
 "cells": [
  {
   "cell_type": "markdown",
   "metadata": {},
   "source": [
    "# Assignment 3 : \"Word Vectors and Classification\"\n",
    "Due: Monday 2pm, Feburary 1, 2021, via Moodle\n",
    "\n",
    "Group 4: Christopher Klammt, Nils Krehl, Felix Hausberger"
   ]
  },
  {
   "cell_type": "markdown",
   "metadata": {},
   "source": [
    "### Submission guidelines\n",
    "\n",
    "- Solutions need to be uploaded as a single Jupyter notebook. You will find many provided codes in the notebook, your task is to fill in the missing cells.\n",
    "- For the written solution, use LaTeX in markdown inside the same notebook. Do *not* hand in a separate file for it.\n",
    "- Download the .zip file containing the dataset but do *not* upload it with your solution.\n",
    "- It is sufficient if one person per group uploads the solution to Moodle, but make sure that the names of\n",
    "all team members are given in the notebook."
   ]
  },
  {
   "cell_type": "markdown",
   "metadata": {},
   "source": [
    "### TODO\n",
    "\n",
    "- 1.3: w2v.wv.most_similar(positive=[\"rachel\", \"man\"], negative=[\"women\"], topn=3)\n",
    "- 2.1: Diagram"
   ]
  },
  {
   "cell_type": "markdown",
   "metadata": {},
   "source": [
    "--------"
   ]
  },
  {
   "cell_type": "markdown",
   "metadata": {},
   "source": [
    "## Task 1: F.R.I.E.N.D.S and  Word2Vec ( 3+ 2+ 3 = 8 points) "
   ]
  },
  {
   "cell_type": "markdown",
   "metadata": {},
   "source": [
    "Friends is an American television sitcom, created by David Crane and Marta Kauffman. In this assignment we will use the transcripts from the show to train a Word2Vec model using the Gensim library."
   ]
  },
  {
   "cell_type": "markdown",
   "metadata": {},
   "source": [
    "### Subtask 1: Pre-processing \n",
    "We start by loading and cleaning the data. Download the dataset for this assignment and load the `friends_quotes.csv` using pandas. The dataset is from Kaggle (https://www.kaggle.com/ryanstonebraker/friends-transcript) and is created for building a classifier that could determine which friend from the Friend's TV Show would be most likely to say a quote. The column `quote` contains the line from the movie and `author` is the one who spoke it. Since these are the only two columns we need, we remove the rest and only keep these two. "
   ]
  },
  {
   "cell_type": "code",
   "execution_count": 30,
   "metadata": {},
   "outputs": [],
   "source": [
    "import re  \n",
    "import pandas as pd  \n",
    "from collections import defaultdict  \n",
    "import spacy \n",
    "import logging  # Setting up the loggings to monitor gensim\n",
    "logging.basicConfig(format=\"%(levelname)s - %(asctime)s: %(message)s\", datefmt= '%H:%M:%S', level=logging.INFO)"
   ]
  },
  {
   "cell_type": "code",
   "execution_count": 31,
   "metadata": {},
   "outputs": [
    {
     "data": {
      "text/html": [
       "<div>\n",
       "<style scoped>\n",
       "    .dataframe tbody tr th:only-of-type {\n",
       "        vertical-align: middle;\n",
       "    }\n",
       "\n",
       "    .dataframe tbody tr th {\n",
       "        vertical-align: top;\n",
       "    }\n",
       "\n",
       "    .dataframe thead th {\n",
       "        text-align: right;\n",
       "    }\n",
       "</style>\n",
       "<table border=\"1\" class=\"dataframe\">\n",
       "  <thead>\n",
       "    <tr style=\"text-align: right;\">\n",
       "      <th></th>\n",
       "      <th>author</th>\n",
       "      <th>quote</th>\n",
       "    </tr>\n",
       "  </thead>\n",
       "  <tbody>\n",
       "    <tr>\n",
       "      <th>0</th>\n",
       "      <td>Monica</td>\n",
       "      <td>There's nothing to tell! He's just some guy I ...</td>\n",
       "    </tr>\n",
       "    <tr>\n",
       "      <th>1</th>\n",
       "      <td>Joey</td>\n",
       "      <td>C'mon, you're going out with the guy! There's ...</td>\n",
       "    </tr>\n",
       "    <tr>\n",
       "      <th>2</th>\n",
       "      <td>Chandler</td>\n",
       "      <td>All right Joey, be nice. So does he have a hum...</td>\n",
       "    </tr>\n",
       "    <tr>\n",
       "      <th>3</th>\n",
       "      <td>Phoebe</td>\n",
       "      <td>Wait, does he eat chalk?</td>\n",
       "    </tr>\n",
       "    <tr>\n",
       "      <th>4</th>\n",
       "      <td>Phoebe</td>\n",
       "      <td>Just, 'cause, I don't want her to go through w...</td>\n",
       "    </tr>\n",
       "  </tbody>\n",
       "</table>\n",
       "</div>"
      ],
      "text/plain": [
       "     author                                              quote\n",
       "0    Monica  There's nothing to tell! He's just some guy I ...\n",
       "1      Joey  C'mon, you're going out with the guy! There's ...\n",
       "2  Chandler  All right Joey, be nice. So does he have a hum...\n",
       "3    Phoebe                           Wait, does he eat chalk?\n",
       "4    Phoebe  Just, 'cause, I don't want her to go through w..."
      ]
     },
     "execution_count": 31,
     "metadata": {},
     "output_type": "execute_result"
    }
   ],
   "source": [
    "df = pd.read_csv(\"data/friends_quotes.csv\") \n",
    "df.drop(['episode_number', 'episode_title', 'quote_order', 'season'], axis=1, inplace=True)\n",
    "df.head()"
   ]
  },
  {
   "cell_type": "markdown",
   "metadata": {},
   "source": [
    "Fortunately, there is no missing data, so we do not need to worry about that. "
   ]
  },
  {
   "cell_type": "code",
   "execution_count": 32,
   "metadata": {},
   "outputs": [
    {
     "data": {
      "text/plain": [
       "author    0\n",
       "quote     0\n",
       "dtype: int64"
      ]
     },
     "execution_count": 32,
     "metadata": {},
     "output_type": "execute_result"
    }
   ],
   "source": [
    "df.isnull().sum() # check for missing data"
   ]
  },
  {
   "cell_type": "markdown",
   "metadata": {},
   "source": [
    "use SpaCy similar to assignment 2 to pre-process the text, perform the following steps: \n",
    "- lowercase the words \n",
    "- remove the stopwords and single characters\n",
    "- use regex to remove non-alphabetic characters (anything that is not a number or alphabet including punctuations), in other words only keep \"a\" to \"z\" and digits. \n",
    "- remove lines that have less than 3 words, since they cannot contribute much to the training process.\n",
    "\n",
    "Please do not add additional steps on your own or additional cleaning, we want to create comparable results. "
   ]
  },
  {
   "cell_type": "code",
   "execution_count": 33,
   "metadata": {},
   "outputs": [
    {
     "name": "stderr",
     "output_type": "stream",
     "text": [
      "/Users/d070497/.local/share/virtualenvs/HateSpeechDetection-KN2PSeen/lib/python3.7/site-packages/ipykernel_launcher.py:8: FutureWarning: The default value of regex will change from True to False in a future version.\n",
      "  \n"
     ]
    },
    {
     "data": {
      "text/html": [
       "<div>\n",
       "<style scoped>\n",
       "    .dataframe tbody tr th:only-of-type {\n",
       "        vertical-align: middle;\n",
       "    }\n",
       "\n",
       "    .dataframe tbody tr th {\n",
       "        vertical-align: top;\n",
       "    }\n",
       "\n",
       "    .dataframe thead th {\n",
       "        text-align: right;\n",
       "    }\n",
       "</style>\n",
       "<table border=\"1\" class=\"dataframe\">\n",
       "  <thead>\n",
       "    <tr style=\"text-align: right;\">\n",
       "      <th></th>\n",
       "      <th>author</th>\n",
       "      <th>quote</th>\n",
       "    </tr>\n",
       "  </thead>\n",
       "  <tbody>\n",
       "    <tr>\n",
       "      <th>0</th>\n",
       "      <td>Monica</td>\n",
       "      <td>tell guy work</td>\n",
       "    </tr>\n",
       "    <tr>\n",
       "      <th>1</th>\n",
       "      <td>Joey</td>\n",
       "      <td>mon going guy gotta wrong</td>\n",
       "    </tr>\n",
       "    <tr>\n",
       "      <th>2</th>\n",
       "      <td>Chandler</td>\n",
       "      <td>right joey nice hump hump hairpiece</td>\n",
       "    </tr>\n",
       "    <tr>\n",
       "      <th>3</th>\n",
       "      <td>Phoebe</td>\n",
       "      <td>wait eat chalk</td>\n",
       "    </tr>\n",
       "    <tr>\n",
       "      <th>4</th>\n",
       "      <td>Phoebe</td>\n",
       "      <td>cause don want went carl oh</td>\n",
       "    </tr>\n",
       "  </tbody>\n",
       "</table>\n",
       "</div>"
      ],
      "text/plain": [
       "     author                                quote\n",
       "0    Monica                        tell guy work\n",
       "1      Joey            mon going guy gotta wrong\n",
       "2  Chandler  right joey nice hump hump hairpiece\n",
       "3    Phoebe                       wait eat chalk\n",
       "4    Phoebe          cause don want went carl oh"
      ]
     },
     "execution_count": 33,
     "metadata": {},
     "output_type": "execute_result"
    }
   ],
   "source": [
    "nlp = spacy.load(\"en_core_web_sm\", disable=[\"tagger\", \"parser\",\"ner\"])\n",
    "stopwords = spacy.lang.en.stop_words.STOP_WORDS # only use these stop words, do not add your own! \n",
    "\n",
    "# Lowercase the words\n",
    "df[\"quote\"] = df[\"quote\"].str.lower()\n",
    "\n",
    "# Use regex to remove non-alphabetic characters\n",
    "df[\"quote\"] = df[\"quote\"].str.replace('[^a-zA-Z0-9 ]', ' ')\n",
    "\n",
    "# Remove the stopwords and single characters\n",
    "def remove_stopwords_and_single_characters(words):\n",
    "    return [word for word in words if not word in stopwords and len(word) > 1]\n",
    "df[\"quote\"] = df[\"quote\"].apply(lambda quote: \" \".join(remove_stopwords_and_single_characters(quote.split())))\n",
    "\n",
    "# Remove lines that have less than 3 words                               \n",
    "df.drop(df[df['quote'].apply(lambda sentence: len(sentence.split()) < 3)].index, inplace=True)               \n",
    "\n",
    "# To save all the lines                                 \n",
    "quotes = df[\"quote\"].tolist()\n",
    "        \n",
    "df.head()"
   ]
  },
  {
   "cell_type": "markdown",
   "metadata": {},
   "source": [
    "The next step is to build the vocabulary of the words and word combinations we want to learn representations from. We choose a subset of the most frequent words and bigrams to represent our corpus.\n",
    "- use the Gensim Phrases package to automatically detect common phrases (bigrams) from a list of lines from the previous step (`min_count=10`). Now words like New_York will be considered as one entity and character names like joey_tribbiani will be recognized.\n",
    "- create a list of words/bigrams with their frequencies and choose the top 15.000 words for the vocabulary, to keep the computation time-limited and choose the most important words."
   ]
  },
  {
   "cell_type": "code",
   "execution_count": 35,
   "metadata": {},
   "outputs": [
    {
     "name": "stderr",
     "output_type": "stream",
     "text": [
      "INFO - 18:36:53: collecting all words and their counts\n",
      "INFO - 18:36:53: PROGRESS: at sentence #0, processed 0 words and 0 word types\n",
      "INFO - 18:36:53: PROGRESS: at sentence #10000, processed 72648 words and 54395 word types\n",
      "INFO - 18:36:54: PROGRESS: at sentence #20000, processed 146557 words and 95968 word types\n",
      "INFO - 18:36:54: PROGRESS: at sentence #30000, processed 219682 words and 132492 word types\n",
      "INFO - 18:36:54: collected 159721 word types from a corpus of 273450 words (unigram + bigrams) and 37477 sentences\n",
      "INFO - 18:36:54: using 159721 counts as vocab in Phrases<0 vocab, min_count=10, threshold=10.0, max_vocab_size=40000000>\n",
      "INFO - 18:36:54: source_vocab length 159721\n",
      "INFO - 18:36:55: Phraser built with 199 phrasegrams\n"
     ]
    },
    {
     "name": "stdout",
     "output_type": "stream",
     "text": [
      "['know', 'oh', 'okay', 'don', 'yeah', 'right', 'like', 'hey', 'gonna', 'ross']\n"
     ]
    }
   ],
   "source": [
    "from collections import Counter\n",
    "from gensim.models.phrases import Phrases, Phraser\n",
    "sent = [quote.split() for quote in quotes] # list of all words\n",
    "phrases = Phraser(Phrases(sent, min_count=10)) # define the phraser for bi-gram creation\n",
    "new_lines = phrases[sent] #transform the lines\n",
    "\n",
    "assert 'new_york' in new_lines[969]\n",
    "assert 'joey_tribbiani' in new_lines[934]\n",
    "\n",
    "### find the top words for the vocabulary###\n",
    "flatten = lambda t: [item for sublist in t for item in sublist]\n",
    "vocab = [word for word, count in Counter(flatten(new_lines)).most_common(15000)] # top words\n",
    "print(vocab[:10])"
   ]
  },
  {
   "cell_type": "markdown",
   "metadata": {},
   "source": [
    "### Subtask 2: Training The Model\n"
   ]
  },
  {
   "cell_type": "markdown",
   "metadata": {},
   "source": [
    "Use Gensim the implementation of Word2Vec to train a model on the scripts. The training can be divided into 3 stages:\n",
    "\n",
    "\n",
    "1) Set up your model with parameters, define your parameters in such a way that the following conditions are satisfied:\n",
    " - ignores all words that have a total absolute frequency less than 2.\n",
    " - dimensions of the embeddings: 100 \n",
    " - initial learning rate of 0.03 \n",
    " - 20 negative samples \n",
    " - window size 3 \n",
    " - learning rate in the training will decrease as you apply more and more updates. Most of the time when starting with gradient descent the initial steps can be larger, and as we get close to the local minima it is best to use smaller steps to avoid jumping over the local minima. This adjustment is done internally using a learning rate scheduler. Make sure that the smallest learning rate does not go below 0.0001.\n",
    " - set the threshold for configuring which higher-frequency words are randomly down-sampled to 6e-5. This parameter forces the sampling to choose the very frequent words less often in the sampling.\n",
    " - set the hashfunction of the word2vec to the given function.\n",
    " - train on a single worker to make sure you get the same result as ours."
   ]
  },
  {
   "cell_type": "code",
   "execution_count": 73,
   "metadata": {},
   "outputs": [],
   "source": [
    "from gensim.models import Word2Vec\n",
    "def hash(astring):\n",
    "    return ord(astring[0])"
   ]
  },
  {
   "cell_type": "code",
   "execution_count": 74,
   "metadata": {},
   "outputs": [],
   "source": [
    "w2v = Word2Vec(min_count=2, \n",
    "               size=100, \n",
    "               alpha=0.03, \n",
    "               negative=20, \n",
    "               window=3, \n",
    "               min_alpha=0.0001, \n",
    "               sample=6e-5, \n",
    "               hashfxn=hash, \n",
    "               workers=1)"
   ]
  },
  {
   "cell_type": "markdown",
   "metadata": {},
   "source": [
    "2) before training, Word2Vec requires us to build the vocabulary table by filtering out the unique words and doing some basic counts on them.\n",
    "If you look at the logs you can see the effect of `min_count` and `sample` on the word corpus. Use the `build_vocab` function to process the data."
   ]
  },
  {
   "cell_type": "code",
   "execution_count": 75,
   "metadata": {},
   "outputs": [
    {
     "name": "stderr",
     "output_type": "stream",
     "text": [
      "INFO - 16:24:03: collecting all words and their counts\n",
      "INFO - 16:24:03: PROGRESS: at sentence #0, processed 0 words, keeping 0 word types\n",
      "INFO - 16:24:03: PROGRESS: at sentence #10000, processed 70673 words, keeping 8526 word types\n",
      "INFO - 16:24:03: PROGRESS: at sentence #20000, processed 142473 words, keeping 11622 word types\n",
      "INFO - 16:24:03: PROGRESS: at sentence #30000, processed 213399 words, keeping 13830 word types\n",
      "INFO - 16:24:04: collected 15749 word types from a corpus of 265793 raw words and 37477 sentences\n",
      "INFO - 16:24:04: Loading a fresh vocabulary\n",
      "INFO - 16:24:04: effective_min_count=2 retains 9237 unique words (58% of original 15749, drops 6512)\n",
      "INFO - 16:24:04: effective_min_count=2 leaves 259281 word corpus (97% of original 265793, drops 6512)\n",
      "INFO - 16:24:04: deleting the raw counts dictionary of 15749 items\n",
      "INFO - 16:24:04: sample=6e-05 downsamples 952 most-common words\n",
      "INFO - 16:24:04: downsampling leaves estimated 120272 word corpus (46.4% of prior 259281)\n",
      "INFO - 16:24:04: estimated required memory for 9237 words and 100 dimensions: 12008100 bytes\n",
      "INFO - 16:24:04: resetting layer weights\n"
     ]
    }
   ],
   "source": [
    "w2v.build_vocab(new_lines)"
   ]
  },
  {
   "cell_type": "markdown",
   "metadata": {},
   "source": [
    "3) Finally, we get to train the model. Train the model for 100 epochs. This will take a while. As we do not plan to train the model any further, we call `init_sims()`, which will make the model much more memory-efficient by precomputing L2-norms of word weight vectors for further analysis. "
   ]
  },
  {
   "cell_type": "code",
   "execution_count": 76,
   "metadata": {},
   "outputs": [
    {
     "name": "stderr",
     "output_type": "stream",
     "text": [
      "INFO - 16:29:19: training model with 1 workers on 9237 vocabulary and 100 features, using sg=0 hs=0 sample=6e-05 negative=20 window=3\n",
      "INFO - 16:29:20: EPOCH 1 - PROGRESS: at 97.59% examples, 115549 words/s, in_qsize 1, out_qsize 0\n",
      "INFO - 16:29:20: worker thread finished; awaiting finish of 0 more threads\n",
      "INFO - 16:29:20: EPOCH - 1 : training on 265793 raw words (120327 effective words) took 1.0s, 116730 effective words/s\n",
      "INFO - 16:29:21: EPOCH 2 - PROGRESS: at 97.59% examples, 117397 words/s, in_qsize 1, out_qsize 0\n",
      "INFO - 16:29:21: worker thread finished; awaiting finish of 0 more threads\n",
      "INFO - 16:29:21: EPOCH - 2 : training on 265793 raw words (120097 effective words) took 1.0s, 118811 effective words/s\n",
      "INFO - 16:29:22: EPOCH 3 - PROGRESS: at 93.83% examples, 112223 words/s, in_qsize 0, out_qsize 0\n",
      "INFO - 16:29:22: worker thread finished; awaiting finish of 0 more threads\n",
      "INFO - 16:29:22: EPOCH - 3 : training on 265793 raw words (120153 effective words) took 1.1s, 112248 effective words/s\n",
      "INFO - 16:29:23: EPOCH 4 - PROGRESS: at 93.83% examples, 112502 words/s, in_qsize 0, out_qsize 0\n",
      "INFO - 16:29:23: worker thread finished; awaiting finish of 0 more threads\n",
      "INFO - 16:29:23: EPOCH - 4 : training on 265793 raw words (120330 effective words) took 1.0s, 116167 effective words/s\n",
      "INFO - 16:29:24: EPOCH 5 - PROGRESS: at 97.59% examples, 116305 words/s, in_qsize 1, out_qsize 0\n",
      "INFO - 16:29:24: worker thread finished; awaiting finish of 0 more threads\n",
      "INFO - 16:29:24: EPOCH - 5 : training on 265793 raw words (120162 effective words) took 1.0s, 117734 effective words/s\n",
      "INFO - 16:29:25: worker thread finished; awaiting finish of 0 more threads\n",
      "INFO - 16:29:25: EPOCH - 6 : training on 265793 raw words (120336 effective words) took 1.0s, 121504 effective words/s\n",
      "INFO - 16:29:26: worker thread finished; awaiting finish of 0 more threads\n",
      "INFO - 16:29:26: EPOCH - 7 : training on 265793 raw words (120525 effective words) took 1.0s, 123643 effective words/s\n",
      "INFO - 16:29:27: worker thread finished; awaiting finish of 0 more threads\n",
      "INFO - 16:29:27: EPOCH - 8 : training on 265793 raw words (120437 effective words) took 1.0s, 123097 effective words/s\n",
      "INFO - 16:29:28: EPOCH 9 - PROGRESS: at 93.83% examples, 112318 words/s, in_qsize 1, out_qsize 0\n",
      "INFO - 16:29:28: worker thread finished; awaiting finish of 0 more threads\n",
      "INFO - 16:29:28: EPOCH - 9 : training on 265793 raw words (120223 effective words) took 1.0s, 114559 effective words/s\n",
      "INFO - 16:29:29: worker thread finished; awaiting finish of 0 more threads\n",
      "INFO - 16:29:29: EPOCH - 10 : training on 265793 raw words (120316 effective words) took 1.0s, 121972 effective words/s\n",
      "INFO - 16:29:30: EPOCH 11 - PROGRESS: at 97.59% examples, 116439 words/s, in_qsize 1, out_qsize 0\n",
      "INFO - 16:29:30: worker thread finished; awaiting finish of 0 more threads\n",
      "INFO - 16:29:30: EPOCH - 11 : training on 265793 raw words (120450 effective words) took 1.0s, 117855 effective words/s\n",
      "INFO - 16:29:31: EPOCH 12 - PROGRESS: at 86.11% examples, 100773 words/s, in_qsize 1, out_qsize 0\n",
      "INFO - 16:29:31: worker thread finished; awaiting finish of 0 more threads\n",
      "INFO - 16:29:31: EPOCH - 12 : training on 265793 raw words (120260 effective words) took 1.1s, 104940 effective words/s\n",
      "INFO - 16:29:33: EPOCH 13 - PROGRESS: at 93.83% examples, 108273 words/s, in_qsize 0, out_qsize 0\n",
      "INFO - 16:29:33: worker thread finished; awaiting finish of 0 more threads\n",
      "INFO - 16:29:33: EPOCH - 13 : training on 265793 raw words (120271 effective words) took 1.1s, 111939 effective words/s\n",
      "INFO - 16:29:34: EPOCH 14 - PROGRESS: at 89.89% examples, 107540 words/s, in_qsize 0, out_qsize 0\n",
      "INFO - 16:29:34: worker thread finished; awaiting finish of 0 more threads\n",
      "INFO - 16:29:34: EPOCH - 14 : training on 265793 raw words (120413 effective words) took 1.1s, 110102 effective words/s\n",
      "INFO - 16:29:35: EPOCH 15 - PROGRESS: at 89.89% examples, 105061 words/s, in_qsize 1, out_qsize 0\n",
      "INFO - 16:29:35: worker thread finished; awaiting finish of 0 more threads\n",
      "INFO - 16:29:35: EPOCH - 15 : training on 265793 raw words (119994 effective words) took 1.1s, 107705 effective words/s\n",
      "INFO - 16:29:36: EPOCH 16 - PROGRESS: at 93.83% examples, 110070 words/s, in_qsize 0, out_qsize 0\n",
      "INFO - 16:29:36: worker thread finished; awaiting finish of 0 more threads\n",
      "INFO - 16:29:36: EPOCH - 16 : training on 265793 raw words (120293 effective words) took 1.1s, 113860 effective words/s\n",
      "INFO - 16:29:37: EPOCH 17 - PROGRESS: at 93.83% examples, 109271 words/s, in_qsize 0, out_qsize 0\n",
      "INFO - 16:29:37: worker thread finished; awaiting finish of 0 more threads\n",
      "INFO - 16:29:37: EPOCH - 17 : training on 265793 raw words (120234 effective words) took 1.1s, 113058 effective words/s\n",
      "INFO - 16:29:38: EPOCH 18 - PROGRESS: at 97.59% examples, 117138 words/s, in_qsize 1, out_qsize 0\n",
      "INFO - 16:29:38: worker thread finished; awaiting finish of 0 more threads\n",
      "INFO - 16:29:38: EPOCH - 18 : training on 265793 raw words (120443 effective words) took 1.0s, 118380 effective words/s\n",
      "INFO - 16:29:39: EPOCH 19 - PROGRESS: at 93.83% examples, 112228 words/s, in_qsize 0, out_qsize 0\n",
      "INFO - 16:29:39: worker thread finished; awaiting finish of 0 more threads\n",
      "INFO - 16:29:39: EPOCH - 19 : training on 265793 raw words (120014 effective words) took 1.0s, 116064 effective words/s\n",
      "INFO - 16:29:40: EPOCH 20 - PROGRESS: at 89.89% examples, 105847 words/s, in_qsize 0, out_qsize 0\n",
      "INFO - 16:29:40: worker thread finished; awaiting finish of 0 more threads\n",
      "INFO - 16:29:40: EPOCH - 20 : training on 265793 raw words (120083 effective words) took 1.1s, 110179 effective words/s\n",
      "INFO - 16:29:41: EPOCH 21 - PROGRESS: at 93.83% examples, 110464 words/s, in_qsize 0, out_qsize 0\n",
      "INFO - 16:29:41: worker thread finished; awaiting finish of 0 more threads\n",
      "INFO - 16:29:41: EPOCH - 21 : training on 265793 raw words (120477 effective words) took 1.1s, 113762 effective words/s\n",
      "INFO - 16:29:42: EPOCH 22 - PROGRESS: at 89.89% examples, 104506 words/s, in_qsize 0, out_qsize 0\n",
      "INFO - 16:29:42: worker thread finished; awaiting finish of 0 more threads\n",
      "INFO - 16:29:42: EPOCH - 22 : training on 265793 raw words (120153 effective words) took 1.1s, 106448 effective words/s\n",
      "INFO - 16:29:43: EPOCH 23 - PROGRESS: at 89.89% examples, 104058 words/s, in_qsize 0, out_qsize 0\n",
      "INFO - 16:29:43: worker thread finished; awaiting finish of 0 more threads\n",
      "INFO - 16:29:43: EPOCH - 23 : training on 265793 raw words (120387 effective words) took 1.1s, 106038 effective words/s\n",
      "INFO - 16:29:44: EPOCH 24 - PROGRESS: at 89.89% examples, 105301 words/s, in_qsize 0, out_qsize 0\n",
      "INFO - 16:29:45: worker thread finished; awaiting finish of 0 more threads\n",
      "INFO - 16:29:45: EPOCH - 24 : training on 265793 raw words (120413 effective words) took 1.1s, 109813 effective words/s\n",
      "INFO - 16:29:46: EPOCH 25 - PROGRESS: at 89.89% examples, 107452 words/s, in_qsize 0, out_qsize 0\n",
      "INFO - 16:29:46: worker thread finished; awaiting finish of 0 more threads\n",
      "INFO - 16:29:46: EPOCH - 25 : training on 265793 raw words (120255 effective words) took 1.1s, 111497 effective words/s\n",
      "INFO - 16:29:47: worker thread finished; awaiting finish of 0 more threads\n",
      "INFO - 16:29:47: EPOCH - 26 : training on 265793 raw words (120238 effective words) took 1.0s, 120660 effective words/s\n",
      "INFO - 16:29:48: EPOCH 27 - PROGRESS: at 97.59% examples, 116861 words/s, in_qsize 1, out_qsize 0\n",
      "INFO - 16:29:48: worker thread finished; awaiting finish of 0 more threads\n",
      "INFO - 16:29:48: EPOCH - 27 : training on 265793 raw words (120195 effective words) took 1.0s, 117989 effective words/s\n",
      "INFO - 16:29:49: EPOCH 28 - PROGRESS: at 93.83% examples, 111459 words/s, in_qsize 0, out_qsize 0\n",
      "INFO - 16:29:49: worker thread finished; awaiting finish of 0 more threads\n",
      "INFO - 16:29:49: EPOCH - 28 : training on 265793 raw words (120293 effective words) took 1.1s, 114240 effective words/s\n",
      "INFO - 16:29:50: EPOCH 29 - PROGRESS: at 97.59% examples, 115925 words/s, in_qsize 1, out_qsize 0\n",
      "INFO - 16:29:50: worker thread finished; awaiting finish of 0 more threads\n",
      "INFO - 16:29:50: EPOCH - 29 : training on 265793 raw words (120263 effective words) took 1.0s, 117227 effective words/s\n",
      "INFO - 16:29:51: worker thread finished; awaiting finish of 0 more threads\n"
     ]
    },
    {
     "name": "stderr",
     "output_type": "stream",
     "text": [
      "INFO - 16:29:51: EPOCH - 30 : training on 265793 raw words (120032 effective words) took 1.0s, 122117 effective words/s\n",
      "INFO - 16:29:52: EPOCH 31 - PROGRESS: at 97.59% examples, 114437 words/s, in_qsize 1, out_qsize 0\n",
      "INFO - 16:29:52: worker thread finished; awaiting finish of 0 more threads\n",
      "INFO - 16:29:52: EPOCH - 31 : training on 265793 raw words (120496 effective words) took 1.0s, 115849 effective words/s\n",
      "INFO - 16:29:53: worker thread finished; awaiting finish of 0 more threads\n",
      "INFO - 16:29:53: EPOCH - 32 : training on 265793 raw words (120406 effective words) took 1.0s, 122700 effective words/s\n",
      "INFO - 16:29:54: worker thread finished; awaiting finish of 0 more threads\n",
      "INFO - 16:29:54: EPOCH - 33 : training on 265793 raw words (120164 effective words) took 1.0s, 121322 effective words/s\n",
      "INFO - 16:29:55: worker thread finished; awaiting finish of 0 more threads\n",
      "INFO - 16:29:55: EPOCH - 34 : training on 265793 raw words (120291 effective words) took 1.0s, 122546 effective words/s\n",
      "INFO - 16:29:56: EPOCH 35 - PROGRESS: at 97.59% examples, 115292 words/s, in_qsize 1, out_qsize 0\n",
      "INFO - 16:29:56: worker thread finished; awaiting finish of 0 more threads\n",
      "INFO - 16:29:56: EPOCH - 35 : training on 265793 raw words (120224 effective words) took 1.0s, 116559 effective words/s\n",
      "INFO - 16:29:57: EPOCH 36 - PROGRESS: at 89.89% examples, 107586 words/s, in_qsize 0, out_qsize 0\n",
      "INFO - 16:29:57: worker thread finished; awaiting finish of 0 more threads\n",
      "INFO - 16:29:57: EPOCH - 36 : training on 265793 raw words (120656 effective words) took 1.1s, 111581 effective words/s\n",
      "INFO - 16:29:58: EPOCH 37 - PROGRESS: at 93.83% examples, 110993 words/s, in_qsize 0, out_qsize 0\n",
      "INFO - 16:29:58: worker thread finished; awaiting finish of 0 more threads\n",
      "INFO - 16:29:58: EPOCH - 37 : training on 265793 raw words (119885 effective words) took 1.0s, 114237 effective words/s\n",
      "INFO - 16:29:59: worker thread finished; awaiting finish of 0 more threads\n",
      "INFO - 16:29:59: EPOCH - 38 : training on 265793 raw words (120573 effective words) took 1.0s, 126412 effective words/s\n",
      "INFO - 16:30:00: worker thread finished; awaiting finish of 0 more threads\n",
      "INFO - 16:30:00: EPOCH - 39 : training on 265793 raw words (120255 effective words) took 1.0s, 125967 effective words/s\n",
      "INFO - 16:30:01: worker thread finished; awaiting finish of 0 more threads\n",
      "INFO - 16:30:01: EPOCH - 40 : training on 265793 raw words (120284 effective words) took 1.0s, 125711 effective words/s\n",
      "INFO - 16:30:02: worker thread finished; awaiting finish of 0 more threads\n",
      "INFO - 16:30:02: EPOCH - 41 : training on 265793 raw words (119996 effective words) took 1.0s, 122777 effective words/s\n",
      "INFO - 16:30:03: worker thread finished; awaiting finish of 0 more threads\n",
      "INFO - 16:30:03: EPOCH - 42 : training on 265793 raw words (119895 effective words) took 1.0s, 122257 effective words/s\n",
      "INFO - 16:30:04: EPOCH 43 - PROGRESS: at 97.59% examples, 114796 words/s, in_qsize 1, out_qsize 0\n",
      "INFO - 16:30:04: worker thread finished; awaiting finish of 0 more threads\n",
      "INFO - 16:30:04: EPOCH - 43 : training on 265793 raw words (120267 effective words) took 1.0s, 116194 effective words/s\n",
      "INFO - 16:30:05: worker thread finished; awaiting finish of 0 more threads\n",
      "INFO - 16:30:05: EPOCH - 44 : training on 265793 raw words (120405 effective words) took 1.0s, 123630 effective words/s\n",
      "INFO - 16:30:06: worker thread finished; awaiting finish of 0 more threads\n",
      "INFO - 16:30:06: EPOCH - 45 : training on 265793 raw words (120203 effective words) took 1.0s, 123672 effective words/s\n",
      "INFO - 16:30:07: worker thread finished; awaiting finish of 0 more threads\n",
      "INFO - 16:30:07: EPOCH - 46 : training on 265793 raw words (120630 effective words) took 1.0s, 122892 effective words/s\n",
      "INFO - 16:30:08: worker thread finished; awaiting finish of 0 more threads\n",
      "INFO - 16:30:08: EPOCH - 47 : training on 265793 raw words (120549 effective words) took 1.0s, 123720 effective words/s\n",
      "INFO - 16:30:09: EPOCH 48 - PROGRESS: at 97.59% examples, 114527 words/s, in_qsize 1, out_qsize 0\n",
      "INFO - 16:30:09: worker thread finished; awaiting finish of 0 more threads\n",
      "INFO - 16:30:09: EPOCH - 48 : training on 265793 raw words (120385 effective words) took 1.0s, 115831 effective words/s\n",
      "INFO - 16:30:10: EPOCH 49 - PROGRESS: at 82.60% examples, 99037 words/s, in_qsize 0, out_qsize 0\n",
      "INFO - 16:30:10: worker thread finished; awaiting finish of 0 more threads\n",
      "INFO - 16:30:10: EPOCH - 49 : training on 265793 raw words (120376 effective words) took 1.2s, 102568 effective words/s\n",
      "INFO - 16:30:11: EPOCH 50 - PROGRESS: at 93.83% examples, 109573 words/s, in_qsize 0, out_qsize 0\n",
      "INFO - 16:30:11: worker thread finished; awaiting finish of 0 more threads\n",
      "INFO - 16:30:11: EPOCH - 50 : training on 265793 raw words (119901 effective words) took 1.1s, 108184 effective words/s\n",
      "INFO - 16:30:12: EPOCH 51 - PROGRESS: at 97.59% examples, 116177 words/s, in_qsize 1, out_qsize 0\n",
      "INFO - 16:30:12: worker thread finished; awaiting finish of 0 more threads\n",
      "INFO - 16:30:12: EPOCH - 51 : training on 265793 raw words (120198 effective words) took 1.0s, 117560 effective words/s\n",
      "INFO - 16:30:13: EPOCH 52 - PROGRESS: at 89.89% examples, 107449 words/s, in_qsize 0, out_qsize 0\n",
      "INFO - 16:30:13: worker thread finished; awaiting finish of 0 more threads\n",
      "INFO - 16:30:13: EPOCH - 52 : training on 265793 raw words (120381 effective words) took 1.1s, 109575 effective words/s\n",
      "INFO - 16:30:14: EPOCH 53 - PROGRESS: at 89.89% examples, 107055 words/s, in_qsize 0, out_qsize 0\n",
      "INFO - 16:30:14: worker thread finished; awaiting finish of 0 more threads\n",
      "INFO - 16:30:14: EPOCH - 53 : training on 265793 raw words (119933 effective words) took 1.1s, 110446 effective words/s\n",
      "INFO - 16:30:15: EPOCH 54 - PROGRESS: at 97.59% examples, 113570 words/s, in_qsize 1, out_qsize 0\n",
      "INFO - 16:30:15: worker thread finished; awaiting finish of 0 more threads\n",
      "INFO - 16:30:15: EPOCH - 54 : training on 265793 raw words (120287 effective words) took 1.0s, 114828 effective words/s\n",
      "INFO - 16:30:17: EPOCH 55 - PROGRESS: at 86.11% examples, 95459 words/s, in_qsize 0, out_qsize 0\n",
      "INFO - 16:30:17: worker thread finished; awaiting finish of 0 more threads\n",
      "INFO - 16:30:17: EPOCH - 55 : training on 265793 raw words (120552 effective words) took 1.3s, 94453 effective words/s\n",
      "INFO - 16:30:18: EPOCH 56 - PROGRESS: at 89.89% examples, 105822 words/s, in_qsize 0, out_qsize 0\n",
      "INFO - 16:30:18: worker thread finished; awaiting finish of 0 more threads\n",
      "INFO - 16:30:18: EPOCH - 56 : training on 265793 raw words (120261 effective words) took 1.1s, 110090 effective words/s\n",
      "INFO - 16:30:19: EPOCH 57 - PROGRESS: at 97.59% examples, 116250 words/s, in_qsize 1, out_qsize 0\n",
      "INFO - 16:30:19: worker thread finished; awaiting finish of 0 more threads\n",
      "INFO - 16:30:19: EPOCH - 57 : training on 265793 raw words (120676 effective words) took 1.0s, 117651 effective words/s\n",
      "INFO - 16:30:20: EPOCH 58 - PROGRESS: at 86.11% examples, 100444 words/s, in_qsize 0, out_qsize 0\n",
      "INFO - 16:30:20: worker thread finished; awaiting finish of 0 more threads\n",
      "INFO - 16:30:20: EPOCH - 58 : training on 265793 raw words (120023 effective words) took 1.1s, 105132 effective words/s\n",
      "INFO - 16:30:21: EPOCH 59 - PROGRESS: at 86.11% examples, 103598 words/s, in_qsize 0, out_qsize 0\n",
      "INFO - 16:30:21: worker thread finished; awaiting finish of 0 more threads\n",
      "INFO - 16:30:21: EPOCH - 59 : training on 265793 raw words (120456 effective words) took 1.1s, 107629 effective words/s\n",
      "INFO - 16:30:22: EPOCH 60 - PROGRESS: at 82.60% examples, 96737 words/s, in_qsize 0, out_qsize 0\n",
      "INFO - 16:30:22: worker thread finished; awaiting finish of 0 more threads\n",
      "INFO - 16:30:22: EPOCH - 60 : training on 265793 raw words (120414 effective words) took 1.2s, 101691 effective words/s\n",
      "INFO - 16:30:23: EPOCH 61 - PROGRESS: at 93.83% examples, 108916 words/s, in_qsize 1, out_qsize 0\n",
      "INFO - 16:30:23: worker thread finished; awaiting finish of 0 more threads\n",
      "INFO - 16:30:23: EPOCH - 61 : training on 265793 raw words (120417 effective words) took 1.1s, 110126 effective words/s\n",
      "INFO - 16:30:25: EPOCH 62 - PROGRESS: at 86.11% examples, 101887 words/s, in_qsize 0, out_qsize 0\n",
      "INFO - 16:30:25: worker thread finished; awaiting finish of 0 more threads\n"
     ]
    },
    {
     "name": "stderr",
     "output_type": "stream",
     "text": [
      "INFO - 16:30:25: EPOCH - 62 : training on 265793 raw words (120311 effective words) took 1.2s, 103373 effective words/s\n",
      "INFO - 16:30:26: EPOCH 63 - PROGRESS: at 89.89% examples, 105699 words/s, in_qsize 1, out_qsize 0\n",
      "INFO - 16:30:26: worker thread finished; awaiting finish of 0 more threads\n",
      "INFO - 16:30:26: EPOCH - 63 : training on 265793 raw words (120326 effective words) took 1.1s, 108359 effective words/s\n",
      "INFO - 16:30:27: EPOCH 64 - PROGRESS: at 93.83% examples, 110820 words/s, in_qsize 0, out_qsize 0\n",
      "INFO - 16:30:27: worker thread finished; awaiting finish of 0 more threads\n",
      "INFO - 16:30:27: EPOCH - 64 : training on 265793 raw words (120249 effective words) took 1.1s, 114448 effective words/s\n",
      "INFO - 16:30:28: EPOCH 65 - PROGRESS: at 71.07% examples, 84907 words/s, in_qsize 0, out_qsize 0\n",
      "INFO - 16:30:28: worker thread finished; awaiting finish of 0 more threads\n",
      "INFO - 16:30:28: EPOCH - 65 : training on 265793 raw words (120400 effective words) took 1.3s, 92696 effective words/s\n",
      "INFO - 16:30:29: EPOCH 66 - PROGRESS: at 97.59% examples, 114239 words/s, in_qsize 1, out_qsize 0\n",
      "INFO - 16:30:29: worker thread finished; awaiting finish of 0 more threads\n",
      "INFO - 16:30:29: EPOCH - 66 : training on 265793 raw words (120329 effective words) took 1.0s, 115644 effective words/s\n",
      "INFO - 16:30:30: EPOCH 67 - PROGRESS: at 82.60% examples, 94616 words/s, in_qsize 0, out_qsize 0\n",
      "INFO - 16:30:30: worker thread finished; awaiting finish of 0 more threads\n",
      "INFO - 16:30:30: EPOCH - 67 : training on 265793 raw words (120090 effective words) took 1.2s, 98034 effective words/s\n",
      "INFO - 16:30:32: EPOCH 68 - PROGRESS: at 89.89% examples, 103104 words/s, in_qsize 1, out_qsize 0\n",
      "INFO - 16:30:32: worker thread finished; awaiting finish of 0 more threads\n",
      "INFO - 16:30:32: EPOCH - 68 : training on 265793 raw words (120085 effective words) took 1.1s, 105932 effective words/s\n",
      "INFO - 16:30:33: EPOCH 69 - PROGRESS: at 86.11% examples, 101475 words/s, in_qsize 0, out_qsize 0\n",
      "INFO - 16:30:33: worker thread finished; awaiting finish of 0 more threads\n",
      "INFO - 16:30:33: EPOCH - 69 : training on 265793 raw words (120376 effective words) took 1.2s, 102805 effective words/s\n",
      "INFO - 16:30:34: EPOCH 70 - PROGRESS: at 75.06% examples, 88541 words/s, in_qsize 0, out_qsize 0\n",
      "INFO - 16:30:34: worker thread finished; awaiting finish of 0 more threads\n",
      "INFO - 16:30:34: EPOCH - 70 : training on 265793 raw words (120698 effective words) took 1.4s, 89266 effective words/s\n",
      "INFO - 16:30:35: EPOCH 71 - PROGRESS: at 86.11% examples, 100678 words/s, in_qsize 1, out_qsize 0\n",
      "INFO - 16:30:35: worker thread finished; awaiting finish of 0 more threads\n",
      "INFO - 16:30:35: EPOCH - 71 : training on 265793 raw words (120068 effective words) took 1.3s, 94257 effective words/s\n",
      "INFO - 16:30:36: EPOCH 72 - PROGRESS: at 86.11% examples, 100690 words/s, in_qsize 0, out_qsize 0\n",
      "INFO - 16:30:37: worker thread finished; awaiting finish of 0 more threads\n",
      "INFO - 16:30:37: EPOCH - 72 : training on 265793 raw words (120081 effective words) took 1.1s, 105364 effective words/s\n",
      "INFO - 16:30:38: EPOCH 73 - PROGRESS: at 78.70% examples, 94140 words/s, in_qsize 0, out_qsize 0\n",
      "INFO - 16:30:38: worker thread finished; awaiting finish of 0 more threads\n",
      "INFO - 16:30:38: EPOCH - 73 : training on 265793 raw words (120283 effective words) took 1.2s, 99916 effective words/s\n",
      "INFO - 16:30:39: EPOCH 74 - PROGRESS: at 93.83% examples, 110674 words/s, in_qsize 1, out_qsize 0\n",
      "INFO - 16:30:39: worker thread finished; awaiting finish of 0 more threads\n",
      "INFO - 16:30:39: EPOCH - 74 : training on 265793 raw words (120356 effective words) took 1.1s, 112084 effective words/s\n",
      "INFO - 16:30:40: EPOCH 75 - PROGRESS: at 82.60% examples, 97700 words/s, in_qsize 0, out_qsize 0\n",
      "INFO - 16:30:40: worker thread finished; awaiting finish of 0 more threads\n",
      "INFO - 16:30:40: EPOCH - 75 : training on 265793 raw words (119935 effective words) took 1.2s, 102407 effective words/s\n",
      "INFO - 16:30:41: EPOCH 76 - PROGRESS: at 93.83% examples, 108883 words/s, in_qsize 0, out_qsize 0\n",
      "INFO - 16:30:41: worker thread finished; awaiting finish of 0 more threads\n",
      "INFO - 16:30:41: EPOCH - 76 : training on 265793 raw words (120317 effective words) took 1.1s, 110577 effective words/s\n",
      "INFO - 16:30:42: EPOCH 77 - PROGRESS: at 93.83% examples, 110844 words/s, in_qsize 0, out_qsize 0\n",
      "INFO - 16:30:42: worker thread finished; awaiting finish of 0 more threads\n",
      "INFO - 16:30:42: EPOCH - 77 : training on 265793 raw words (120404 effective words) took 1.1s, 113154 effective words/s\n",
      "INFO - 16:30:43: EPOCH 78 - PROGRESS: at 86.11% examples, 100838 words/s, in_qsize 0, out_qsize 0\n",
      "INFO - 16:30:43: worker thread finished; awaiting finish of 0 more threads\n",
      "INFO - 16:30:43: EPOCH - 78 : training on 265793 raw words (120176 effective words) took 1.1s, 106153 effective words/s\n",
      "INFO - 16:30:44: EPOCH 79 - PROGRESS: at 71.07% examples, 83601 words/s, in_qsize 0, out_qsize 0\n",
      "INFO - 16:30:45: worker thread finished; awaiting finish of 0 more threads\n",
      "INFO - 16:30:45: EPOCH - 79 : training on 265793 raw words (120343 effective words) took 1.3s, 92447 effective words/s\n",
      "INFO - 16:30:46: EPOCH 80 - PROGRESS: at 93.83% examples, 112082 words/s, in_qsize 0, out_qsize 0\n",
      "INFO - 16:30:46: worker thread finished; awaiting finish of 0 more threads\n",
      "INFO - 16:30:46: EPOCH - 80 : training on 265793 raw words (120089 effective words) took 1.0s, 115089 effective words/s\n",
      "INFO - 16:30:47: EPOCH 81 - PROGRESS: at 75.06% examples, 89756 words/s, in_qsize 0, out_qsize 0\n",
      "INFO - 16:30:47: worker thread finished; awaiting finish of 0 more threads\n",
      "INFO - 16:30:47: EPOCH - 81 : training on 265793 raw words (120425 effective words) took 1.3s, 95344 effective words/s\n",
      "INFO - 16:30:48: EPOCH 82 - PROGRESS: at 89.89% examples, 103395 words/s, in_qsize 0, out_qsize 0\n",
      "INFO - 16:30:48: worker thread finished; awaiting finish of 0 more threads\n",
      "INFO - 16:30:48: EPOCH - 82 : training on 265793 raw words (120028 effective words) took 1.1s, 106424 effective words/s\n",
      "INFO - 16:30:49: EPOCH 83 - PROGRESS: at 82.60% examples, 97408 words/s, in_qsize 0, out_qsize 0\n",
      "INFO - 16:30:49: worker thread finished; awaiting finish of 0 more threads\n",
      "INFO - 16:30:49: EPOCH - 83 : training on 265793 raw words (120709 effective words) took 1.2s, 101012 effective words/s\n",
      "INFO - 16:30:50: EPOCH 84 - PROGRESS: at 89.89% examples, 105787 words/s, in_qsize 0, out_qsize 0\n",
      "INFO - 16:30:50: worker thread finished; awaiting finish of 0 more threads\n",
      "INFO - 16:30:50: EPOCH - 84 : training on 265793 raw words (120407 effective words) took 1.1s, 108109 effective words/s\n",
      "INFO - 16:30:52: EPOCH 85 - PROGRESS: at 93.83% examples, 107848 words/s, in_qsize 1, out_qsize 0\n",
      "INFO - 16:30:52: worker thread finished; awaiting finish of 0 more threads\n",
      "INFO - 16:30:52: EPOCH - 85 : training on 265793 raw words (120044 effective words) took 1.1s, 110038 effective words/s\n",
      "INFO - 16:30:53: EPOCH 86 - PROGRESS: at 93.83% examples, 108567 words/s, in_qsize 1, out_qsize 0\n",
      "INFO - 16:30:53: worker thread finished; awaiting finish of 0 more threads\n",
      "INFO - 16:30:53: EPOCH - 86 : training on 265793 raw words (120171 effective words) took 1.1s, 110891 effective words/s\n",
      "INFO - 16:30:54: EPOCH 87 - PROGRESS: at 86.11% examples, 101369 words/s, in_qsize 0, out_qsize 0\n",
      "INFO - 16:30:54: worker thread finished; awaiting finish of 0 more threads\n",
      "INFO - 16:30:54: EPOCH - 87 : training on 265793 raw words (120561 effective words) took 1.1s, 105566 effective words/s\n",
      "INFO - 16:30:55: EPOCH 88 - PROGRESS: at 78.70% examples, 92526 words/s, in_qsize 0, out_qsize 0\n",
      "INFO - 16:30:55: worker thread finished; awaiting finish of 0 more threads\n",
      "INFO - 16:30:55: EPOCH - 88 : training on 265793 raw words (120083 effective words) took 1.2s, 99058 effective words/s\n",
      "INFO - 16:30:56: EPOCH 89 - PROGRESS: at 86.11% examples, 103493 words/s, in_qsize 0, out_qsize 0\n",
      "INFO - 16:30:56: worker thread finished; awaiting finish of 0 more threads\n",
      "INFO - 16:30:56: EPOCH - 89 : training on 265793 raw words (120329 effective words) took 1.1s, 105592 effective words/s\n",
      "INFO - 16:30:57: EPOCH 90 - PROGRESS: at 82.60% examples, 96046 words/s, in_qsize 0, out_qsize 0\n",
      "INFO - 16:30:57: worker thread finished; awaiting finish of 0 more threads\n",
      "INFO - 16:30:57: EPOCH - 90 : training on 265793 raw words (120117 effective words) took 1.3s, 93039 effective words/s\n"
     ]
    },
    {
     "name": "stderr",
     "output_type": "stream",
     "text": [
      "INFO - 16:30:59: EPOCH 91 - PROGRESS: at 78.70% examples, 91334 words/s, in_qsize 0, out_qsize 0\n",
      "INFO - 16:30:59: worker thread finished; awaiting finish of 0 more threads\n",
      "INFO - 16:30:59: EPOCH - 91 : training on 265793 raw words (120275 effective words) took 1.3s, 95718 effective words/s\n",
      "INFO - 16:31:00: EPOCH 92 - PROGRESS: at 86.11% examples, 103366 words/s, in_qsize 0, out_qsize 0\n",
      "INFO - 16:31:00: worker thread finished; awaiting finish of 0 more threads\n",
      "INFO - 16:31:00: EPOCH - 92 : training on 265793 raw words (120284 effective words) took 1.1s, 108581 effective words/s\n",
      "INFO - 16:31:01: EPOCH 93 - PROGRESS: at 82.60% examples, 98453 words/s, in_qsize 0, out_qsize 0\n",
      "INFO - 16:31:01: worker thread finished; awaiting finish of 0 more threads\n",
      "INFO - 16:31:01: EPOCH - 93 : training on 265793 raw words (120586 effective words) took 1.2s, 103467 effective words/s\n",
      "INFO - 16:31:02: EPOCH 94 - PROGRESS: at 89.89% examples, 106227 words/s, in_qsize 0, out_qsize 0\n",
      "INFO - 16:31:02: worker thread finished; awaiting finish of 0 more threads\n",
      "INFO - 16:31:02: EPOCH - 94 : training on 265793 raw words (120014 effective words) took 1.2s, 100533 effective words/s\n",
      "INFO - 16:31:03: EPOCH 95 - PROGRESS: at 86.11% examples, 99393 words/s, in_qsize 1, out_qsize 0\n",
      "INFO - 16:31:03: worker thread finished; awaiting finish of 0 more threads\n",
      "INFO - 16:31:03: EPOCH - 95 : training on 265793 raw words (120399 effective words) took 1.2s, 102627 effective words/s\n",
      "INFO - 16:31:04: EPOCH 96 - PROGRESS: at 97.59% examples, 114435 words/s, in_qsize 1, out_qsize 0\n",
      "INFO - 16:31:04: worker thread finished; awaiting finish of 0 more threads\n",
      "INFO - 16:31:04: EPOCH - 96 : training on 265793 raw words (120226 effective words) took 1.0s, 115830 effective words/s\n",
      "INFO - 16:31:05: EPOCH 97 - PROGRESS: at 93.83% examples, 109597 words/s, in_qsize 1, out_qsize 0\n",
      "INFO - 16:31:06: worker thread finished; awaiting finish of 0 more threads\n",
      "INFO - 16:31:06: EPOCH - 97 : training on 265793 raw words (120336 effective words) took 1.1s, 112440 effective words/s\n",
      "INFO - 16:31:07: EPOCH 98 - PROGRESS: at 93.83% examples, 111162 words/s, in_qsize 0, out_qsize 0\n",
      "INFO - 16:31:07: worker thread finished; awaiting finish of 0 more threads\n",
      "INFO - 16:31:07: EPOCH - 98 : training on 265793 raw words (120202 effective words) took 1.0s, 114888 effective words/s\n",
      "INFO - 16:31:08: EPOCH 99 - PROGRESS: at 97.59% examples, 115394 words/s, in_qsize 1, out_qsize 0\n",
      "INFO - 16:31:08: worker thread finished; awaiting finish of 0 more threads\n",
      "INFO - 16:31:08: EPOCH - 99 : training on 265793 raw words (120260 effective words) took 1.0s, 116911 effective words/s\n",
      "INFO - 16:31:09: EPOCH 100 - PROGRESS: at 97.59% examples, 114309 words/s, in_qsize 1, out_qsize 0\n",
      "INFO - 16:31:09: worker thread finished; awaiting finish of 0 more threads\n",
      "INFO - 16:31:09: EPOCH - 100 : training on 265793 raw words (120264 effective words) took 1.0s, 115745 effective words/s\n",
      "INFO - 16:31:09: training on a 26579300 raw words (12028142 effective words) took 109.7s, 109655 effective words/s\n",
      "INFO - 16:31:09: precomputing L2-norms of word weight vectors\n"
     ]
    }
   ],
   "source": [
    "w2v.train(new_lines, total_examples=w2v.corpus_count, epochs=100)\n",
    "w2v.init_sims(replace=True)"
   ]
  },
  {
   "cell_type": "markdown",
   "metadata": {},
   "source": [
    "### Subtask 3: Exploring the Model\n"
   ]
  },
  {
   "cell_type": "markdown",
   "metadata": {},
   "source": [
    "As mentioned in the lecture, word embeddings are suited for similarity and analogy tasks. Let's explore some of that with our dataset: \n",
    "\n",
    "We look for most similar words to the famous coffee shop where most of the episodes took place, namely `central_perk` and also one of the characters `joey`. If you have followed the exercise correctly until now, you should see that words like `laying` are similar to `central_perk` and the other main characters are also considered similar to `joey`.\n",
    "\n"
   ]
  },
  {
   "cell_type": "code",
   "execution_count": 77,
   "metadata": {},
   "outputs": [
    {
     "data": {
      "text/plain": [
       "[('conan', 0.7044316530227661),\n",
       " ('sitting_couch', 0.6197500228881836),\n",
       " ('laying', 0.6157475709915161),\n",
       " ('recliner', 0.5554533004760742),\n",
       " ('puzzles', 0.5539599657058716),\n",
       " ('area', 0.5457411408424377),\n",
       " ('peek', 0.5379475355148315),\n",
       " ('movies', 0.536694347858429),\n",
       " ('dragon', 0.5342755913734436),\n",
       " ('whichever', 0.5340394973754883)]"
      ]
     },
     "execution_count": 77,
     "metadata": {},
     "output_type": "execute_result"
    }
   ],
   "source": [
    "w2v.wv.most_similar(positive=[\"central_perk\"])"
   ]
  },
  {
   "cell_type": "code",
   "execution_count": 78,
   "metadata": {},
   "outputs": [
    {
     "data": {
      "text/plain": [
       "[('chandler', 0.8797323703765869),\n",
       " ('phoebe', 0.7789542078971863),\n",
       " ('ross', 0.7726583480834961),\n",
       " ('monica', 0.7707008123397827),\n",
       " ('turns', 0.763361930847168),\n",
       " ('rachel', 0.7601665258407593),\n",
       " ('goes', 0.7571671009063721),\n",
       " ('looks', 0.747425377368927),\n",
       " ('sees', 0.7224193811416626),\n",
       " ('quickly', 0.7035714983940125)]"
      ]
     },
     "execution_count": 78,
     "metadata": {},
     "output_type": "execute_result"
    }
   ],
   "source": [
    "w2v.wv.most_similar(positive=[\"joey\"])"
   ]
  },
  {
   "cell_type": "markdown",
   "metadata": {},
   "source": [
    "Look at the similarity of `mrs_green` to `rachel` (her mom) and `ross`  and `spaceship` (unrelated). The first one should have a high and the second low score. Finally look at the similarity of `smelly_cat` (a song from pheobe) and `song` the similarity should be high."
   ]
  },
  {
   "cell_type": "code",
   "execution_count": 82,
   "metadata": {},
   "outputs": [
    {
     "data": {
      "text/plain": [
       "0.6602634"
      ]
     },
     "execution_count": 82,
     "metadata": {},
     "output_type": "execute_result"
    }
   ],
   "source": [
    "w2v.wv.similarity('mrs_green', 'rachel')"
   ]
  },
  {
   "cell_type": "code",
   "execution_count": 83,
   "metadata": {},
   "outputs": [
    {
     "data": {
      "text/plain": [
       "-0.28437558"
      ]
     },
     "execution_count": 83,
     "metadata": {},
     "output_type": "execute_result"
    }
   ],
   "source": [
    "w2v.wv.similarity('ross', 'spaceship')"
   ]
  },
  {
   "cell_type": "code",
   "execution_count": 84,
   "metadata": {},
   "outputs": [
    {
     "data": {
      "text/plain": [
       "0.5811626"
      ]
     },
     "execution_count": 84,
     "metadata": {},
     "output_type": "execute_result"
    }
   ],
   "source": [
    "w2v.wv.similarity('smelly_cat', 'song')"
   ]
  },
  {
   "cell_type": "markdown",
   "metadata": {},
   "source": [
    "We can also ask our model to give us the word that does not belong to a list of words. Let's see from the list of all 5 characters which one is the most dissimilar? \n"
   ]
  },
  {
   "cell_type": "code",
   "execution_count": 86,
   "metadata": {},
   "outputs": [],
   "source": [
    "character_names= ['joey', 'rachel', 'phoebe','monica','chandler']"
   ]
  },
  {
   "cell_type": "code",
   "execution_count": 87,
   "metadata": {},
   "outputs": [
    {
     "name": "stderr",
     "output_type": "stream",
     "text": [
      "/Users/d070497/.local/share/virtualenvs/HateSpeechDetection-KN2PSeen/lib/python3.7/site-packages/gensim/models/keyedvectors.py:877: FutureWarning: arrays to stack must be passed as a \"sequence\" type such as list or tuple. Support for non-sequence iterables such as generators is deprecated as of NumPy 1.16 and will raise an error in the future.\n",
      "  vectors = vstack(self.word_vec(word, use_norm=True) for word in used_words).astype(REAL)\n"
     ]
    },
    {
     "data": {
      "text/plain": [
       "'joey'"
      ]
     },
     "execution_count": 87,
     "metadata": {},
     "output_type": "execute_result"
    }
   ],
   "source": [
    "w2v.wv.doesnt_match(character_names)"
   ]
  },
  {
   "cell_type": "markdown",
   "metadata": {},
   "source": [
    "Based on the analogies, which word is to `rachel` as `man` is to `women`? (print the top 3); you should get `chandler` and `monica` among the answers."
   ]
  },
  {
   "cell_type": "code",
   "execution_count": 97,
   "metadata": {},
   "outputs": [
    {
     "data": {
      "text/plain": [
       "[('monica', 0.6889967918395996),\n",
       " ('ross', 0.6608829498291016),\n",
       " ('rest_gang', 0.6590893268585205)]"
      ]
     },
     "execution_count": 97,
     "metadata": {},
     "output_type": "execute_result"
    }
   ],
   "source": [
    "w2v.wv.most_similar(positive=[\"rachel\", \"man\"], negative=[\"women\"], topn=3)"
   ]
  },
  {
   "cell_type": "markdown",
   "metadata": {},
   "source": [
    "Finally, lets use t-SNE to look at the distribution of our embeddings in the vector space for the character `joey`. Follow the instructions and fill in the blank in the `tsneplot` function."
   ]
  },
  {
   "cell_type": "code",
   "execution_count": 102,
   "metadata": {},
   "outputs": [],
   "source": [
    "import numpy as np\n",
    "import matplotlib.pyplot as plt\n",
    "%matplotlib inline\n",
    "import seaborn as sns\n",
    "import sys\n",
    "from sklearn.manifold import TSNE"
   ]
  },
  {
   "cell_type": "code",
   "execution_count": 138,
   "metadata": {},
   "outputs": [],
   "source": [
    "def tsneplot(model, word):\n",
    "    \"\"\" Plot in seaborn the results from the t-SNE dimensionality reduction for the top 10 most similar and dissimilar words\n",
    "    \"\"\"\n",
    "    embs = np.empty((0, 100), dtype='f') # to save all the embeddings\n",
    "    word_labels = [word]\n",
    "    color_list  = ['green']\n",
    "\n",
    "   \n",
    "    embs = np.append(embs, model.wv.__getitem__([word]), axis=0) # adds the vector of the query word\n",
    "    \n",
    "   \n",
    "    close_words = model.wv.most_similar([word]) # gets list of most similar words\n",
    "    all_sims = sorted(model.wv.most_similar([word], topn=model.corpus_count))[:10] # gets list of most dissimilar words (get the sorted list of all the words and their similarity and choose the bottom 10 )\n",
    "    print(all_sims)\n",
    "    \n",
    "    # adds the vector for each of the closest words to the array\n",
    "    for wrd_score in close_words:\n",
    "        wrd_vector = model.wv.__getitem__([wrd_score[0]]) # get the vector\n",
    "        word_labels.append(wrd_score[0])\n",
    "        color_list.append('blue')\n",
    "        embs = np.append(embs, wrd_vector, axis=0)\n",
    "        \n",
    "    # adds the vector for each of the furthest words to the array\n",
    "    for wrd_score in all_sims:\n",
    "        wrd_vector = model.wv.__getitem__([wrd_score[0]]) # get the vector \n",
    "        word_labels.append(wrd_score[0])\n",
    "        color_list.append('red')\n",
    "        embs = np.append(embs, wrd_vector, axis=0)\n",
    "    \n",
    "    np.set_printoptions(suppress=True)\n",
    "    Y = TSNE(n_components=2, random_state=42, perplexity=15).fit_transform(embs) # with n_components=2, random_state=42, perplexity=15 \n",
    "    \n",
    "    # Sets everything up to plot\n",
    "    df = pd.DataFrame({'x': [x for x in Y[:, 0]],\n",
    "                       'y': [y for y in Y[:, 1]],\n",
    "                       'words': word_labels,\n",
    "                       'color': color_list})\n",
    "    \n",
    "    fig, _ = plt.subplots()\n",
    "    fig.set_size_inches(10, 10)\n",
    "    \n",
    "    # Basic plot\n",
    "    p1 = sns.regplot(data=df,\n",
    "                     x=\"x\",\n",
    "                     y=\"y\",\n",
    "                     fit_reg=False,\n",
    "                     marker=\"o\",\n",
    "                     scatter_kws={'s': 40,\n",
    "                                  'facecolors': df['color']\n",
    "                                 }\n",
    "                    )\n",
    "    \n",
    "    # adds annotations one by one with a loop\n",
    "    for line in range(0, df.shape[0]):\n",
    "         p1.text(df[\"x\"][line],\n",
    "                 df['y'][line],\n",
    "                 '  ' + df[\"words\"][line].title(),\n",
    "                 horizontalalignment='left',\n",
    "                 verticalalignment='bottom', size='medium',\n",
    "                 color=df['color'][line],\n",
    "                 weight='normal'\n",
    "                ).set_size(15)\n",
    "\n",
    "    \n",
    "    plt.xlim(Y[:, 0].min()-50, Y[:, 0].max()+50)\n",
    "    plt.ylim(Y[:, 1].min()-50, Y[:, 1].max()+50)\n",
    "            \n",
    "    plt.title('t-SNE visualization for {}'.format(word.title()))\n",
    "    "
   ]
  },
  {
   "cell_type": "code",
   "execution_count": 139,
   "metadata": {},
   "outputs": [
    {
     "name": "stdout",
     "output_type": "stream",
     "text": [
      "[('00', -0.0701979249715805), ('000', -0.10169506072998047), ('007', 0.008701125159859657), ('02', 0.06537488102912903), ('038', 0.12504784762859344), ('10', -0.05131617188453674), ('100', -0.054360613226890564), ('1066', 0.08148254454135895), ('10th', -0.07627394795417786), ('11', -0.1710900366306305)]\n"
     ]
    },
    {
     "data": {
      "image/png": "[encoded data removed]",
      "text/plain": [
       "<Figure size 720x720 with 1 Axes>"
      ]
     },
     "metadata": {
      "needs_background": "light"
     },
     "output_type": "display_data"
    }
   ],
   "source": [
    "tsneplot(w2v, 'joey')"
   ]
  },
  {
   "cell_type": "markdown",
   "metadata": {},
   "source": [
    "## Task 2: Multi-class Classification ( 1+ 3 + 2 = 6 points)\n",
    "In this task, we aim to classify consumer finance complaints into 12 pre-defined classes. Note that this is not a multi-label task, and we assume that each new complaint is assigned to one and only one category. The data comes from https://www.data.gov/ (US government’s open data) and contains complaints that are published after the company responds, confirming a commercial relationship with the consumer, or after 15 days, whatever comes first.\n"
   ]
  },
  {
   "cell_type": "markdown",
   "metadata": {},
   "source": [
    "### Sub Task 1: Data Exploration"
   ]
  },
  {
   "cell_type": "markdown",
   "metadata": {},
   "source": [
    "Read the data to a pandas dataframe from `complaints.csv`; this is a rather large file of 206MB. Keep only the `Consumer complaint narrative` (input text) and `product`(labels). Remove the missing values, rename `Consumer complaint narrative` to `Narrative` for ease of use, and add a column encoding the product as an integer. This will represent your labels for classification and the mapping will be used later on. Create two dictionaries: one mapping the ids to products and one mapping products to their ids."
   ]
  },
  {
   "cell_type": "code",
   "execution_count": 38,
   "metadata": {},
   "outputs": [
    {
     "data": {
      "text/html": [
       "<div>\n",
       "<style scoped>\n",
       "    .dataframe tbody tr th:only-of-type {\n",
       "        vertical-align: middle;\n",
       "    }\n",
       "\n",
       "    .dataframe tbody tr th {\n",
       "        vertical-align: top;\n",
       "    }\n",
       "\n",
       "    .dataframe thead th {\n",
       "        text-align: right;\n",
       "    }\n",
       "</style>\n",
       "<table border=\"1\" class=\"dataframe\">\n",
       "  <thead>\n",
       "    <tr style=\"text-align: right;\">\n",
       "      <th></th>\n",
       "      <th>narrative</th>\n",
       "      <th>product</th>\n",
       "    </tr>\n",
       "  </thead>\n",
       "  <tbody>\n",
       "    <tr>\n",
       "      <th>0</th>\n",
       "      <td>NaN</td>\n",
       "      <td>Checking or savings account</td>\n",
       "    </tr>\n",
       "    <tr>\n",
       "      <th>1</th>\n",
       "      <td>I was sold access to an event digitally, of wh...</td>\n",
       "      <td>Money transfer, virtual currency, or money ser...</td>\n",
       "    </tr>\n",
       "    <tr>\n",
       "      <th>2</th>\n",
       "      <td>NaN</td>\n",
       "      <td>Vehicle loan or lease</td>\n",
       "    </tr>\n",
       "    <tr>\n",
       "      <th>3</th>\n",
       "      <td>NaN</td>\n",
       "      <td>Checking or savings account</td>\n",
       "    </tr>\n",
       "    <tr>\n",
       "      <th>4</th>\n",
       "      <td>NaN</td>\n",
       "      <td>Checking or savings account</td>\n",
       "    </tr>\n",
       "  </tbody>\n",
       "</table>\n",
       "</div>"
      ],
      "text/plain": [
       "                                           narrative  \\\n",
       "0                                                NaN   \n",
       "1  I was sold access to an event digitally, of wh...   \n",
       "2                                                NaN   \n",
       "3                                                NaN   \n",
       "4                                                NaN   \n",
       "\n",
       "                                             product  \n",
       "0                        Checking or savings account  \n",
       "1  Money transfer, virtual currency, or money ser...  \n",
       "2                              Vehicle loan or lease  \n",
       "3                        Checking or savings account  \n",
       "4                        Checking or savings account  "
      ]
     },
     "execution_count": 38,
     "metadata": {},
     "output_type": "execute_result"
    }
   ],
   "source": [
    "import pandas as pd\n",
    "from io import StringIO\n",
    "df = pd.read_csv(\"data/complaints.csv\")\n",
    "df = df[['Consumer complaint narrative','Product']] # keep the columns you need\n",
    "df.columns =  ['narrative', 'product'] # rename columns\n",
    "df.head()"
   ]
  },
  {
   "cell_type": "code",
   "execution_count": 40,
   "metadata": {},
   "outputs": [
    {
     "data": {
      "text/html": [
       "<div>\n",
       "<style scoped>\n",
       "    .dataframe tbody tr th:only-of-type {\n",
       "        vertical-align: middle;\n",
       "    }\n",
       "\n",
       "    .dataframe tbody tr th {\n",
       "        vertical-align: top;\n",
       "    }\n",
       "\n",
       "    .dataframe thead th {\n",
       "        text-align: right;\n",
       "    }\n",
       "</style>\n",
       "<table border=\"1\" class=\"dataframe\">\n",
       "  <thead>\n",
       "    <tr style=\"text-align: right;\">\n",
       "      <th></th>\n",
       "      <th>narrative</th>\n",
       "      <th>product</th>\n",
       "      <th>product_id</th>\n",
       "    </tr>\n",
       "  </thead>\n",
       "  <tbody>\n",
       "    <tr>\n",
       "      <th>1</th>\n",
       "      <td>I was sold access to an event digitally, of wh...</td>\n",
       "      <td>Money transfer, virtual currency, or money ser...</td>\n",
       "      <td>0</td>\n",
       "    </tr>\n",
       "    <tr>\n",
       "      <th>5</th>\n",
       "      <td>I LEASED MY CAR ON XX/XX/XXXX AND MADE PAYMENT...</td>\n",
       "      <td>Vehicle loan or lease</td>\n",
       "      <td>1</td>\n",
       "    </tr>\n",
       "    <tr>\n",
       "      <th>6</th>\n",
       "      <td>My original lender was XXXX XXXX XXXX ; this l...</td>\n",
       "      <td>Student loan</td>\n",
       "      <td>2</td>\n",
       "    </tr>\n",
       "    <tr>\n",
       "      <th>8</th>\n",
       "      <td>I was misled by XXXX XXXX  and my degree did n...</td>\n",
       "      <td>Student loan</td>\n",
       "      <td>2</td>\n",
       "    </tr>\n",
       "    <tr>\n",
       "      <th>10</th>\n",
       "      <td>I purchased a vehicle 3 years ago. As of recen...</td>\n",
       "      <td>Vehicle loan or lease</td>\n",
       "      <td>1</td>\n",
       "    </tr>\n",
       "  </tbody>\n",
       "</table>\n",
       "</div>"
      ],
      "text/plain": [
       "                                            narrative  \\\n",
       "1   I was sold access to an event digitally, of wh...   \n",
       "5   I LEASED MY CAR ON XX/XX/XXXX AND MADE PAYMENT...   \n",
       "6   My original lender was XXXX XXXX XXXX ; this l...   \n",
       "8   I was misled by XXXX XXXX  and my degree did n...   \n",
       "10  I purchased a vehicle 3 years ago. As of recen...   \n",
       "\n",
       "                                              product  product_id  \n",
       "1   Money transfer, virtual currency, or money ser...           0  \n",
       "5                               Vehicle loan or lease           1  \n",
       "6                                        Student loan           2  \n",
       "8                                        Student loan           2  \n",
       "10                              Vehicle loan or lease           1  "
      ]
     },
     "execution_count": 40,
     "metadata": {},
     "output_type": "execute_result"
    }
   ],
   "source": [
    "df = df.dropna() # remove missing\n",
    "df['product_id'], _ = pd.factorize(df['product']) # integer ids for product\n",
    "\n",
    "### create the dictionary ####\n",
    "id2product = pd.Series(df[\"product\"].values,index=df['product_id']).to_dict()\n",
    "product2id = pd.Series(df[\"product_id\"].values,index=df['product']).to_dict()\n",
    "\n",
    "df.head()"
   ]
  },
  {
   "cell_type": "markdown",
   "metadata": {},
   "source": [
    "Look at the class distribution of the products. It is always a good idea to look at the relative number of instances for each class before performing any classification task. Use the `plot` function from the dataframe to show the number of instances in each class in a histogram."
   ]
  },
  {
   "cell_type": "code",
   "execution_count": 41,
   "metadata": {},
   "outputs": [
    {
     "data": {
      "text/plain": [
       "<Figure size 720x576 with 0 Axes>"
      ]
     },
     "metadata": {},
     "output_type": "display_data"
    },
    {
     "data": {
      "image/png": "[encoded data removed]",
      "text/plain": [
       "<Figure size 720x576 with 1 Axes>"
      ]
     },
     "metadata": {
      "needs_background": "light"
     },
     "output_type": "display_data"
    },
    {
     "name": "stdout",
     "output_type": "stream",
     "text": [
      "Legend:\n",
      "{0: 'Money transfer, virtual currency, or money service', 1: 'Vehicle loan or lease', 2: 'Student loan', 3: 'Checking or savings account', 4: 'Credit card', 5: 'Payday loan, title loan, or personal loan', 6: 'Consumer Loan', 7: 'Payday loan', 8: 'Bank account or service', 9: 'Credit reporting', 10: 'Other financial service', 11: 'Money transfers', 12: 'Prepaid card', 13: 'Virtual currency'}\n"
     ]
    }
   ],
   "source": [
    "import matplotlib.pyplot as plt\n",
    "fig = plt.figure(figsize=(10,8))\n",
    "df.plot.hist(by=\"product\", title=\"Class Distribution\", legend=True, figsize=(10,8))\n",
    "plt.show()\n",
    "print(\"Legend:\")\n",
    "print(id2product)"
   ]
  },
  {
   "cell_type": "markdown",
   "metadata": {},
   "source": [
    "If you have done the exercise correctly you should observe a class imbalance with `credit reporting` having the most complaints. This can result in some difficulties for standard algorithms, making them biased towards the majority class and treating the minority classes as outliers and unimportant. One way to overcome this problem is by using **undersampling** or **oversampling**. However, this is beyond the scope of this assignment."
   ]
  },
  {
   "cell_type": "markdown",
   "metadata": {},
   "source": [
    "### Sub Task 2: Text Representation and Training the Classifier \n",
    "Before performing any classification we need to split our data into train and test sets. Use `sklearn` to save 20 percent of the data for the test and the rest for training. Make sure to input the index of the data frame to retrieve the indices of the test and train. \n"
   ]
  },
  {
   "cell_type": "code",
   "execution_count": 44,
   "metadata": {},
   "outputs": [],
   "source": [
    "from sklearn.model_selection import train_test_split\n",
    "X_train, X_test, y_train, y_test, indices_train, indices_test = train_test_split(df[\"narrative\"].tolist(), df[\"product_id\"].tolist(), df.index, test_size=0.2)"
   ]
  },
  {
   "cell_type": "markdown",
   "metadata": {},
   "source": [
    "To perform any sort of classification task, we first need to convert our raw text into some vector representation. Let's use the `TfidfVectorizer` from `sklearn` to convert the `narrative` column into TF-IDF vectors. When transforming the text keep the following in mind:\n",
    "- use the logarithmic form for frequency\n",
    "- remove accents (ASCII) \n",
    "- lowercase all characters \n",
    "- remove `English` stop words \n",
    "- ignore terms that have a document frequency strictly less than 10\n",
    "- smooth IDF weights by adding one to document frequencies \n",
    "- output row should have unit L2 norm\n",
    "- set the encoding to `Latin-1`\n",
    "- extract both uni-grams and bi-grams \n",
    "- build a vocabulary that only considers the top 10.000 features\n",
    "Keep in mind that the vectorizer should be trained **only** on the training data, and the test data should be transformed using the same model."
   ]
  },
  {
   "cell_type": "code",
   "execution_count": null,
   "metadata": {},
   "outputs": [],
   "source": [
    "from sklearn.feature_extraction.text import TfidfVectorizer\n",
    "tfidf = TfidfVectorizer(###initlize the model ### \n",
    "X_train = ###transform text  ### \n",
    "X_train.shape # should be (132647, 10000) "
   ]
  },
  {
   "cell_type": "markdown",
   "metadata": {},
   "source": [
    "After the data transformation, we attain the features and labels, to train the classifier. In our case, we use **Naive Bayes Classifier**. \n",
    "- split the features and labels into training and test set (set the random state to 42) \n",
    "- use `MultinomialNB` from sklearn to classify the data "
   ]
  },
  {
   "cell_type": "code",
   "execution_count": null,
   "metadata": {},
   "outputs": [],
   "source": [
    "from sklearn.naive_bayes import MultinomialNB\n",
    "clf =### fit the model to the data ### "
   ]
  },
  {
   "cell_type": "markdown",
   "metadata": {},
   "source": [
    "### Sub Task 3: Model Evaluation  "
   ]
  },
  {
   "cell_type": "markdown",
   "metadata": {},
   "source": [
    "We evaluate our model using the held-out test data. We are going to look at the confusion matrix to show the performance of the model. "
   ]
  },
  {
   "cell_type": "code",
   "execution_count": null,
   "metadata": {},
   "outputs": [],
   "source": [
    "from sklearn.metrics import confusion_matrix\n",
    "import seaborn as sns\n",
    "y_pred = ### predict on the test set ### \n",
    "conf = ### create the confusion matrix ### \n",
    "fig, ax = plt.subplots(figsize=(10,10))\n",
    "sns.heatmap(conf, annot=True, fmt='d',\n",
    "            xticklabels=###products names from the dictionary ###,\n",
    "            yticklabels=### products names from the dictionary###)\n",
    "plt.ylabel('True Label')\n",
    "plt.xlabel('Predicted Label')\n",
    "plt.show()"
   ]
  },
  {
   "cell_type": "markdown",
   "metadata": {},
   "source": [
    "The majority of the predictions end up on the diagonal (predicted label = actual label). The diagonal shows the correct classified classes. However, there are several misclassifications, specifically `Checking or savings account` is often confused with `Bank account or service`. Let's take a look at why this happens. For this, we look at 5 misclassified examples."
   ]
  },
  {
   "cell_type": "code",
   "execution_count": null,
   "metadata": {},
   "outputs": [],
   "source": [
    "actual='Bank account or service'\n",
    "predicted= 'Checking or savings account'\n",
    "### print only the top 10 \n",
    "df###choose the ones that have an actual label of Bank account or service and the predicted label of Checking or savings account ###)"
   ]
  },
  {
   "cell_type": "markdown",
   "metadata": {},
   "source": [
    "As you can see, some of the misclassified complaints are complaints that are not easy to distinguish. "
   ]
  },
  {
   "cell_type": "markdown",
   "metadata": {},
   "source": [
    "## Task 3: Auto-Complete ( 2 + 5 + 4 = 11 Points ) \n",
    "Let's get even more practical! In this problem set, you will build your own auto-completion system that you see every day while using search engines.\n",
    "\n",
    "[google]: https://www.thedad.com/wp-content/uploads/2018/05/screen-shot-2018-05-12-at-2-01-56-pm.png \"google auto complete\"\n",
    "\n",
    "![google]\n",
    "By the end of this assignment, you will develop a simple prototype of such a system using n-gram language models. At the heart of the system is a language model that assigns the probability to a sequence of words. We take advantage of this probability calculation to predict the next word. \n",
    "\n",
    "The problem set contains 3 main parts:\n",
    "\n",
    "1. Load and preprocess data (tokenize and split into train and test)\n",
    "2. Develop n-gram based language models by estimating the conditional probability of the next word.\n",
    "3. Evaluate the model by computing the perplexity score.\n"
   ]
  },
  {
   "cell_type": "markdown",
   "metadata": {},
   "source": [
    "### Sub Task 1: Load and Preprocess Data \n",
    "We use a subset of English tweets to train our model. Run the cell below to load the data and observe a few lines of it. Notice that tweets are saved in a text file, where tweets are separated by `\\n`"
   ]
  },
  {
   "cell_type": "code",
   "execution_count": null,
   "metadata": {},
   "outputs": [],
   "source": [
    "import math\n",
    "import random\n",
    "import numpy as np\n",
    "import spacy\n",
    "nlp = spacy.load(\"en_core_web_sm\", disable=[\"tagger\", \"parser\",\"ner\"])\n",
    "\n",
    "\n",
    "with open(\"twitter.txt\", \"r\") as f:\n",
    "    data = f.read()\n",
    "print(\"First 500 characters of the data:\")\n",
    "display(data[0:500])\n",
    "print(\"-------\")"
   ]
  },
  {
   "cell_type": "markdown",
   "metadata": {},
   "source": [
    "Now we need to separate the tweets and split them into train and test set. Apply the following pre-processing steps:\n",
    "\n",
    "1. Split data into sentences using \"\\n\" as the delimiter and remove the leading and trailing spaces (drop empty sentences)\n",
    "2. Tokenize the sentences into words using SpaCy and lowercase them. (notice that we do not remove stop words or punctuations.) \n",
    "3. Divide the sentences into 80 percent training and 20 percent test set. No validation set is required. Although in a real-world application it is best to set aside part of the data for hyperparameter tuning.\n",
    "4. To limit the vocabulary and remove potential spelling mistakes, make a vocabulary of the words that appear at least 2 times. The rest of the words will be replaced by the `<unk>` symbol. This is a crucial step since if your model encounters a word that it never saw during training, it won't have an input word that helps determining the next word for suggestion. We use the `<unk>` word for **out of Vocabulary (OOV)** words. Keep in mind that we built the vocabulary on the training data only."
   ]
  },
  {
   "cell_type": "code",
   "execution_count": null,
   "metadata": {},
   "outputs": [],
   "source": [
    "sentences = #split\n",
    "sentences = #remove spaces and drop empty sentences "
   ]
  },
  {
   "cell_type": "code",
   "execution_count": null,
   "metadata": {},
   "outputs": [],
   "source": [
    "tokenized_corpus = []# list of list of the tokens in a sentence \n",
    "##Your Code###     "
   ]
  },
  {
   "cell_type": "code",
   "execution_count": null,
   "metadata": {},
   "outputs": [],
   "source": [
    "from random import Random\n",
    "Random(4).shuffle(tokenized_corpus)\n",
    "\n",
    "train = ##Your Code###     \n",
    "test = ##Your Code###     "
   ]
  },
  {
   "cell_type": "code",
   "execution_count": null,
   "metadata": {},
   "outputs": [],
   "source": [
    "from collections import Counter\n",
    "flatten_corpus = ### Flatten the train corpus ### \n",
    "word_counts = ### count the number of each token ### \n",
    "vocab = []\n",
    "\n",
    "### keep only the ones with frequency bigger than 2 ### \n",
    "print(len(vocab)) ### should be 16930 ### \n",
    "train_replaced = []\n",
    "test_replaced = []\n",
    "for sentence in train:\n",
    "    ### adjust the sentence to contain the word in the vocabulary and <unk> for the rest #### \n",
    "for sentence in test:"
   ]
  },
  {
   "cell_type": "markdown",
   "metadata": {},
   "source": [
    "### Sub Task 2: N-gram Based Language Model: \n",
    "In this section, you will develop the n-grams language model. We assume that the probability of the next word depends only on the previous n-gram or previous n words. We compute this probability by counting the occurrences in the corpus.\n",
    "The conditional probability for the word at position 't' in the sentence, given that the words preceding it are $w_{t-1}, w_{t-2} \\cdots w_{t-n}$ can be estimated as follows:\n",
    "\n",
    "$$ \\hat{P}(w_t | w_{t-1}\\dots w_{t-n}) = \\frac{C(w_{t-1}\\dots w_{t-n}, w_n)}{C(w_{t-1}\\dots w_{t-n})}  $$\n",
    "\n",
    "The numerator is the number of times word 't' appears after the n-gram, and the denominator is the number of times the n-gram occurs in the corpus, where $C(\\cdots)$ is a count function. Later, we add k-smoothing to avoid errors when any counts are zero."
   ]
  },
  {
   "cell_type": "markdown",
   "metadata": {},
   "source": [
    "To tackle the problem of probability estimation we divide the problem into 3 parts. In the following you will: \n",
    "1. Implement a function that computes the counts of n-grams for an arbitrary number n.\n",
    "2. Estimate the probability of a word given the prior n-words using the n-gram counts.\n",
    "3. Calculate probabilities for all possible words.\n",
    "4. Create a probability matrix. \n",
    "The steps are detailed below. "
   ]
  },
  {
   "cell_type": "markdown",
   "metadata": {},
   "source": [
    "Let's start by implementing a function that computes the counts of n-grams for an arbitrary number n.\n",
    "- Prepend necessary starting markers `<s>` to indicate the beginning of the sentence. In the case of a bi-gram model, you need to prepend two start tokens `<s><s>` to be able to predict the first word. \"hello world\"-> \"`<s><s>`hello world\".\n",
    "- Append an end token `<e>` so that the model can predict when to finish a sentence.\n",
    "- Create a dictionary to store all the n_gram counts."
   ]
  },
  {
   "cell_type": "code",
   "execution_count": null,
   "metadata": {},
   "outputs": [],
   "source": [
    "def n_grams_counts(corpus, n):\n",
    "    \"\"\"\n",
    "    Count all n-grams in the corpus given the parameter n \n",
    "    \n",
    "    data: List of lists of words (your tokenized corpus)\n",
    "    n: n in the n-gram\n",
    "    \n",
    "    Returns: A dictionary that maps a tuple of n words to its frequency\n",
    "    \"\"\"\n",
    "    start_token='<s>'\n",
    "    end_token = '<e>'\n",
    "    n_grams = defaultdict(int)\n",
    "    for sentence in corpus: \n",
    "        sentence = ### add start and end token ###\n",
    "        # convert list to tuple so it can be used a the key in the dictionary \n",
    "        sentence = tuple(sentence)\n",
    "        \n",
    "        ###iterate over the n-grams in the sentence, you can use the range() function, and increament the counts in the\n",
    "        ## n_grams dictionary, where the key is the n_gram and the value is count \n",
    "    return n_grams"
   ]
  },
  {
   "cell_type": "markdown",
   "metadata": {},
   "source": [
    "The next step is to estimate the probability of a word given the prior n words using the n-gram counts, based on the formula given at the beginning of this task. To deal with the problem of zero division we add k-smoothing. K-smoothing adds a positive constant $k$ to each numerator and $k \\times |vocabulary size|$ in the denominator. Below we will define a function that takes in a dictionary `n_gram_cnt`, where the key is the n-gram, and the value is the count of that n-gram, plus a dictionary for `plus_current_gram_cnt`, which you'll use to find the count for the previous n-gram plus the current word. Notice that these dictionaries are computed using the previous function `n_grams_counts`.\n"
   ]
  },
  {
   "cell_type": "code",
   "execution_count": null,
   "metadata": {},
   "outputs": [],
   "source": [
    "def probability(word, prev_n_gram, \n",
    "                         n_gram_cnts, n_plus1_gram_cnts, vocab_size):\n",
    "    \"\"\"\n",
    "    Estimate the probabilities of a next word using the n-gram counts with k-smoothing\n",
    "    word: next word\n",
    "    prev_n_gram: previous n gram\n",
    "    n_gram_cnts: dictionary of counts of n-grams\n",
    "    plus_current_gram_cnts: dictionary of counts of (n+1)-grams -> current word+ n-gram = (n+1)-gram\n",
    "    vocab_size: number of words in the vocabulary\n",
    "    \n",
    "    Returns: A probability\n",
    "    \"\"\"\n",
    "    k=1.0\n",
    "    prev_n_gram = tuple(prev_n_gram)\n",
    "    \n",
    "    prev_n_gram_cnt =  # get the previous n-gram count from the dictionary \n",
    "    denominator = # denominator with the previous n-gram count and k-smoothing\n",
    "    n_plus1_gram =  # add the current word to the n-gram \n",
    "    n_plus1_gram_cnt =  # get the current n-gram count using the dictionary\n",
    "    numerator = #calculate the numerator with k-smoothing\n",
    "    prob =\n",
    "    \n",
    "    return prob"
   ]
  },
  {
   "cell_type": "markdown",
   "metadata": {},
   "source": [
    "Let's use the functions we have defined to calculate probabilities for all possible words.\n"
   ]
  },
  {
   "cell_type": "code",
   "execution_count": null,
   "metadata": {},
   "outputs": [],
   "source": [
    "def probabilities(prev_n_gram, n_gram_cnts, plus_current_gram_cnts, vocab):\n",
    "    \"\"\"\n",
    "    Estimate the probabilities for all the words in the vocabulary given the previous n-gram \n",
    "    prev_n_gram: previous n-gram\n",
    "    n_gram_cnts: dictionary of counts of n-grams\n",
    "    plus_current_gram_cntsplus_current_gram_cnt: dictionary of counts of (n+1)-grams -> current word+ n-gram = (n+1)-gram\n",
    "    vocab: List of words\n",
    "    \n",
    "    Returns: A dictionary mapping from next words to the probability.\n",
    "    \"\"\"\n",
    "    prev_n_gram = tuple(prev_n_gram)\n",
    "    \n",
    "    vocab =  # add <e> <unk> to the vocabulary\n",
    "    vocabulary_size = #compute the size \n",
    "    \n",
    "    probabilities = {}\n",
    "    for word in vocab:\n",
    "        ### compute the probability \n",
    "    return probabilities"
   ]
  },
  {
   "cell_type": "code",
   "execution_count": null,
   "metadata": {},
   "outputs": [],
   "source": [
    "# Predict the probability of the all possible words after the unigram \"the\"\n",
    "sentences = [['the', 'moon', 'and', 'stars', 'are','shining','bright'],\n",
    "             ['the', 'moon', 'is', 'shinnig','tonight'],\n",
    "             ['mars','and' ,'moon', 'are', 'plants'],\n",
    "             ['the' ,'moon', 'is','a', 'plant']]\n",
    "unique_words = list(set(sentences[0] + sentences[1] + sentences[2]+ sentences[3]))\n",
    "unigram_counts = n_grams_counts(sentences, 1)\n",
    "bigram_counts = n_grams_counts(sentences, 2)\n",
    "print(\"The word 'moon' should have the highest probability, if it is not the case, re-visit your previous functions.\")\n",
    "probabilities([\"the\"], unigram_counts, bigram_counts, unique_words)"
   ]
  },
  {
   "cell_type": "markdown",
   "metadata": {},
   "source": [
    "## Sub Task 3: Evaluation "
   ]
  },
  {
   "cell_type": "markdown",
   "metadata": {},
   "source": [
    "In this section we use the perplexity score to evaluate your model on the test set.\n",
    "the perplexity score of the test set on an n-gram model, is denoted as follows: \n",
    "\n",
    "$$ PP(W) =\\sqrt[N]{ \\prod_{t=n}^{N-1} \\frac{1}{P(w_t | w_{t-n} \\cdots w_{t-1})} } $$\n",
    "- where $N$ is the length of the sentence. ($N-1$ is used because in the code we start from the index 0).\n",
    "- $n$ is the number of words in the n-gram.\n",
    "\n",
    "Notice that we have already computed this probability. \n",
    "\n",
    "The higher the probabilities are, the lower the perplexity will be. "
   ]
  },
  {
   "cell_type": "code",
   "execution_count": null,
   "metadata": {},
   "outputs": [],
   "source": [
    "def perplexity(sentence, n_gram_cnts, plus_current_gram_cnts, vocab_size, k=1.0):\n",
    "    \"\"\"\n",
    "    Calculate perplexity for a list of sentences\n",
    "    sentence: List of strings\n",
    "    n_gram_cnts: dictionary of counts of n-grams\n",
    "    plus_current_gram_cnts: dictionary of counts of (n+1)-grams -> current word+ n-gram = (n+1)-gram\n",
    "    vocab_size: number of unique words in the vocabulary\n",
    "    k: positive smoothing constant\n",
    "    \n",
    "    Returns: Perplexity score for a single sentence \n",
    "    \"\"\"\n",
    "    \n",
    "    n =  # get the number 'n' in  n-gram  from n_gram_cnts  \n",
    "    \n",
    "    sentence =  # prepend <s> and append <e>\n",
    "    sentence = tuple(sentence)\n",
    "    N =# length of sentence \n",
    "    \n",
    "   \n",
    "    product_pi = 1.0 \n",
    "    \n",
    "    ### Compute the product of probabilites ###\n",
    "    \n",
    "    for t in range(n, N): \n",
    "        n_gram =# get the n-gram before the predicted word (n-gram before t )\n",
    "        word =  # get the word to be predicted (position t)\n",
    "        prob = probability(\n",
    "        product_pi *= # Update the product of the probabilities\n",
    "    \n",
    "    perplexity = product_pi**(1/float(N)) # Take the Nth root of the product\n",
    "    return perplexity"
   ]
  },
  {
   "cell_type": "markdown",
   "metadata": {},
   "source": [
    "Use the function to find the perplexity of a bi-gram model on the first instance of training and test set."
   ]
  },
  {
   "cell_type": "code",
   "execution_count": null,
   "metadata": {},
   "outputs": [],
   "source": [
    "bigram_counts = ### your code ###\n",
    "trigram_counts = ### your code ###\n",
    "\n",
    "perplexity_train = perplexity(train_replaced[0],bigram_counts, trigram_counts,len(vocab))\n",
    "print(f\"Perplexity for first train sample: {perplexity_train:.4f}\")\n",
    "\n",
    "perplexity_test = perplexity(test_replaced[0],bigram_counts, trigram_counts,len(vocab))\n",
    "print(f\"Perplexity for test sample: {perplexity_test:.4f}\")# the preprexity for the train sample should be much lower "
   ]
  },
  {
   "cell_type": "markdown",
   "metadata": {},
   "source": [
    "Finally, let's use the model we created to generate an auto-complete system that makes suggestions."
   ]
  },
  {
   "cell_type": "code",
   "execution_count": null,
   "metadata": {},
   "outputs": [],
   "source": [
    "def suggest_a_word(up_to_here, n_gram_cnts, plus_current_gram_cnts, vocab , start_with=None):\n",
    "    \"\"\"\n",
    "    Get suggestion for the next word\n",
    "    up_to_here: the sentence so far, must have length > n \n",
    "    n_gram_cnts: dictionary of counts of n-grams\n",
    "    plus_current_gram_cnts: dictionary of counts of (n+1)-grams -> current word+ n-gram = (n+1)-gram\n",
    "    vocab: List of words\n",
    "    start_with: If not None, specifies the first few letters of the next word\n",
    "        \n",
    "    Returns: (most likely next word,  probability) \n",
    "    \"\"\"    \n",
    "    n = len(list(n_gram_cnts.keys())[0]) # get the number 'n' in  n-gram  from n_gram_cnts     \n",
    "    previous_n_gram = previous_tokens[-n:] # get the last 'n' words as the previous n-gram from the input sentence\n",
    "\n",
    "    \n",
    "    probabs = # Estimate the probabilities for each word in the vocabulary\n",
    "    \n",
    "    probabs = \n",
    "    ### sort the probability for higher to lower and return the highest probability word,probability tuple\n",
    "    #if start_with is specified then return the highest probability word that starts with that specific character \n"
   ]
  },
  {
   "cell_type": "markdown",
   "metadata": {},
   "source": [
    "Test your model based on the bi-gram model created on the training corpus."
   ]
  },
  {
   "cell_type": "code",
   "execution_count": null,
   "metadata": {},
   "outputs": [],
   "source": [
    "previous_tokens=['i','like']\n",
    "start_with='g'\n",
    "suggestion = suggest_a_word(previous_tokens, bigram_counts,trigram_counts, list(vocab),start_with=start_with)\n",
    "suggestion"
   ]
  },
  {
   "cell_type": "code",
   "execution_count": null,
   "metadata": {},
   "outputs": [],
   "source": [
    "previous_tokens=['i','like','to']\n",
    "start_with=None\n",
    "suggestion = suggest_a_word(previous_tokens, bigram_counts,trigram_counts, list(vocab),start_with=start_with)\n",
    "suggestion"
   ]
  },
  {
   "cell_type": "code",
   "execution_count": null,
   "metadata": {},
   "outputs": [],
   "source": [
    "previous_tokens=[\"hello\", \"my\", \"name\", \"is\"]\n",
    "start_with=None\n",
    "suggestion = suggest_a_word(previous_tokens, bigram_counts,trigram_counts, list(vocab),start_with=start_with)\n",
    "suggestion"
   ]
  },
  {
   "cell_type": "code",
   "execution_count": null,
   "metadata": {},
   "outputs": [],
   "source": [
    "previous_tokens=[\"hello\", \"my\", \"name\", \"is\"]\n",
    "start_with='sa'\n",
    "suggestion = suggest_a_word(previous_tokens, bigram_counts,trigram_counts, list(vocab),start_with=start_with)\n",
    "suggestion"
   ]
  },
  {
   "cell_type": "markdown",
   "metadata": {},
   "source": [
    "## Task 4: Theoretical Questions ( 1 +1 +1 +1 + 1 = 5 Points) \n"
   ]
  },
  {
   "cell_type": "markdown",
   "metadata": {},
   "source": [
    "Please answer the following questions in the notebook cells using markdown, try to be percise and short. "
   ]
  },
  {
   "cell_type": "markdown",
   "metadata": {},
   "source": [
    "### Sub Task 1: What is the goal of Word2Veec? / What is a word embedding?"
   ]
  },
  {
   "cell_type": "markdown",
   "metadata": {},
   "source": []
  },
  {
   "cell_type": "markdown",
   "metadata": {},
   "source": [
    "<<< your answer >>>"
   ]
  },
  {
   "cell_type": "markdown",
   "metadata": {},
   "source": [
    "### Sub Task 2: For gradient descent, what advantage has a decaying learning rate?"
   ]
  },
  {
   "cell_type": "markdown",
   "metadata": {},
   "source": []
  },
  {
   "cell_type": "markdown",
   "metadata": {},
   "source": [
    "<<< your answer >>>"
   ]
  },
  {
   "cell_type": "markdown",
   "metadata": {},
   "source": [
    "### Sub Task 3: Why is it easier to maximize the log likelihood instead of the \"normal\" likelihood?"
   ]
  },
  {
   "cell_type": "markdown",
   "metadata": {},
   "source": []
  },
  {
   "cell_type": "markdown",
   "metadata": {},
   "source": [
    "<<< your answer >>>"
   ]
  },
  {
   "cell_type": "markdown",
   "metadata": {},
   "source": [
    "### Sub Task 4: Word2Vec trains a complete neural network. How do we extract word embeddings from this network?"
   ]
  },
  {
   "cell_type": "markdown",
   "metadata": {},
   "source": []
  },
  {
   "cell_type": "markdown",
   "metadata": {},
   "source": [
    "<<< your answer >>>\n"
   ]
  },
  {
   "cell_type": "markdown",
   "metadata": {},
   "source": [
    "### Sub Task 5: What advantages has fastText over Word2Vec? "
   ]
  },
  {
   "cell_type": "markdown",
   "metadata": {},
   "source": []
  },
  {
   "cell_type": "markdown",
   "metadata": {},
   "source": [
    "<<< your answer >>>\n"
   ]
  },
  {
   "cell_type": "code",
   "execution_count": null,
   "metadata": {},
   "outputs": [],
   "source": []
  }
 ],
 "metadata": {
  "kernelspec": {
   "display_name": "Python 3",
   "language": "python",
   "name": "python3"
  },
  "language_info": {
   "codemirror_mode": {
    "name": "ipython",
    "version": 3
   },
   "file_extension": ".py",
   "mimetype": "text/x-python",
   "name": "python",
   "nbconvert_exporter": "python",
   "pygments_lexer": "ipython3",
   "version": "3.7.9"
  }
 },
 "nbformat": 4,
 "nbformat_minor": 2
}
