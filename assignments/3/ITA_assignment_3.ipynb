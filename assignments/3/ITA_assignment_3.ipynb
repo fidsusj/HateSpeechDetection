{
 "cells": [
  {
   "cell_type": "markdown",
   "metadata": {},
   "source": [
    "# Assignment 3 : \"Word Vectors and Classification\"\n",
    "Due: Monday 2pm, Feburary 1, 2021, via Moodle\n",
    "\n",
    "Group 4: Christopher Klammt, Nils Krehl, Felix Hausberger"
   ]
  },
  {
   "cell_type": "markdown",
   "metadata": {},
   "source": [
    "### Submission guidelines\n",
    "\n",
    "- Solutions need to be uploaded as a single Jupyter notebook. You will find many provided codes in the notebook, your task is to fill in the missing cells.\n",
    "- For the written solution, use LaTeX in markdown inside the same notebook. Do *not* hand in a separate file for it.\n",
    "- Download the .zip file containing the dataset but do *not* upload it with your solution.\n",
    "- It is sufficient if one person per group uploads the solution to Moodle, but make sure that the names of\n",
    "all team members are given in the notebook."
   ]
  },
  {
   "cell_type": "markdown",
   "metadata": {},
   "source": [
    "### TODO\n",
    "\n",
    "- 1.3: w2v.wv.most_similar(positive=[\"rachel\", \"man\"], negative=[\"women\"], topn=3)\n",
    "- 2.1: Diagram\n",
    "- 3.2: Why prepend \\<s>\\<s>?\n",
    "- 4: FastText advantages"
   ]
  },
  {
   "cell_type": "markdown",
   "metadata": {},
   "source": [
    "--------"
   ]
  },
  {
   "cell_type": "markdown",
   "metadata": {},
   "source": [
    "## Task 1: F.R.I.E.N.D.S and  Word2Vec ( 3+ 2 + 3 = 8 points) "
   ]
  },
  {
   "cell_type": "markdown",
   "metadata": {},
   "source": [
    "Friends is an American television sitcom, created by David Crane and Marta Kauffman. In this assignment we will use the transcripts from the show to train a Word2Vec model using the Gensim library."
   ]
  },
  {
   "cell_type": "markdown",
   "metadata": {},
   "source": [
    "### Subtask 1: Pre-processing \n",
    "We start by loading and cleaning the data. Download the dataset for this assignment and load the `friends_quotes.csv` using pandas. The dataset is from Kaggle (https://www.kaggle.com/ryanstonebraker/friends-transcript) and is created for building a classifier that could determine which friend from the Friend's TV Show would be most likely to say a quote. The column `quote` contains the line from the movie and `author` is the one who spoke it. Since these are the only two columns we need, we remove the rest and only keep these two. "
   ]
  },
  {
   "cell_type": "code",
   "execution_count": 56,
   "metadata": {
    "pycharm": {
     "is_executing": false
    }
   },
   "outputs": [],
   "source": [
    "import re  \n",
    "import pandas as pd  \n",
    "from collections import defaultdict  \n",
    "import spacy \n",
    "import logging  # Setting up the loggings to monitor gensim\n",
    "logging.basicConfig(format=\"%(levelname)s - %(asctime)s: %(message)s\", datefmt= '%H:%M:%S', level=logging.INFO)"
   ]
  },
  {
   "cell_type": "code",
   "execution_count": 57,
   "metadata": {
    "pycharm": {
     "is_executing": false
    }
   },
   "outputs": [
    {
     "data": {
      "text/html": [
       "<div>\n",
       "<style scoped>\n",
       "    .dataframe tbody tr th:only-of-type {\n",
       "        vertical-align: middle;\n",
       "    }\n",
       "\n",
       "    .dataframe tbody tr th {\n",
       "        vertical-align: top;\n",
       "    }\n",
       "\n",
       "    .dataframe thead th {\n",
       "        text-align: right;\n",
       "    }\n",
       "</style>\n",
       "<table border=\"1\" class=\"dataframe\">\n",
       "  <thead>\n",
       "    <tr style=\"text-align: right;\">\n",
       "      <th></th>\n",
       "      <th>author</th>\n",
       "      <th>quote</th>\n",
       "    </tr>\n",
       "  </thead>\n",
       "  <tbody>\n",
       "    <tr>\n",
       "      <th>0</th>\n",
       "      <td>Monica</td>\n",
       "      <td>There's nothing to tell! He's just some guy I ...</td>\n",
       "    </tr>\n",
       "    <tr>\n",
       "      <th>1</th>\n",
       "      <td>Joey</td>\n",
       "      <td>C'mon, you're going out with the guy! There's ...</td>\n",
       "    </tr>\n",
       "    <tr>\n",
       "      <th>2</th>\n",
       "      <td>Chandler</td>\n",
       "      <td>All right Joey, be nice. So does he have a hum...</td>\n",
       "    </tr>\n",
       "    <tr>\n",
       "      <th>3</th>\n",
       "      <td>Phoebe</td>\n",
       "      <td>Wait, does he eat chalk?</td>\n",
       "    </tr>\n",
       "    <tr>\n",
       "      <th>4</th>\n",
       "      <td>Phoebe</td>\n",
       "      <td>Just, 'cause, I don't want her to go through w...</td>\n",
       "    </tr>\n",
       "  </tbody>\n",
       "</table>\n",
       "</div>"
      ],
      "text/plain": [
       "     author                                              quote\n",
       "0    Monica  There's nothing to tell! He's just some guy I ...\n",
       "1      Joey  C'mon, you're going out with the guy! There's ...\n",
       "2  Chandler  All right Joey, be nice. So does he have a hum...\n",
       "3    Phoebe                           Wait, does he eat chalk?\n",
       "4    Phoebe  Just, 'cause, I don't want her to go through w..."
      ]
     },
     "execution_count": 57,
     "metadata": {},
     "output_type": "execute_result"
    }
   ],
   "source": [
    "df = pd.read_csv(\"data/friends_quotes.csv\") \n",
    "df.drop(['episode_number', 'episode_title', 'quote_order', 'season'], axis=1, inplace=True)\n",
    "df.head()"
   ]
  },
  {
   "cell_type": "markdown",
   "metadata": {},
   "source": [
    "Fortunately, there is no missing data, so we do not need to worry about that. "
   ]
  },
  {
   "cell_type": "code",
   "execution_count": 58,
   "metadata": {
    "pycharm": {
     "is_executing": false
    }
   },
   "outputs": [
    {
     "data": {
      "text/plain": [
       "author    0\n",
       "quote     0\n",
       "dtype: int64"
      ]
     },
     "execution_count": 58,
     "metadata": {},
     "output_type": "execute_result"
    }
   ],
   "source": [
    "df.isnull().sum() # check for missing data"
   ]
  },
  {
   "cell_type": "markdown",
   "metadata": {},
   "source": [
    "use SpaCy similar to assignment 2 to pre-process the text, perform the following steps: \n",
    "- lowercase the words \n",
    "- remove the stopwords and single characters\n",
    "- use regex to remove non-alphabetic characters (anything that is not a number or alphabet including punctuations), in other words only keep \"a\" to \"z\" and digits. \n",
    "- remove lines that have less than 3 words, since they cannot contribute much to the training process.\n",
    "\n",
    "Please do not add additional steps on your own or additional cleaning, we want to create comparable results. "
   ]
  },
  {
   "cell_type": "code",
   "execution_count": 59,
   "metadata": {
    "pycharm": {
     "is_executing": false
    }
   },
   "outputs": [
    {
     "data": {
      "text/html": [
       "<div>\n",
       "<style scoped>\n",
       "    .dataframe tbody tr th:only-of-type {\n",
       "        vertical-align: middle;\n",
       "    }\n",
       "\n",
       "    .dataframe tbody tr th {\n",
       "        vertical-align: top;\n",
       "    }\n",
       "\n",
       "    .dataframe thead th {\n",
       "        text-align: right;\n",
       "    }\n",
       "</style>\n",
       "<table border=\"1\" class=\"dataframe\">\n",
       "  <thead>\n",
       "    <tr style=\"text-align: right;\">\n",
       "      <th></th>\n",
       "      <th>author</th>\n",
       "      <th>quote</th>\n",
       "    </tr>\n",
       "  </thead>\n",
       "  <tbody>\n",
       "    <tr>\n",
       "      <th>0</th>\n",
       "      <td>Monica</td>\n",
       "      <td>tell guy work</td>\n",
       "    </tr>\n",
       "    <tr>\n",
       "      <th>1</th>\n",
       "      <td>Joey</td>\n",
       "      <td>mon going guy gotta wrong</td>\n",
       "    </tr>\n",
       "    <tr>\n",
       "      <th>2</th>\n",
       "      <td>Chandler</td>\n",
       "      <td>right joey nice hump hump hairpiece</td>\n",
       "    </tr>\n",
       "    <tr>\n",
       "      <th>3</th>\n",
       "      <td>Phoebe</td>\n",
       "      <td>wait eat chalk</td>\n",
       "    </tr>\n",
       "    <tr>\n",
       "      <th>4</th>\n",
       "      <td>Phoebe</td>\n",
       "      <td>cause don want went carl oh</td>\n",
       "    </tr>\n",
       "  </tbody>\n",
       "</table>\n",
       "</div>"
      ],
      "text/plain": [
       "     author                                quote\n",
       "0    Monica                        tell guy work\n",
       "1      Joey            mon going guy gotta wrong\n",
       "2  Chandler  right joey nice hump hump hairpiece\n",
       "3    Phoebe                       wait eat chalk\n",
       "4    Phoebe          cause don want went carl oh"
      ]
     },
     "execution_count": 59,
     "metadata": {},
     "output_type": "execute_result"
    }
   ],
   "source": [
    "nlp = spacy.load(\"en_core_web_sm\", disable=[\"tagger\", \"parser\",\"ner\"])\n",
    "stopwords = spacy.lang.en.stop_words.STOP_WORDS # only use these stop words, do not add your own! \n",
    "\n",
    "# Lowercase the words\n",
    "df[\"quote\"] = df[\"quote\"].str.lower()\n",
    "\n",
    "# Use regex to remove non-alphabetic characters\n",
    "df[\"quote\"] = df[\"quote\"].str.replace('[^a-zA-Z0-9 ]', ' ')\n",
    "\n",
    "# Remove the stopwords and single characters\n",
    "def remove_stopwords_and_single_characters(words):\n",
    "    return [word for word in words if not word in stopwords and len(word) > 1]\n",
    "df[\"quote\"] = df[\"quote\"].apply(lambda quote: \" \".join(remove_stopwords_and_single_characters(quote.split())))\n",
    "\n",
    "# Remove lines that have less than 3 words                               \n",
    "df.drop(df[df['quote'].apply(lambda sentence: len(sentence.split()) < 3)].index, inplace=True)               \n",
    "\n",
    "# To save all the lines                                 \n",
    "quotes = df[\"quote\"].tolist()\n",
    "        \n",
    "df.head()"
   ]
  },
  {
   "cell_type": "markdown",
   "metadata": {},
   "source": [
    "The next step is to build the vocabulary of the words and word combinations we want to learn representations from. We choose a subset of the most frequent words and bigrams to represent our corpus.\n",
    "- use the Gensim Phrases package to automatically detect common phrases (bigrams) from a list of lines from the previous step (`min_count=10`). Now words like New_York will be considered as one entity and character names like joey_tribbiani will be recognized.\n",
    "- create a list of words/bigrams with their frequencies and choose the top 15.000 words for the vocabulary, to keep the computation time-limited and choose the most important words."
   ]
  },
  {
   "cell_type": "code",
   "execution_count": 60,
   "metadata": {
    "pycharm": {
     "is_executing": false
    }
   },
   "outputs": [
    {
     "name": "stderr",
     "output_type": "stream",
     "text": [
      "INFO - 14:04:16: collecting all words and their counts\n",
      "INFO - 14:04:16: PROGRESS: at sentence #0, processed 0 words and 0 word types\n",
      "INFO - 14:04:16: PROGRESS: at sentence #10000, processed 72648 words and 54395 word types\n",
      "INFO - 14:04:16: PROGRESS: at sentence #20000, processed 146557 words and 95968 word types\n",
      "INFO - 14:04:16: PROGRESS: at sentence #30000, processed 219682 words and 132492 word types\n",
      "INFO - 14:04:16: collected 159721 word types from a corpus of 273450 words (unigram + bigrams) and 37477 sentences\n",
      "INFO - 14:04:16: using 159721 counts as vocab in Phrases<0 vocab, min_count=10, threshold=10.0, max_vocab_size=40000000>\n",
      "INFO - 14:04:16: source_vocab length 159721\n",
      "INFO - 14:04:18: Phraser built with 199 phrasegrams\n"
     ]
    },
    {
     "name": "stdout",
     "output_type": "stream",
     "text": [
      "['know', 'oh', 'okay', 'don', 'yeah', 'right', 'like', 'hey', 'gonna', 'ross']\n"
     ]
    }
   ],
   "source": [
    "from collections import Counter\n",
    "from gensim.models.phrases import Phrases, Phraser\n",
    "sent = [quote.split() for quote in quotes] # list of all words\n",
    "phrases = Phraser(Phrases(sent, min_count=10)) # define the phraser for bi-gram creation\n",
    "new_lines = phrases[sent] #transform the lines\n",
    "\n",
    "assert 'new_york' in new_lines[969]\n",
    "assert 'joey_tribbiani' in new_lines[934]\n",
    "\n",
    "# find the top words for the vocabulary\n",
    "flatten = lambda t: [item for sublist in t for item in sublist]\n",
    "vocab = [word for word, count in Counter(flatten(new_lines)).most_common(15000)] # top words\n",
    "print(vocab[:10])"
   ]
  },
  {
   "cell_type": "markdown",
   "metadata": {},
   "source": [
    "### Subtask 2: Training The Model\n"
   ]
  },
  {
   "cell_type": "markdown",
   "metadata": {},
   "source": [
    "Use Gensim the implementation of Word2Vec to train a model on the scripts. The training can be divided into 3 stages:\n",
    "\n",
    "\n",
    "1) Set up your model with parameters, define your parameters in such a way that the following conditions are satisfied:\n",
    " - ignores all words that have a total absolute frequency less than 2.\n",
    " - dimensions of the embeddings: 100 \n",
    " - initial learning rate of 0.03 \n",
    " - 20 negative samples \n",
    " - window size 3 \n",
    " - learning rate in the training will decrease as you apply more and more updates. Most of the time when starting with gradient descent the initial steps can be larger, and as we get close to the local minima it is best to use smaller steps to avoid jumping over the local minima. This adjustment is done internally using a learning rate scheduler. Make sure that the smallest learning rate does not go below 0.0001.\n",
    " - set the threshold for configuring which higher-frequency words are randomly down-sampled to 6e-5. This parameter forces the sampling to choose the very frequent words less often in the sampling.\n",
    " - set the hashfunction of the word2vec to the given function.\n",
    " - train on a single worker to make sure you get the same result as ours."
   ]
  },
  {
   "cell_type": "code",
   "execution_count": 61,
   "metadata": {
    "pycharm": {
     "is_executing": false
    }
   },
   "outputs": [],
   "source": [
    "from gensim.models import Word2Vec\n",
    "def hash(astring):\n",
    "    return ord(astring[0])"
   ]
  },
  {
   "cell_type": "code",
   "execution_count": 62,
   "metadata": {
    "pycharm": {
     "is_executing": false
    }
   },
   "outputs": [],
   "source": [
    "w2v = Word2Vec(min_count=2, \n",
    "               size=100, \n",
    "               alpha=0.03, \n",
    "               negative=20, \n",
    "               window=3, \n",
    "               min_alpha=0.0001, \n",
    "               sample=6e-5, \n",
    "               hashfxn=hash, \n",
    "               workers=1)"
   ]
  },
  {
   "cell_type": "markdown",
   "metadata": {},
   "source": [
    "2) before training, Word2Vec requires us to build the vocabulary table by filtering out the unique words and doing some basic counts on them.\n",
    "If you look at the logs you can see the effect of `min_count` and `sample` on the word corpus. Use the `build_vocab` function to process the data."
   ]
  },
  {
   "cell_type": "code",
   "execution_count": 63,
   "metadata": {
    "pycharm": {
     "is_executing": false
    }
   },
   "outputs": [
    {
     "name": "stderr",
     "output_type": "stream",
     "text": [
      "INFO - 14:04:19: collecting all words and their counts\n",
      "INFO - 14:04:19: PROGRESS: at sentence #0, processed 0 words, keeping 0 word types\n",
      "INFO - 14:04:20: PROGRESS: at sentence #10000, processed 70673 words, keeping 8526 word types\n",
      "INFO - 14:04:20: PROGRESS: at sentence #20000, processed 142473 words, keeping 11622 word types\n",
      "INFO - 14:04:20: PROGRESS: at sentence #30000, processed 213399 words, keeping 13830 word types\n",
      "INFO - 14:04:20: collected 15749 word types from a corpus of 265793 raw words and 37477 sentences\n",
      "INFO - 14:04:20: Loading a fresh vocabulary\n",
      "INFO - 14:04:20: effective_min_count=2 retains 9237 unique words (58% of original 15749, drops 6512)\n",
      "INFO - 14:04:20: effective_min_count=2 leaves 259281 word corpus (97% of original 265793, drops 6512)\n",
      "INFO - 14:04:20: deleting the raw counts dictionary of 15749 items\n",
      "INFO - 14:04:20: sample=6e-05 downsamples 952 most-common words\n",
      "INFO - 14:04:20: downsampling leaves estimated 120272 word corpus (46.4% of prior 259281)\n",
      "INFO - 14:04:20: estimated required memory for 9237 words and 100 dimensions: 12008100 bytes\n",
      "INFO - 14:04:20: resetting layer weights\n"
     ]
    }
   ],
   "source": [
    "w2v.build_vocab(new_lines)"
   ]
  },
  {
   "cell_type": "markdown",
   "metadata": {},
   "source": [
    "3) Finally, we get to train the model. Train the model for 100 epochs. This will take a while. As we do not plan to train the model any further, we call `init_sims()`, which will make the model much more memory-efficient by precomputing L2-norms of word weight vectors for further analysis. "
   ]
  },
  {
   "cell_type": "code",
   "execution_count": 64,
   "metadata": {
    "pycharm": {
     "is_executing": false
    }
   },
   "outputs": [
    {
     "name": "stderr",
     "output_type": "stream",
     "text": [
      "INFO - 14:04:22: training model with 1 workers on 9237 vocabulary and 100 features, using sg=0 hs=0 sample=6e-05 negative=20 window=3\n",
      "INFO - 14:04:22: worker thread finished; awaiting finish of 0 more threads\n",
      "INFO - 14:04:22: EPOCH - 1 : training on 265793 raw words (120327 effective words) took 0.7s, 161854 effective words/s\n",
      "INFO - 14:04:23: worker thread finished; awaiting finish of 0 more threads\n",
      "INFO - 14:04:23: EPOCH - 2 : training on 265793 raw words (120097 effective words) took 0.7s, 160705 effective words/s\n",
      "INFO - 14:04:24: worker thread finished; awaiting finish of 0 more threads\n",
      "INFO - 14:04:24: EPOCH - 3 : training on 265793 raw words (120153 effective words) took 0.7s, 164035 effective words/s\n",
      "INFO - 14:04:25: worker thread finished; awaiting finish of 0 more threads\n",
      "INFO - 14:04:25: EPOCH - 4 : training on 265793 raw words (120330 effective words) took 0.7s, 164208 effective words/s\n",
      "INFO - 14:04:25: worker thread finished; awaiting finish of 0 more threads\n",
      "INFO - 14:04:25: EPOCH - 5 : training on 265793 raw words (120162 effective words) took 0.7s, 164924 effective words/s\n",
      "INFO - 14:04:26: worker thread finished; awaiting finish of 0 more threads\n",
      "INFO - 14:04:26: EPOCH - 6 : training on 265793 raw words (120336 effective words) took 0.8s, 156040 effective words/s\n",
      "INFO - 14:04:27: worker thread finished; awaiting finish of 0 more threads\n",
      "INFO - 14:04:27: EPOCH - 7 : training on 265793 raw words (120525 effective words) took 0.8s, 160391 effective words/s\n",
      "INFO - 14:04:28: worker thread finished; awaiting finish of 0 more threads\n",
      "INFO - 14:04:28: EPOCH - 8 : training on 265793 raw words (120437 effective words) took 0.7s, 161086 effective words/s\n",
      "INFO - 14:04:28: worker thread finished; awaiting finish of 0 more threads\n",
      "INFO - 14:04:28: EPOCH - 9 : training on 265793 raw words (120223 effective words) took 0.7s, 163961 effective words/s\n",
      "INFO - 14:04:29: worker thread finished; awaiting finish of 0 more threads\n",
      "INFO - 14:04:29: EPOCH - 10 : training on 265793 raw words (120316 effective words) took 0.7s, 160557 effective words/s\n",
      "INFO - 14:04:30: EPOCH 11 - PROGRESS: at 78.70% examples, 92342 words/s, in_qsize 0, out_qsize 0\n",
      "INFO - 14:04:30: worker thread finished; awaiting finish of 0 more threads\n",
      "INFO - 14:04:30: EPOCH - 11 : training on 265793 raw words (120450 effective words) took 1.2s, 101299 effective words/s\n",
      "INFO - 14:04:31: worker thread finished; awaiting finish of 0 more threads\n",
      "INFO - 14:04:31: EPOCH - 12 : training on 265793 raw words (120260 effective words) took 0.7s, 161905 effective words/s\n",
      "INFO - 14:04:32: worker thread finished; awaiting finish of 0 more threads\n",
      "INFO - 14:04:32: EPOCH - 13 : training on 265793 raw words (120271 effective words) took 0.7s, 162263 effective words/s\n",
      "INFO - 14:04:33: worker thread finished; awaiting finish of 0 more threads\n",
      "INFO - 14:04:33: EPOCH - 14 : training on 265793 raw words (120413 effective words) took 0.7s, 161882 effective words/s\n",
      "INFO - 14:04:33: worker thread finished; awaiting finish of 0 more threads\n",
      "INFO - 14:04:33: EPOCH - 15 : training on 265793 raw words (119994 effective words) took 0.7s, 163742 effective words/s\n",
      "INFO - 14:04:34: worker thread finished; awaiting finish of 0 more threads\n",
      "INFO - 14:04:34: EPOCH - 16 : training on 265793 raw words (120293 effective words) took 0.7s, 163895 effective words/s\n",
      "INFO - 14:04:35: worker thread finished; awaiting finish of 0 more threads\n",
      "INFO - 14:04:35: EPOCH - 17 : training on 265793 raw words (120234 effective words) took 0.7s, 161583 effective words/s\n",
      "INFO - 14:04:36: worker thread finished; awaiting finish of 0 more threads\n",
      "INFO - 14:04:36: EPOCH - 18 : training on 265793 raw words (120443 effective words) took 0.7s, 163984 effective words/s\n",
      "INFO - 14:04:36: worker thread finished; awaiting finish of 0 more threads\n",
      "INFO - 14:04:36: EPOCH - 19 : training on 265793 raw words (120014 effective words) took 0.7s, 162450 effective words/s\n",
      "INFO - 14:04:37: worker thread finished; awaiting finish of 0 more threads\n",
      "INFO - 14:04:37: EPOCH - 20 : training on 265793 raw words (120083 effective words) took 0.8s, 158629 effective words/s\n",
      "INFO - 14:04:38: worker thread finished; awaiting finish of 0 more threads\n",
      "INFO - 14:04:38: EPOCH - 21 : training on 265793 raw words (120477 effective words) took 0.7s, 163015 effective words/s\n",
      "INFO - 14:04:39: worker thread finished; awaiting finish of 0 more threads\n",
      "INFO - 14:04:39: EPOCH - 22 : training on 265793 raw words (120153 effective words) took 0.8s, 159322 effective words/s\n",
      "INFO - 14:04:39: worker thread finished; awaiting finish of 0 more threads\n",
      "INFO - 14:04:39: EPOCH - 23 : training on 265793 raw words (120387 effective words) took 0.8s, 152735 effective words/s\n",
      "INFO - 14:04:40: EPOCH 24 - PROGRESS: at 75.06% examples, 89713 words/s, in_qsize 0, out_qsize 0\n",
      "INFO - 14:04:41: worker thread finished; awaiting finish of 0 more threads\n",
      "INFO - 14:04:41: EPOCH - 24 : training on 265793 raw words (120413 effective words) took 1.2s, 99307 effective words/s\n",
      "INFO - 14:04:41: worker thread finished; awaiting finish of 0 more threads\n",
      "INFO - 14:04:41: EPOCH - 25 : training on 265793 raw words (120255 effective words) took 0.8s, 155745 effective words/s\n",
      "INFO - 14:04:42: worker thread finished; awaiting finish of 0 more threads\n",
      "INFO - 14:04:42: EPOCH - 26 : training on 265793 raw words (120238 effective words) took 0.7s, 163067 effective words/s\n",
      "INFO - 14:04:43: worker thread finished; awaiting finish of 0 more threads\n",
      "INFO - 14:04:43: EPOCH - 27 : training on 265793 raw words (120195 effective words) took 0.7s, 162783 effective words/s\n",
      "INFO - 14:04:44: worker thread finished; awaiting finish of 0 more threads\n",
      "INFO - 14:04:44: EPOCH - 28 : training on 265793 raw words (120293 effective words) took 0.8s, 160305 effective words/s\n",
      "INFO - 14:04:44: worker thread finished; awaiting finish of 0 more threads\n",
      "INFO - 14:04:44: EPOCH - 29 : training on 265793 raw words (120263 effective words) took 0.8s, 157134 effective words/s\n",
      "INFO - 14:04:45: worker thread finished; awaiting finish of 0 more threads\n",
      "INFO - 14:04:45: EPOCH - 30 : training on 265793 raw words (120032 effective words) took 0.7s, 162898 effective words/s\n",
      "INFO - 14:04:46: worker thread finished; awaiting finish of 0 more threads\n",
      "INFO - 14:04:46: EPOCH - 31 : training on 265793 raw words (120496 effective words) took 0.7s, 160819 effective words/s\n",
      "INFO - 14:04:47: worker thread finished; awaiting finish of 0 more threads\n",
      "INFO - 14:04:47: EPOCH - 32 : training on 265793 raw words (120406 effective words) took 0.8s, 154646 effective words/s\n",
      "INFO - 14:04:47: worker thread finished; awaiting finish of 0 more threads\n",
      "INFO - 14:04:47: EPOCH - 33 : training on 265793 raw words (120164 effective words) took 0.7s, 163062 effective words/s\n",
      "INFO - 14:04:48: worker thread finished; awaiting finish of 0 more threads\n",
      "INFO - 14:04:48: EPOCH - 34 : training on 265793 raw words (120291 effective words) took 0.8s, 157979 effective words/s\n",
      "INFO - 14:04:49: worker thread finished; awaiting finish of 0 more threads\n",
      "INFO - 14:04:49: EPOCH - 35 : training on 265793 raw words (120224 effective words) took 0.7s, 160485 effective words/s\n",
      "INFO - 14:04:50: worker thread finished; awaiting finish of 0 more threads\n",
      "INFO - 14:04:50: EPOCH - 36 : training on 265793 raw words (120656 effective words) took 0.8s, 159001 effective words/s\n",
      "INFO - 14:04:51: EPOCH 37 - PROGRESS: at 71.07% examples, 85107 words/s, in_qsize 1, out_qsize 0\n",
      "INFO - 14:04:51: worker thread finished; awaiting finish of 0 more threads\n",
      "INFO - 14:04:51: EPOCH - 37 : training on 265793 raw words (119885 effective words) took 1.2s, 100372 effective words/s\n",
      "INFO - 14:04:52: worker thread finished; awaiting finish of 0 more threads\n",
      "INFO - 14:04:52: EPOCH - 38 : training on 265793 raw words (120573 effective words) took 0.8s, 145700 effective words/s\n",
      "INFO - 14:04:53: worker thread finished; awaiting finish of 0 more threads\n",
      "INFO - 14:04:53: EPOCH - 39 : training on 265793 raw words (120255 effective words) took 0.8s, 141722 effective words/s\n",
      "INFO - 14:04:53: worker thread finished; awaiting finish of 0 more threads\n",
      "INFO - 14:04:53: EPOCH - 40 : training on 265793 raw words (120284 effective words) took 0.8s, 143317 effective words/s\n"
     ]
    },
    {
     "name": "stderr",
     "output_type": "stream",
     "text": [
      "INFO - 14:04:54: worker thread finished; awaiting finish of 0 more threads\n",
      "INFO - 14:04:54: EPOCH - 41 : training on 265793 raw words (119996 effective words) took 0.8s, 141777 effective words/s\n",
      "INFO - 14:04:55: worker thread finished; awaiting finish of 0 more threads\n",
      "INFO - 14:04:55: EPOCH - 42 : training on 265793 raw words (119895 effective words) took 0.8s, 143171 effective words/s\n",
      "INFO - 14:04:56: worker thread finished; awaiting finish of 0 more threads\n",
      "INFO - 14:04:56: EPOCH - 43 : training on 265793 raw words (120267 effective words) took 0.8s, 144936 effective words/s\n",
      "INFO - 14:04:57: EPOCH 44 - PROGRESS: at 78.70% examples, 92555 words/s, in_qsize 0, out_qsize 0\n",
      "INFO - 14:04:57: worker thread finished; awaiting finish of 0 more threads\n",
      "INFO - 14:04:57: EPOCH - 44 : training on 265793 raw words (120405 effective words) took 1.2s, 101821 effective words/s\n",
      "INFO - 14:04:58: worker thread finished; awaiting finish of 0 more threads\n",
      "INFO - 14:04:58: EPOCH - 45 : training on 265793 raw words (120203 effective words) took 0.8s, 144377 effective words/s\n",
      "INFO - 14:04:59: worker thread finished; awaiting finish of 0 more threads\n",
      "INFO - 14:04:59: EPOCH - 46 : training on 265793 raw words (120630 effective words) took 0.8s, 145681 effective words/s\n",
      "INFO - 14:05:00: worker thread finished; awaiting finish of 0 more threads\n",
      "INFO - 14:05:00: EPOCH - 47 : training on 265793 raw words (120549 effective words) took 0.9s, 141575 effective words/s\n",
      "INFO - 14:05:01: worker thread finished; awaiting finish of 0 more threads\n",
      "INFO - 14:05:01: EPOCH - 48 : training on 265793 raw words (120385 effective words) took 0.8s, 145977 effective words/s\n",
      "INFO - 14:05:01: worker thread finished; awaiting finish of 0 more threads\n",
      "INFO - 14:05:01: EPOCH - 49 : training on 265793 raw words (120376 effective words) took 0.9s, 135962 effective words/s\n",
      "INFO - 14:05:02: worker thread finished; awaiting finish of 0 more threads\n",
      "INFO - 14:05:02: EPOCH - 50 : training on 265793 raw words (119901 effective words) took 0.8s, 142736 effective words/s\n",
      "INFO - 14:05:03: worker thread finished; awaiting finish of 0 more threads\n",
      "INFO - 14:05:03: EPOCH - 51 : training on 265793 raw words (120198 effective words) took 0.9s, 139676 effective words/s\n",
      "INFO - 14:05:04: EPOCH 52 - PROGRESS: at 82.60% examples, 85703 words/s, in_qsize 1, out_qsize 0\n",
      "INFO - 14:05:04: worker thread finished; awaiting finish of 0 more threads\n",
      "INFO - 14:05:04: EPOCH - 52 : training on 265793 raw words (120381 effective words) took 1.3s, 93858 effective words/s\n",
      "INFO - 14:05:05: worker thread finished; awaiting finish of 0 more threads\n",
      "INFO - 14:05:05: EPOCH - 53 : training on 265793 raw words (119933 effective words) took 0.8s, 157883 effective words/s\n",
      "INFO - 14:05:06: worker thread finished; awaiting finish of 0 more threads\n",
      "INFO - 14:05:06: EPOCH - 54 : training on 265793 raw words (120287 effective words) took 0.8s, 142258 effective words/s\n",
      "INFO - 14:05:07: worker thread finished; awaiting finish of 0 more threads\n",
      "INFO - 14:05:07: EPOCH - 55 : training on 265793 raw words (120552 effective words) took 0.8s, 143631 effective words/s\n",
      "INFO - 14:05:08: worker thread finished; awaiting finish of 0 more threads\n",
      "INFO - 14:05:08: EPOCH - 56 : training on 265793 raw words (120261 effective words) took 0.8s, 143555 effective words/s\n",
      "INFO - 14:05:09: worker thread finished; awaiting finish of 0 more threads\n",
      "INFO - 14:05:09: EPOCH - 57 : training on 265793 raw words (120676 effective words) took 0.8s, 143174 effective words/s\n",
      "INFO - 14:05:09: worker thread finished; awaiting finish of 0 more threads\n",
      "INFO - 14:05:09: EPOCH - 58 : training on 265793 raw words (120023 effective words) took 0.8s, 146255 effective words/s\n",
      "INFO - 14:05:10: worker thread finished; awaiting finish of 0 more threads\n",
      "INFO - 14:05:10: EPOCH - 59 : training on 265793 raw words (120456 effective words) took 0.8s, 145918 effective words/s\n",
      "INFO - 14:05:11: EPOCH 60 - PROGRESS: at 82.60% examples, 84939 words/s, in_qsize 0, out_qsize 0\n",
      "INFO - 14:05:12: worker thread finished; awaiting finish of 0 more threads\n",
      "INFO - 14:05:12: EPOCH - 60 : training on 265793 raw words (120414 effective words) took 1.3s, 93206 effective words/s\n",
      "INFO - 14:05:12: worker thread finished; awaiting finish of 0 more threads\n",
      "INFO - 14:05:12: EPOCH - 61 : training on 265793 raw words (120417 effective words) took 0.8s, 151507 effective words/s\n",
      "INFO - 14:05:13: worker thread finished; awaiting finish of 0 more threads\n",
      "INFO - 14:05:13: EPOCH - 62 : training on 265793 raw words (120311 effective words) took 0.9s, 138268 effective words/s\n",
      "INFO - 14:05:14: worker thread finished; awaiting finish of 0 more threads\n",
      "INFO - 14:05:14: EPOCH - 63 : training on 265793 raw words (120326 effective words) took 0.8s, 142829 effective words/s\n",
      "INFO - 14:05:15: worker thread finished; awaiting finish of 0 more threads\n",
      "INFO - 14:05:15: EPOCH - 64 : training on 265793 raw words (120249 effective words) took 0.9s, 141246 effective words/s\n",
      "INFO - 14:05:16: worker thread finished; awaiting finish of 0 more threads\n",
      "INFO - 14:05:16: EPOCH - 65 : training on 265793 raw words (120400 effective words) took 0.8s, 145541 effective words/s\n",
      "INFO - 14:05:17: worker thread finished; awaiting finish of 0 more threads\n",
      "INFO - 14:05:17: EPOCH - 66 : training on 265793 raw words (120329 effective words) took 0.8s, 144086 effective words/s\n",
      "INFO - 14:05:17: worker thread finished; awaiting finish of 0 more threads\n",
      "INFO - 14:05:17: EPOCH - 67 : training on 265793 raw words (120090 effective words) took 0.8s, 143336 effective words/s\n",
      "INFO - 14:05:18: EPOCH 68 - PROGRESS: at 71.07% examples, 84092 words/s, in_qsize 0, out_qsize 0\n",
      "INFO - 14:05:19: worker thread finished; awaiting finish of 0 more threads\n",
      "INFO - 14:05:19: EPOCH - 68 : training on 265793 raw words (120085 effective words) took 1.2s, 98685 effective words/s\n",
      "INFO - 14:05:19: worker thread finished; awaiting finish of 0 more threads\n",
      "INFO - 14:05:19: EPOCH - 69 : training on 265793 raw words (120376 effective words) took 0.8s, 147088 effective words/s\n",
      "INFO - 14:05:20: worker thread finished; awaiting finish of 0 more threads\n",
      "INFO - 14:05:20: EPOCH - 70 : training on 265793 raw words (120698 effective words) took 0.8s, 148284 effective words/s\n",
      "INFO - 14:05:21: worker thread finished; awaiting finish of 0 more threads\n",
      "INFO - 14:05:21: EPOCH - 71 : training on 265793 raw words (120068 effective words) took 0.9s, 138991 effective words/s\n",
      "INFO - 14:05:22: worker thread finished; awaiting finish of 0 more threads\n",
      "INFO - 14:05:22: EPOCH - 72 : training on 265793 raw words (120081 effective words) took 0.8s, 143621 effective words/s\n",
      "INFO - 14:05:23: worker thread finished; awaiting finish of 0 more threads\n",
      "INFO - 14:05:23: EPOCH - 73 : training on 265793 raw words (120283 effective words) took 0.8s, 143976 effective words/s\n",
      "INFO - 14:05:24: worker thread finished; awaiting finish of 0 more threads\n",
      "INFO - 14:05:24: EPOCH - 74 : training on 265793 raw words (120356 effective words) took 0.8s, 144519 effective words/s\n",
      "INFO - 14:05:25: worker thread finished; awaiting finish of 0 more threads\n",
      "INFO - 14:05:25: EPOCH - 75 : training on 265793 raw words (119935 effective words) took 0.8s, 146907 effective words/s\n",
      "INFO - 14:05:26: EPOCH 76 - PROGRESS: at 78.70% examples, 92951 words/s, in_qsize 0, out_qsize 0\n",
      "INFO - 14:05:26: worker thread finished; awaiting finish of 0 more threads\n",
      "INFO - 14:05:26: EPOCH - 76 : training on 265793 raw words (120317 effective words) took 1.2s, 101038 effective words/s\n",
      "INFO - 14:05:27: worker thread finished; awaiting finish of 0 more threads\n",
      "INFO - 14:05:27: EPOCH - 77 : training on 265793 raw words (120404 effective words) took 0.8s, 145684 effective words/s\n",
      "INFO - 14:05:27: worker thread finished; awaiting finish of 0 more threads\n",
      "INFO - 14:05:27: EPOCH - 78 : training on 265793 raw words (120176 effective words) took 0.8s, 143263 effective words/s\n",
      "INFO - 14:05:28: worker thread finished; awaiting finish of 0 more threads\n",
      "INFO - 14:05:28: EPOCH - 79 : training on 265793 raw words (120343 effective words) took 0.8s, 145338 effective words/s\n",
      "INFO - 14:05:29: worker thread finished; awaiting finish of 0 more threads\n",
      "INFO - 14:05:29: EPOCH - 80 : training on 265793 raw words (120089 effective words) took 0.8s, 143502 effective words/s\n"
     ]
    },
    {
     "name": "stderr",
     "output_type": "stream",
     "text": [
      "INFO - 14:05:30: worker thread finished; awaiting finish of 0 more threads\n",
      "INFO - 14:05:30: EPOCH - 81 : training on 265793 raw words (120425 effective words) took 0.8s, 142674 effective words/s\n",
      "INFO - 14:05:31: worker thread finished; awaiting finish of 0 more threads\n",
      "INFO - 14:05:31: EPOCH - 82 : training on 265793 raw words (120028 effective words) took 0.8s, 144253 effective words/s\n",
      "INFO - 14:05:32: worker thread finished; awaiting finish of 0 more threads\n",
      "INFO - 14:05:32: EPOCH - 83 : training on 265793 raw words (120709 effective words) took 0.8s, 143355 effective words/s\n",
      "INFO - 14:05:33: EPOCH 84 - PROGRESS: at 67.36% examples, 80493 words/s, in_qsize 1, out_qsize 0\n",
      "INFO - 14:05:33: worker thread finished; awaiting finish of 0 more threads\n",
      "INFO - 14:05:33: EPOCH - 84 : training on 265793 raw words (120407 effective words) took 1.3s, 96273 effective words/s\n",
      "INFO - 14:05:34: worker thread finished; awaiting finish of 0 more threads\n",
      "INFO - 14:05:34: EPOCH - 85 : training on 265793 raw words (120044 effective words) took 0.8s, 156262 effective words/s\n",
      "INFO - 14:05:34: worker thread finished; awaiting finish of 0 more threads\n",
      "INFO - 14:05:34: EPOCH - 86 : training on 265793 raw words (120171 effective words) took 0.8s, 146888 effective words/s\n",
      "INFO - 14:05:35: worker thread finished; awaiting finish of 0 more threads\n",
      "INFO - 14:05:35: EPOCH - 87 : training on 265793 raw words (120561 effective words) took 0.8s, 144577 effective words/s\n",
      "INFO - 14:05:36: worker thread finished; awaiting finish of 0 more threads\n",
      "INFO - 14:05:36: EPOCH - 88 : training on 265793 raw words (120083 effective words) took 0.8s, 144027 effective words/s\n",
      "INFO - 14:05:37: worker thread finished; awaiting finish of 0 more threads\n",
      "INFO - 14:05:37: EPOCH - 89 : training on 265793 raw words (120329 effective words) took 0.8s, 144310 effective words/s\n",
      "INFO - 14:05:38: worker thread finished; awaiting finish of 0 more threads\n",
      "INFO - 14:05:38: EPOCH - 90 : training on 265793 raw words (120117 effective words) took 0.9s, 139478 effective words/s\n",
      "INFO - 14:05:39: worker thread finished; awaiting finish of 0 more threads\n",
      "INFO - 14:05:39: EPOCH - 91 : training on 265793 raw words (120275 effective words) took 0.8s, 145899 effective words/s\n",
      "INFO - 14:05:40: worker thread finished; awaiting finish of 0 more threads\n",
      "INFO - 14:05:40: EPOCH - 92 : training on 265793 raw words (120284 effective words) took 0.8s, 146176 effective words/s\n",
      "INFO - 14:05:41: EPOCH 93 - PROGRESS: at 75.06% examples, 83603 words/s, in_qsize 1, out_qsize 0\n",
      "INFO - 14:05:41: worker thread finished; awaiting finish of 0 more threads\n",
      "INFO - 14:05:41: EPOCH - 93 : training on 265793 raw words (120586 effective words) took 1.3s, 94500 effective words/s\n",
      "INFO - 14:05:42: worker thread finished; awaiting finish of 0 more threads\n",
      "INFO - 14:05:42: EPOCH - 94 : training on 265793 raw words (120014 effective words) took 0.8s, 159555 effective words/s\n",
      "INFO - 14:05:42: worker thread finished; awaiting finish of 0 more threads\n",
      "INFO - 14:05:42: EPOCH - 95 : training on 265793 raw words (120399 effective words) took 0.8s, 146266 effective words/s\n",
      "INFO - 14:05:43: worker thread finished; awaiting finish of 0 more threads\n",
      "INFO - 14:05:43: EPOCH - 96 : training on 265793 raw words (120226 effective words) took 0.8s, 144434 effective words/s\n",
      "INFO - 14:05:44: worker thread finished; awaiting finish of 0 more threads\n",
      "INFO - 14:05:44: EPOCH - 97 : training on 265793 raw words (120336 effective words) took 0.8s, 144488 effective words/s\n",
      "INFO - 14:05:45: worker thread finished; awaiting finish of 0 more threads\n",
      "INFO - 14:05:45: EPOCH - 98 : training on 265793 raw words (120202 effective words) took 0.8s, 143088 effective words/s\n",
      "INFO - 14:05:46: worker thread finished; awaiting finish of 0 more threads\n",
      "INFO - 14:05:46: EPOCH - 99 : training on 265793 raw words (120260 effective words) took 0.8s, 143223 effective words/s\n",
      "INFO - 14:05:47: worker thread finished; awaiting finish of 0 more threads\n",
      "INFO - 14:05:47: EPOCH - 100 : training on 265793 raw words (120264 effective words) took 0.8s, 145443 effective words/s\n",
      "INFO - 14:05:47: training on a 26579300 raw words (12028142 effective words) took 85.0s, 141531 effective words/s\n",
      "INFO - 14:05:47: precomputing L2-norms of word weight vectors\n"
     ]
    }
   ],
   "source": [
    "w2v.train(new_lines, total_examples=w2v.corpus_count, epochs=100)\n",
    "w2v.init_sims(replace=True)"
   ]
  },
  {
   "cell_type": "markdown",
   "metadata": {},
   "source": [
    "### Subtask 3: Exploring the Model\n"
   ]
  },
  {
   "cell_type": "markdown",
   "metadata": {},
   "source": [
    "As mentioned in the lecture, word embeddings are suited for similarity and analogy tasks. Let's explore some of that with our dataset: \n",
    "\n",
    "We look for most similar words to the famous coffee shop where most of the episodes took place, namely `central_perk` and also one of the characters `joey`. If you have followed the exercise correctly until now, you should see that words like `laying` are similar to `central_perk` and the other main characters are also considered similar to `joey`.\n",
    "\n"
   ]
  },
  {
   "cell_type": "code",
   "execution_count": 65,
   "metadata": {
    "pycharm": {
     "is_executing": false
    }
   },
   "outputs": [
    {
     "data": {
      "text/plain": [
       "[('conan', 0.7045038938522339),\n",
       " ('sitting_couch', 0.6197205781936646),\n",
       " ('laying', 0.6157842874526978),\n",
       " ('recliner', 0.5554264187812805),\n",
       " ('puzzles', 0.5539897680282593),\n",
       " ('area', 0.5457902550697327),\n",
       " ('peek', 0.5380603671073914),\n",
       " ('movies', 0.5367788672447205),\n",
       " ('dragon', 0.5342952013015747),\n",
       " ('whichever', 0.5340430736541748)]"
      ]
     },
     "execution_count": 65,
     "metadata": {},
     "output_type": "execute_result"
    }
   ],
   "source": [
    "w2v.wv.most_similar(positive=[\"central_perk\"])"
   ]
  },
  {
   "cell_type": "code",
   "execution_count": 66,
   "metadata": {
    "pycharm": {
     "is_executing": false
    }
   },
   "outputs": [
    {
     "data": {
      "text/plain": [
       "[('chandler', 0.8797828555107117),\n",
       " ('phoebe', 0.778971791267395),\n",
       " ('ross', 0.7727078199386597),\n",
       " ('monica', 0.7707197070121765),\n",
       " ('turns', 0.7632441520690918),\n",
       " ('rachel', 0.7601622939109802),\n",
       " ('goes', 0.7571268081665039),\n",
       " ('looks', 0.7474410533905029),\n",
       " ('sees', 0.7224184274673462),\n",
       " ('quickly', 0.7035596370697021)]"
      ]
     },
     "execution_count": 66,
     "metadata": {},
     "output_type": "execute_result"
    }
   ],
   "source": [
    "w2v.wv.most_similar(positive=[\"joey\"])"
   ]
  },
  {
   "cell_type": "markdown",
   "metadata": {},
   "source": [
    "Look at the similarity of `mrs_green` to `rachel` (her mom) and `ross`  and `spaceship` (unrelated). The first one should have a high and the second low score. Finally look at the similarity of `smelly_cat` (a song from pheobe) and `song` the similarity should be high."
   ]
  },
  {
   "cell_type": "code",
   "execution_count": 67,
   "metadata": {},
   "outputs": [
    {
     "data": {
      "text/plain": [
       "0.6602925"
      ]
     },
     "execution_count": 67,
     "metadata": {},
     "output_type": "execute_result"
    }
   ],
   "source": [
    "w2v.wv.similarity('mrs_green', 'rachel')"
   ]
  },
  {
   "cell_type": "code",
   "execution_count": 68,
   "metadata": {
    "pycharm": {
     "is_executing": false
    }
   },
   "outputs": [
    {
     "data": {
      "text/plain": [
       "-0.28426078"
      ]
     },
     "execution_count": 68,
     "metadata": {},
     "output_type": "execute_result"
    }
   ],
   "source": [
    "w2v.wv.similarity('ross', 'spaceship')"
   ]
  },
  {
   "cell_type": "code",
   "execution_count": 69,
   "metadata": {},
   "outputs": [
    {
     "data": {
      "text/plain": [
       "0.5811368"
      ]
     },
     "execution_count": 69,
     "metadata": {},
     "output_type": "execute_result"
    }
   ],
   "source": [
    "w2v.wv.similarity('smelly_cat', 'song')"
   ]
  },
  {
   "cell_type": "markdown",
   "metadata": {},
   "source": [
    "We can also ask our model to give us the word that does not belong to a list of words. Let's see from the list of all 5 characters which one is the most dissimilar? \n"
   ]
  },
  {
   "cell_type": "code",
   "execution_count": 70,
   "metadata": {},
   "outputs": [],
   "source": [
    "character_names= ['joey', 'rachel', 'phoebe','monica','chandler']"
   ]
  },
  {
   "cell_type": "code",
   "execution_count": 71,
   "metadata": {},
   "outputs": [
    {
     "name": "stderr",
     "output_type": "stream",
     "text": [
      "/home/st/miniconda3/envs/text_analytics/lib/python3.7/site-packages/gensim/models/keyedvectors.py:877: FutureWarning: arrays to stack must be passed as a \"sequence\" type such as list or tuple. Support for non-sequence iterables such as generators is deprecated as of NumPy 1.16 and will raise an error in the future.\n",
      "  vectors = vstack(self.word_vec(word, use_norm=True) for word in used_words).astype(REAL)\n"
     ]
    },
    {
     "data": {
      "text/plain": [
       "'joey'"
      ]
     },
     "execution_count": 71,
     "metadata": {},
     "output_type": "execute_result"
    }
   ],
   "source": [
    "w2v.wv.doesnt_match(character_names)"
   ]
  },
  {
   "cell_type": "markdown",
   "metadata": {},
   "source": [
    "Based on the analogies, which word is to `rachel` as `man` is to `women`? (print the top 3); you should get `chandler` and `monica` among the answers."
   ]
  },
  {
   "cell_type": "code",
   "execution_count": 72,
   "metadata": {},
   "outputs": [
    {
     "data": {
      "text/plain": [
       "[('monica', 0.688949704170227),\n",
       " ('ross', 0.6610345244407654),\n",
       " ('rest_gang', 0.6590512990951538)]"
      ]
     },
     "execution_count": 72,
     "metadata": {},
     "output_type": "execute_result"
    }
   ],
   "source": [
    "w2v.wv.most_similar(positive=[\"rachel\", \"man\"], negative=[\"women\"], topn=3)"
   ]
  },
  {
   "cell_type": "markdown",
   "metadata": {},
   "source": [
    "Finally, lets use t-SNE to look at the distribution of our embeddings in the vector space for the character `joey`. Follow the instructions and fill in the blank in the `tsneplot` function."
   ]
  },
  {
   "cell_type": "code",
   "execution_count": 73,
   "metadata": {},
   "outputs": [],
   "source": [
    "import numpy as np\n",
    "import matplotlib.pyplot as plt\n",
    "%matplotlib inline\n",
    "import seaborn as sns\n",
    "import sys\n",
    "from sklearn.manifold import TSNE"
   ]
  },
  {
   "cell_type": "code",
   "execution_count": 74,
   "metadata": {},
   "outputs": [],
   "source": [
    "def tsneplot(model, word):\n",
    "    \"\"\" Plot in seaborn the results from the t-SNE dimensionality reduction for the top 10 most similar and dissimilar words\n",
    "    \"\"\"\n",
    "    embs = np.empty((0, 100), dtype='f') # to save all the embeddings\n",
    "    word_labels = [word]\n",
    "    color_list  = ['green']\n",
    "\n",
    "   \n",
    "    embs = np.append(embs, model.wv.__getitem__([word]), axis=0) # adds the vector of the query word\n",
    "    \n",
    "   \n",
    "    close_words = model.wv.most_similar([word]) # gets list of most similar words\n",
    "    all_sims = sorted(model.wv.most_similar([word], topn=model.corpus_count))[:10] # gets list of most dissimilar words (get the sorted list of all the words and their similarity and choose the bottom 10 )\n",
    "    print(all_sims)\n",
    "    \n",
    "    # adds the vector for each of the closest words to the array\n",
    "    for wrd_score in close_words:\n",
    "        wrd_vector = model.wv.__getitem__([wrd_score[0]]) # get the vector\n",
    "        word_labels.append(wrd_score[0])\n",
    "        color_list.append('blue')\n",
    "        embs = np.append(embs, wrd_vector, axis=0)\n",
    "        \n",
    "    # adds the vector for each of the furthest words to the array\n",
    "    for wrd_score in all_sims:\n",
    "        wrd_vector = model.wv.__getitem__([wrd_score[0]]) # get the vector \n",
    "        word_labels.append(wrd_score[0])\n",
    "        color_list.append('red')\n",
    "        embs = np.append(embs, wrd_vector, axis=0)\n",
    "    \n",
    "    np.set_printoptions(suppress=True)\n",
    "    Y = TSNE(n_components=2, random_state=42, perplexity=15).fit_transform(embs) # with n_components=2, random_state=42, perplexity=15 \n",
    "    \n",
    "    # Sets everything up to plot\n",
    "    df = pd.DataFrame({'x': [x for x in Y[:, 0]],\n",
    "                       'y': [y for y in Y[:, 1]],\n",
    "                       'words': word_labels,\n",
    "                       'color': color_list})\n",
    "    \n",
    "    fig, _ = plt.subplots()\n",
    "    fig.set_size_inches(10, 10)\n",
    "    \n",
    "    # Basic plot\n",
    "    p1 = sns.regplot(data=df,\n",
    "                     x=\"x\",\n",
    "                     y=\"y\",\n",
    "                     fit_reg=False,\n",
    "                     marker=\"o\",\n",
    "                     scatter_kws={'s': 40,\n",
    "                                  'facecolors': df['color']\n",
    "                                 }\n",
    "                    )\n",
    "    \n",
    "    # adds annotations one by one with a loop\n",
    "    for line in range(0, df.shape[0]):\n",
    "         p1.text(df[\"x\"][line],\n",
    "                 df['y'][line],\n",
    "                 '  ' + df[\"words\"][line].title(),\n",
    "                 horizontalalignment='left',\n",
    "                 verticalalignment='bottom', size='medium',\n",
    "                 color=df['color'][line],\n",
    "                 weight='normal'\n",
    "                ).set_size(15)\n",
    "\n",
    "    \n",
    "    plt.xlim(Y[:, 0].min()-50, Y[:, 0].max()+50)\n",
    "    plt.ylim(Y[:, 1].min()-50, Y[:, 1].max()+50)\n",
    "            \n",
    "    plt.title('t-SNE visualization for {}'.format(word.title()))\n",
    "    "
   ]
  },
  {
   "cell_type": "code",
   "execution_count": 75,
   "metadata": {},
   "outputs": [
    {
     "name": "stdout",
     "output_type": "stream",
     "text": [
      "[('00', -0.07033786922693253), ('000', -0.10189464688301086), ('007', 0.008629396557807922), ('02', 0.06528116017580032), ('038', 0.12489043921232224), ('10', -0.051314398646354675), ('100', -0.05444515496492386), ('1066', 0.08153896033763885), ('10th', -0.07640130072832108), ('11', -0.17110951244831085)]\n"
     ]
    },
    {
     "data": {
      "image/png": "[encoded data removed]",
      "text/plain": [
       "<Figure size 720x720 with 1 Axes>"
      ]
     },
     "metadata": {
      "needs_background": "light"
     },
     "output_type": "display_data"
    }
   ],
   "source": [
    "tsneplot(w2v, 'joey')"
   ]
  },
  {
   "cell_type": "markdown",
   "metadata": {},
   "source": [
    "## Task 2: Multi-class Classification ( 1+ 3 + 2 = 6 points)\n",
    "In this task, we aim to classify consumer finance complaints into 12 pre-defined classes. Note that this is not a multi-label task, and we assume that each new complaint is assigned to one and only one category. The data comes from https://www.data.gov/ (US government’s open data) and contains complaints that are published after the company responds, confirming a commercial relationship with the consumer, or after 15 days, whatever comes first.\n"
   ]
  },
  {
   "cell_type": "markdown",
   "metadata": {},
   "source": [
    "### Sub Task 1: Data Exploration"
   ]
  },
  {
   "cell_type": "markdown",
   "metadata": {},
   "source": [
    "Read the data to a pandas dataframe from `complaints.csv`; this is a rather large file of 206MB. Keep only the `Consumer complaint narrative` (input text) and `product`(labels). Remove the missing values, rename `Consumer complaint narrative` to `Narrative` for ease of use, and add a column encoding the product as an integer. This will represent your labels for classification and the mapping will be used later on. Create two dictionaries: one mapping the ids to products and one mapping products to their ids."
   ]
  },
  {
   "cell_type": "code",
   "execution_count": 76,
   "metadata": {},
   "outputs": [
    {
     "data": {
      "text/html": [
       "<div>\n",
       "<style scoped>\n",
       "    .dataframe tbody tr th:only-of-type {\n",
       "        vertical-align: middle;\n",
       "    }\n",
       "\n",
       "    .dataframe tbody tr th {\n",
       "        vertical-align: top;\n",
       "    }\n",
       "\n",
       "    .dataframe thead th {\n",
       "        text-align: right;\n",
       "    }\n",
       "</style>\n",
       "<table border=\"1\" class=\"dataframe\">\n",
       "  <thead>\n",
       "    <tr style=\"text-align: right;\">\n",
       "      <th></th>\n",
       "      <th>narrative</th>\n",
       "      <th>product</th>\n",
       "    </tr>\n",
       "  </thead>\n",
       "  <tbody>\n",
       "    <tr>\n",
       "      <th>0</th>\n",
       "      <td>transworld systems inc. \\nis trying to collect...</td>\n",
       "      <td>Debt collection</td>\n",
       "    </tr>\n",
       "    <tr>\n",
       "      <th>1</th>\n",
       "      <td>NaN</td>\n",
       "      <td>Credit reporting, credit repair services, or o...</td>\n",
       "    </tr>\n",
       "    <tr>\n",
       "      <th>2</th>\n",
       "      <td>Over the past 2 weeks, I have been receiving e...</td>\n",
       "      <td>Debt collection</td>\n",
       "    </tr>\n",
       "    <tr>\n",
       "      <th>3</th>\n",
       "      <td>Pioneer has committed several federal violatio...</td>\n",
       "      <td>Debt collection</td>\n",
       "    </tr>\n",
       "    <tr>\n",
       "      <th>4</th>\n",
       "      <td>NaN</td>\n",
       "      <td>Credit reporting, credit repair services, or o...</td>\n",
       "    </tr>\n",
       "  </tbody>\n",
       "</table>\n",
       "</div>"
      ],
      "text/plain": [
       "                                           narrative  \\\n",
       "0  transworld systems inc. \\nis trying to collect...   \n",
       "1                                                NaN   \n",
       "2  Over the past 2 weeks, I have been receiving e...   \n",
       "3  Pioneer has committed several federal violatio...   \n",
       "4                                                NaN   \n",
       "\n",
       "                                             product  \n",
       "0                                    Debt collection  \n",
       "1  Credit reporting, credit repair services, or o...  \n",
       "2                                    Debt collection  \n",
       "3                                    Debt collection  \n",
       "4  Credit reporting, credit repair services, or o...  "
      ]
     },
     "execution_count": 76,
     "metadata": {},
     "output_type": "execute_result"
    }
   ],
   "source": [
    "import pandas as pd\n",
    "from io import StringIO\n",
    "df = pd.read_csv(\"data/complaints.csv\")\n",
    "df = df[['Consumer complaint narrative','Product']] # keep the columns you need\n",
    "df.columns =  ['narrative', 'product'] # rename columns\n",
    "df.head()"
   ]
  },
  {
   "cell_type": "code",
   "execution_count": 77,
   "metadata": {},
   "outputs": [
    {
     "data": {
      "text/html": [
       "<div>\n",
       "<style scoped>\n",
       "    .dataframe tbody tr th:only-of-type {\n",
       "        vertical-align: middle;\n",
       "    }\n",
       "\n",
       "    .dataframe tbody tr th {\n",
       "        vertical-align: top;\n",
       "    }\n",
       "\n",
       "    .dataframe thead th {\n",
       "        text-align: right;\n",
       "    }\n",
       "</style>\n",
       "<table border=\"1\" class=\"dataframe\">\n",
       "  <thead>\n",
       "    <tr style=\"text-align: right;\">\n",
       "      <th></th>\n",
       "      <th>narrative</th>\n",
       "      <th>product</th>\n",
       "      <th>product_id</th>\n",
       "    </tr>\n",
       "  </thead>\n",
       "  <tbody>\n",
       "    <tr>\n",
       "      <th>0</th>\n",
       "      <td>transworld systems inc. \\nis trying to collect...</td>\n",
       "      <td>Debt collection</td>\n",
       "      <td>0</td>\n",
       "    </tr>\n",
       "    <tr>\n",
       "      <th>2</th>\n",
       "      <td>Over the past 2 weeks, I have been receiving e...</td>\n",
       "      <td>Debt collection</td>\n",
       "      <td>0</td>\n",
       "    </tr>\n",
       "    <tr>\n",
       "      <th>3</th>\n",
       "      <td>Pioneer has committed several federal violatio...</td>\n",
       "      <td>Debt collection</td>\n",
       "      <td>0</td>\n",
       "    </tr>\n",
       "    <tr>\n",
       "      <th>9</th>\n",
       "      <td>Previously, on XX/XX/XXXX, XX/XX/XXXX, and XX/...</td>\n",
       "      <td>Credit reporting, credit repair services, or o...</td>\n",
       "      <td>1</td>\n",
       "    </tr>\n",
       "    <tr>\n",
       "      <th>10</th>\n",
       "      <td>Hello This complaint is against the three cred...</td>\n",
       "      <td>Credit reporting, credit repair services, or o...</td>\n",
       "      <td>1</td>\n",
       "    </tr>\n",
       "  </tbody>\n",
       "</table>\n",
       "</div>"
      ],
      "text/plain": [
       "                                            narrative  \\\n",
       "0   transworld systems inc. \\nis trying to collect...   \n",
       "2   Over the past 2 weeks, I have been receiving e...   \n",
       "3   Pioneer has committed several federal violatio...   \n",
       "9   Previously, on XX/XX/XXXX, XX/XX/XXXX, and XX/...   \n",
       "10  Hello This complaint is against the three cred...   \n",
       "\n",
       "                                              product  product_id  \n",
       "0                                     Debt collection           0  \n",
       "2                                     Debt collection           0  \n",
       "3                                     Debt collection           0  \n",
       "9   Credit reporting, credit repair services, or o...           1  \n",
       "10  Credit reporting, credit repair services, or o...           1  "
      ]
     },
     "execution_count": 77,
     "metadata": {},
     "output_type": "execute_result"
    }
   ],
   "source": [
    "df = df.dropna() # remove missing\n",
    "df['product_id'], _ = pd.factorize(df['product']) # integer ids for product\n",
    "\n",
    "# create the dictionary\n",
    "id2product = pd.Series(df[\"product\"].values,index=df['product_id']).to_dict()\n",
    "product2id = pd.Series(df[\"product_id\"].values,index=df['product']).to_dict()\n",
    "\n",
    "df.head()"
   ]
  },
  {
   "cell_type": "markdown",
   "metadata": {},
   "source": [
    "Look at the class distribution of the products. It is always a good idea to look at the relative number of instances for each class before performing any classification task. Use the `plot` function from the dataframe to show the number of instances in each class in a histogram."
   ]
  },
  {
   "cell_type": "code",
   "execution_count": 103,
   "metadata": {},
   "outputs": [
    {
     "data": {
      "text/plain": [
       "<Figure size 720x576 with 0 Axes>"
      ]
     },
     "metadata": {},
     "output_type": "display_data"
    },
    {
     "data": {
      "image/png": "[encoded data removed]",
      "text/plain": [
       "<Figure size 720x576 with 1 Axes>"
      ]
     },
     "metadata": {
      "needs_background": "light"
     },
     "output_type": "display_data"
    },
    {
     "name": "stdout",
     "output_type": "stream",
     "text": [
      "Legend:\n",
      "{0: 'Debt collection', 1: 'Credit reporting, credit repair services, or other personal consumer reports', 2: 'Money transfer, virtual currency, or money service', 3: 'Mortgage', 4: 'Vehicle loan or lease', 5: 'Student loan', 6: 'Credit card or prepaid card', 7: 'Checking or savings account', 8: 'Credit card', 9: 'Payday loan, title loan, or personal loan', 10: 'Consumer Loan', 11: 'Payday loan', 12: 'Bank account or service', 13: 'Credit reporting', 14: 'Other financial service', 15: 'Money transfers', 16: 'Prepaid card', 17: 'Virtual currency'}\n"
     ]
    }
   ],
   "source": [
    "import matplotlib.pyplot as plt\n",
    "fig = plt.figure(figsize=(10,8))\n",
    "df.plot.hist(by=\"product\", title=\"Class Distribution\", legend=True, figsize=(10,8))\n",
    "plt.xticks(np.arange(0.5, 17.5, 1.0), range(17))\n",
    "plt.show()\n",
    "print(\"Legend:\")\n",
    "print(id2product)"
   ]
  },
  {
   "cell_type": "markdown",
   "metadata": {},
   "source": [
    "If you have done the exercise correctly you should observe a class imbalance with `credit reporting` having the most complaints. This can result in some difficulties for standard algorithms, making them biased towards the majority class and treating the minority classes as outliers and unimportant. One way to overcome this problem is by using **undersampling** or **oversampling**. However, this is beyond the scope of this assignment."
   ]
  },
  {
   "cell_type": "markdown",
   "metadata": {},
   "source": [
    "### Sub Task 2: Text Representation and Training the Classifier \n",
    "Before performing any classification we need to split our data into train and test sets. Use `sklearn` to save 20 percent of the data for the test and the rest for training. Make sure to input the index of the data frame to retrieve the indices of the test and train. \n"
   ]
  },
  {
   "cell_type": "code",
   "execution_count": 79,
   "metadata": {},
   "outputs": [],
   "source": [
    "from sklearn.model_selection import train_test_split\n",
    "X_train, X_test, y_train, y_test, indices_train, indices_test = train_test_split(df[\"narrative\"].tolist(), \n",
    "                                                                                 df[\"product_id\"].tolist(), \n",
    "                                                                                 df.index, \n",
    "                                                                                 test_size=0.2, \n",
    "                                                                                 random_state=42)"
   ]
  },
  {
   "cell_type": "markdown",
   "metadata": {},
   "source": [
    "To perform any sort of classification task, we first need to convert our raw text into some vector representation. Let's use the `TfidfVectorizer` from `sklearn` to convert the `narrative` column into TF-IDF vectors. When transforming the text keep the following in mind:\n",
    "- use the logarithmic form for frequency\n",
    "- remove accents (ASCII) \n",
    "- lowercase all characters \n",
    "- remove `English` stop words \n",
    "- ignore terms that have a document frequency strictly less than 10\n",
    "- smooth IDF weights by adding one to document frequencies \n",
    "- output row should have unit L2 norm\n",
    "- set the encoding to `Latin-1`\n",
    "- extract both uni-grams and bi-grams \n",
    "- build a vocabulary that only considers the top 10.000 features\n",
    "\n",
    "Keep in mind that the vectorizer should be trained **only** on the training data, and the test data should be transformed using the same model."
   ]
  },
  {
   "cell_type": "code",
   "execution_count": 80,
   "metadata": {},
   "outputs": [
    {
     "name": "stdout",
     "output_type": "stream",
     "text": [
      "(528784, 10000)\n"
     ]
    }
   ],
   "source": [
    "from sklearn.feature_extraction.text import TfidfVectorizer\n",
    "tfidf = TfidfVectorizer(sublinear_tf=True,\n",
    "                        strip_accents='ascii',\n",
    "                        lowercase=True,\n",
    "                        stop_words='english',\n",
    "                        min_df=10,\n",
    "                        smooth_idf=True,\n",
    "                        norm='l2',\n",
    "                        encoding='Latin-1',\n",
    "                        ngram_range=(1,2),\n",
    "                        max_features=10000)\n",
    "X_train = tfidf.fit_transform(X_train) # transform text\n",
    "print(X_train.shape) # should be (132647, 10000)"
   ]
  },
  {
   "cell_type": "markdown",
   "metadata": {},
   "source": [
    "After the data transformation, we attain the features and labels, to train the classifier. In our case, we use **Naive Bayes Classifier**. \n",
    "- split the features and labels into training and test set (set the random state to 42) \n",
    "- use `MultinomialNB` from sklearn to classify the data "
   ]
  },
  {
   "cell_type": "code",
   "execution_count": 81,
   "metadata": {},
   "outputs": [
    {
     "data": {
      "text/plain": [
       "MultinomialNB()"
      ]
     },
     "execution_count": 81,
     "metadata": {},
     "output_type": "execute_result"
    }
   ],
   "source": [
    "from sklearn.naive_bayes import MultinomialNB\n",
    "clf = MultinomialNB() # fit the model to the data\n",
    "clf.fit(X_train, y_train)"
   ]
  },
  {
   "cell_type": "markdown",
   "metadata": {},
   "source": [
    "### Sub Task 3: Model Evaluation  "
   ]
  },
  {
   "cell_type": "markdown",
   "metadata": {},
   "source": [
    "We evaluate our model using the held-out test data. We are going to look at the confusion matrix to show the performance of the model. "
   ]
  },
  {
   "cell_type": "code",
   "execution_count": 82,
   "metadata": {},
   "outputs": [
    {
     "data": {
      "image/png": "[encoded data removed]",
      "text/plain": [
       "<Figure size 720x720 with 2 Axes>"
      ]
     },
     "metadata": {
      "needs_background": "light"
     },
     "output_type": "display_data"
    }
   ],
   "source": [
    "from sklearn.metrics import confusion_matrix\n",
    "import seaborn as sns\n",
    "y_pred = clf.predict(tfidf.transform(X_test)) # predict on the test set\n",
    "conf = confusion_matrix(y_test, y_pred) # create the confusion matrix\n",
    "fig, ax = plt.subplots(figsize=(10,10))\n",
    "sns.heatmap(conf, annot=True, fmt='d',\n",
    "            xticklabels=id2product.values(), # products names from the dictionary\n",
    "            yticklabels=id2product.values()) # products names from the dictionary\n",
    "plt.ylabel('True Label')\n",
    "plt.xlabel('Predicted Label')\n",
    "plt.show()"
   ]
  },
  {
   "cell_type": "markdown",
   "metadata": {},
   "source": [
    "The majority of the predictions end up on the diagonal (predicted label = actual label). The diagonal shows the correct classified classes. However, there are several misclassifications, specifically `Checking or savings account` is often confused with `Bank account or service`. Let's take a look at why this happens. For this, we look at 5 misclassified examples."
   ]
  },
  {
   "cell_type": "code",
   "execution_count": 83,
   "metadata": {},
   "outputs": [
    {
     "name": "stdout",
     "output_type": "stream",
     "text": [
      "['Our bank allowed XXXX to withdraw money from our checking account without our consent. Also the name on the XXXX account was different than ours.', \"I called last month to PNC Bank to make sure that no direct debit out of my account since I do n't have any money in the account. Below is also the communication I had with one of their customer service team. { Thank you for choosing PNC Bank. This chat may be monitored for quality assurance purposes. The next available Online Consultant will be with you. \\nHello, this is XXXX. Thank you for choosing to use our online chat service. \\nXXXX : Good Morning and welcome to PNC Chat! I 'm a Chat Consultant located in XXXX, PA. How may I help you today XXXX : I have not heard from you for a few moments. Are you still with me? \\nXXXX : Hi, I want to make sure that PNC will not allow any payment request made in the checking account, since I do n't have any fund in the account. I do n't want to get charged insufficient fund fees XXXX : Hi XXXX, I would be more than happy to look into that request for you! Did you set up a payment to another company from your Checking Account? If so, how much was it and when was it done? \\nXXXX : not that I am aware of XXXX : just make sure or post a note on the account that no payment is allowed until further notice. can you do that for me? \\nXXXX : Sorry, are you expecting a payment to post to your account? I see that you are Opted Out of Overdraft Coverage, which means that you have not given PNC authorization to pay ATM and one-time debit card transactions into overdraft. This does not include checks, recurring debit card payments, non-PIN based debit card transactions or ACH debits where you have made and agreement with a merchant. \\nXXXX : If a transaction comes through that is a check, pre-authorized payments and non-PIN debit card purchases may be presented to the account even if there are not funds. \\nXXXX : no check will come through for now XXXX : Perfect! As long as nothing is scheduled to come through the account then you should be all set! In the case that an unauthorized transaction comes through, we can dispute that transaction and add all fees to the dispute to reimburse you. \\nXXXX : ok thanks! \\nXXXX : You 're welcome! May I address any additional concerns today in chat XXXX? \\nXXXX : I am all set. thanks } I also called the merchant to do the same as well. However, PNC still allow the transaction to go through not once but 3x. In the process to charge me insufficient fund fee, returned fee. Does n't bank has a fiduciary duty to their bank account customers? So what I ever I requested on my account has no baring to what the bank want to do to make money.\", 'Complaint is with Chase Bank. They \\'ve never kept my notifications up when they promised they would, causing charges to come about unexpected. \\n{$60.00} bill was taken out of my account at XXXX I deposited {$80.00} at XXXX Chase charges me an additional {$30.00}, claiming \" Because of Time Zones we can charge you a late fee early \\'\\'. Account is now negative, at risk to MORE overdraft fees and I do n\\'t have any more money to put in. \\nChase refuses to refund the money, stating \" We \\'ve already done it for you before \\'\\' Chase Bank is robbing people. Simply put. \\nChase is robbing people who do n\\'t have any money. \\nThis stupid world is filled with crooked company \\'s shaking people \\'s pockets out and taking everything. \\n\\nMy complaint is simple, but it makes a big impact on people \\'s lives. The quality of life which is stressed and burdened by scum bag companys is no longer acceptable. I \\'m doing everything right and timely yet still being punished.', \"This all started on XXXX/XXXX/XXXX. I contacted Chase at XXXX ( claim number XXXX ) about charges that were wrongfully charged by a company by the name of XXXX ( XXXX ) I informed them that XXXX charged by account {$99.00} & {$97.00} posted on my account on XXXX/XXXX/XXXX. I spoke with a gentleman and her informed me to cancel my order so I follow his instruction ( XXXX & XXXX ). He said Chase will do the investigation and will follow back up with me once they complete with the investigation. That same day I received an email from Chase following up with my case and assigned me a claim number XXXX. I waited and no one ever contacted me back. On XXXX/XXXX/XXXX I contacted Chase about more transaction I did not authorized which they sent me an email with a case number XXXX. Not long after at XXXX XXXX I received an email from Chase stating that they completed with the investigation and they are putting {$14.00} back on my account. On XXXX/XXXX/XXXX I contacted Chase back and said I never heard back from them about the XXXX transactions I did n't authorized. They said they did not know what 's going on and assigned me another case. At XXXX XXXX I received an email from Chase with a case number XXXX. I also faxed XXXX Chase with all supporting document. On XXXX/XXXX/XXXX at XXXX XXXX I received an email from Chase stating that they are placing a temporary credit on my account while they research my claim. Once again I did n't get a call back so I assumed everything is taken care of. Come to my surprise on XXXX/XXXX/XXXX the charges are back on my account in the amount of {$97.00} & {$99.00}. I contacted Chase back to try to find out what was going on and this is where the nightmare truly starts. When I contacted Chase the first call will automatically routed to someone oversea. Each time I called I have to explain my situation over and over again. Those agents do not have access to my activities so all they can do is say what is prompted on his/her computer. They are very proud so each time I called they made me feel like I 'm trying to cheat the system to get back the charges I submitted. I finally asked them to transfer me to their supervisor ( come to find out this is not a supervisor they are senior advisors which located back in the U.S. ). I asked senior advisor to please read my complaint but each time they asked me to tell them what 's going on again and again. It made me feel like they 're trying to validate if my story have changed so they can deny my claim. After about XXXX senior advisor I went into a local Chase branch and told a manager there what 's going on so her gave me an executive phone number XXXX. Once again I have to tell executive office my story which I do n't mind since this should be the last time I have to tell my story. My case was assigned to an executive employee by the name of XXXX XXXX extension XXXX. She was very apologetic when she first contacted me then once again everything went south. She informed me that I should n't have cancel the account in the first place because that cause them not to have an ability to pursue XXXX. I told it was Chase agent that advised me to cancel so how is this my mistake? She continue to say there was n't anything they can do. I told them they can refund me my money because it was their agent that misinformed me. She said she could n't do that so I asked her to transfer me to her manager. I also informed her that I will contact CFPB as well. She said I may or may not receive a call back from her manager and I was more than welcome to contact CFPB.\", \"After the financial institution closed my savings account which was used a overdraft protection, charged me enormous amounts in returned item fees - they transferred all the monies that were in the Savings account to checking. If this action was taken before all the fees were incurred, I would not have been charged {$280.00} returned item fees. This is clearly poor accounting procedures. This also proves the bank 's action were for capital gain only. The bank has yet to prove the Savings account that was closed exceed the XXXX per month transaction by law on a habitual basis.\", \"I was charged {$150.00} for withdrawing my money from UBS. If I 'd known, I would never, ever put any money there.\", 'i had a bank account with Bank of america for a long time. It so happened that one of my friend owed me some money ( {$8400.00} ) He gave me a check which i deposited it in my account thru an Atm as I was flying overseas that night as my mother had died. when i came back i got a letter from Bank of America that they r closing my account as I have committed a fraud by depositing a bad check and that they r black listing me and i wont be able to open an account with Bank of America ever again. i was shocked by this most stupid letter ever. I tried to talk to them but they said they cant do any thing. they did not close my friends account and he is still operating it although he gave me a bad check. its not that i really want an account with Bank of America its a matter of principal that i have never done any thing wrong and y would they penalize somebody like that.', 'I hold a checking account at XXXX california and have been with them for nearly 6 to 7 yrs. now suddenly they say that i hold keep a minimum balance of $ .XXXX/- all the time in my account. this was not the case when i opened the account. they charged me maintenance charges of $ .XXXX/ which on complaining was reversed. I am a XXXX with no income and my children deposit. money into my account when ever i need. I do not take ssi. hence there can not be any direct deposit. hence i feel that such compulsion of keeping balance mimimumm shoudl not be applied.', \"I closed XXXX bank accounts with Citizens Bank RBS. After I closed the accounts, deposits were made electronically into those accounts without my knowledge keeping the accounts open. Citizens Bank never sent me a statement of any kind for years while they drained the accounts with maintenance fees. Once XXXX the accounts went negative on maintenance fees, they finally sent me a letter indicating I needed to pay the negative balance. I 've spent a lot of time talking to a lot of people to resolve this, but Citizens hides behind its electronic statement agreement that the statements were posted to their site and I should have accessed them. However part of that service includes email alerts when the statements posted, and those were turned off during the closing process of the account, so I never got any indication for years that these accounts existed any longer. Citizens refunded 10 % of the fees they extracted and refuse to help any further. I do n't understand how a bank can have my money to make money with while at the same time charging me maintenance fees for years and never sending me a statement of any kind for regulatory purposes.\", \"USAA has treated me in an completely inexcusable manner since XX/XX/XXXX/XX/XX/XXXX of this year. My phone was hacked and deposit were made between my linked bank account with USAA and USAA. I received a completely new phone. Show USAA that I had ordered a new phone and turned my old phone in still they continued to called a fraud and state that I was committing bank fraud. They told me I was lying and their representative actually had me sobbing at her unnecessary and unfunded idea that I committed fraud. After that I spoke with USAA almost constantly. I agreed to make payments to pay down the debt of {$50.00} bi-weekly. On XX/XX/2016 USAA said the account had been paid off. The statement online show this. They issued me a refund check for the amount of overage. Yet today when I called on XXXX I still did not have full access to the website. In my attempt to correct this I received at least XXXX transfers. Each transfer gave me more and more incorrect information. I was on the phone with them for a total on XXXX hour. Finally I demanded to speak to a XXXX who was able to resolve the issue. I was bounced between web banking and accounting and checking department. I was told there was still a block. I was told I needed to open another account. I was told time and time again this was the wrong department. This entire experience was made horrible my USAA who continued to ignore me as a customer. Ignore my legitimate claims that the transfers where not by me. Simply a virus that got into my phone. Even with provided proof from XXXX and my cell phone provider that I had gotten a new phone and errors occurred with the previous phone they did not listen. I experienced this same. Well it 's all your fault attitude from the company told as I explained to representative after representative that I had paid the account.\"]\n"
     ]
    }
   ],
   "source": [
    "actual='Bank account or service'\n",
    "predicted= 'Checking or savings account'\n",
    "\n",
    "# print only the top 10\n",
    "indices_actual = list(filter(lambda x: y_test[x] == product2id[actual], range(len(y_test)))) \n",
    "indices_predicted = list(filter(lambda x: y_pred[x] == product2id[predicted], range(len(y_pred)))) \n",
    "common_indices = list(set(indices_actual).intersection(indices_predicted))\n",
    "print([X_test[index] for index in common_indices][:10]) # choose the ones that have an actual label of Bank account or service and the predicted label of Checking or savings account"
   ]
  },
  {
   "cell_type": "markdown",
   "metadata": {},
   "source": [
    "As you can see, some of the misclassified complaints are complaints that are not easy to distinguish. "
   ]
  },
  {
   "cell_type": "markdown",
   "metadata": {},
   "source": [
    "## Task 3: Auto-Complete ( 2 + 5 + 4 = 11 Points ) \n",
    "Let's get even more practical! In this problem set, you will build your own auto-completion system that you see every day while using search engines.\n",
    "\n",
    "[google]: https://www.thedad.com/wp-content/uploads/2018/05/screen-shot-2018-05-12-at-2-01-56-pm.png \"google auto complete\"\n",
    "\n",
    "![google]\n",
    "By the end of this assignment, you will develop a simple prototype of such a system using n-gram language models. At the heart of the system is a language model that assigns the probability to a sequence of words. We take advantage of this probability calculation to predict the next word. \n",
    "\n",
    "The problem set contains 3 main parts:\n",
    "\n",
    "1. Load and preprocess data (tokenize and split into train and test)\n",
    "2. Develop n-gram based language models by estimating the conditional probability of the next word.\n",
    "3. Evaluate the model by computing the perplexity score.\n"
   ]
  },
  {
   "cell_type": "markdown",
   "metadata": {},
   "source": [
    "### Sub Task 1: Load and Preprocess Data \n",
    "We use a subset of English tweets to train our model. Run the cell below to load the data and observe a few lines of it. Notice that tweets are saved in a text file, where tweets are separated by `\\n`"
   ]
  },
  {
   "cell_type": "code",
   "execution_count": 84,
   "metadata": {},
   "outputs": [
    {
     "name": "stdout",
     "output_type": "stream",
     "text": [
      "First 500 characters of the data:\n"
     ]
    },
    {
     "data": {
      "text/plain": [
       "\"How are you? Btw thanks for the RT. You gonna be in DC anytime soon? Love to see you. Been way, way too long.\\nWhen you meet someone special... you'll know. Your heart will beat more rapidly and you'll smile for no reason.\\nthey've decided its more fun if I don't.\\nSo Tired D; Played Lazer Tag & Ran A LOT D; Ughh Going To Sleep Like In 5 Minutes ;)\\nWords from a complete stranger! Made my birthday even better :)\\nFirst Cubs game ever! Wrigley field is gorgeous. This is perfect. Go Cubs Go!\\ni no! i ge\""
      ]
     },
     "metadata": {},
     "output_type": "display_data"
    },
    {
     "name": "stdout",
     "output_type": "stream",
     "text": [
      "-------\n"
     ]
    }
   ],
   "source": [
    "import math\n",
    "import random\n",
    "import numpy as np\n",
    "import spacy\n",
    "nlp = spacy.load(\"en_core_web_sm\", disable=[\"tagger\", \"parser\",\"ner\"])\n",
    "\n",
    "\n",
    "with open(\"data/twitter.txt\", \"r\") as f:\n",
    "    data = f.read()\n",
    "print(\"First 500 characters of the data:\")\n",
    "display(data[0:500])\n",
    "print(\"-------\")"
   ]
  },
  {
   "cell_type": "markdown",
   "metadata": {},
   "source": [
    "Now we need to separate the tweets and split them into train and test set. Apply the following pre-processing steps:\n",
    "\n",
    "1. Split data into sentences using \"\\n\" as the delimiter and remove the leading and trailing spaces (drop empty sentences)\n",
    "2. Tokenize the sentences into words using SpaCy and lowercase them. (notice that we do not remove stop words or punctuations.) \n",
    "3. Divide the sentences into 80 percent training and 20 percent test set. No validation set is required. Although in a real-world application it is best to set aside part of the data for hyperparameter tuning.\n",
    "4. To limit the vocabulary and remove potential spelling mistakes, make a vocabulary of the words that appear at least 2 times. The rest of the words will be replaced by the `<unk>` symbol. This is a crucial step since if your model encounters a word that it never saw during training, it won't have an input word that helps determining the next word for suggestion. We use the `<unk>` word for **out of Vocabulary (OOV)** words. Keep in mind that we built the vocabulary on the training data only."
   ]
  },
  {
   "cell_type": "code",
   "execution_count": 85,
   "metadata": {},
   "outputs": [],
   "source": [
    "sentences = data.split(\"\\n\")\n",
    "sentences = [sentence.strip() for sentence in sentences if sentence != \"\"] # remove spaces and drop empty sentences "
   ]
  },
  {
   "cell_type": "code",
   "execution_count": 86,
   "metadata": {},
   "outputs": [],
   "source": [
    "tokenized_corpus = [[token.text.lower() for token in nlp(sentence)] for sentence in sentences] # list of list of the tokens in a sentence "
   ]
  },
  {
   "cell_type": "code",
   "execution_count": 87,
   "metadata": {},
   "outputs": [],
   "source": [
    "from random import Random\n",
    "Random(4).shuffle(tokenized_corpus)\n",
    "\n",
    "train = tokenized_corpus[:int(np.round(0.8*len(tokenized_corpus)))]    \n",
    "test = tokenized_corpus[int(np.round(0.8*len(tokenized_corpus))):]"
   ]
  },
  {
   "cell_type": "code",
   "execution_count": 88,
   "metadata": {},
   "outputs": [
    {
     "name": "stdout",
     "output_type": "stream",
     "text": [
      "14861\n"
     ]
    }
   ],
   "source": [
    "from collections import Counter\n",
    "flatten_corpus = [token for sentence in train for token in sentence] # Flatten the train corpus\n",
    "word_counts = Counter(flatten_corpus) # count the number of each token\n",
    "vocab = [token for token, count in word_counts.items() if count > 1]\n",
    "\n",
    "# keep only the ones with frequency bigger than 2\n",
    "print(len(vocab)) # should be 14861\n",
    "train_replaced = []\n",
    "test_replaced = []\n",
    "for sentence in train:\n",
    "    # adjust the sentence to contain the word in the vocabulary and <unk> for the rest\n",
    "    train_replaced.append([token if token in vocab else \"<unk>\" for token in sentence])\n",
    "for sentence in test:\n",
    "    # adjust the sentence to contain the word in the vocabulary and <unk> for the rest\n",
    "    test_replaced.append([token if token in vocab else \"<unk>\" for token in sentence])"
   ]
  },
  {
   "cell_type": "markdown",
   "metadata": {},
   "source": [
    "### Sub Task 2: N-gram Based Language Model: \n",
    "In this section, you will develop the n-grams language model. We assume that the probability of the next word depends only on the previous n-gram or previous n words. We compute this probability by counting the occurrences in the corpus.\n",
    "The conditional probability for the word at position 't' in the sentence, given that the words preceding it are $w_{t-1}, w_{t-2} \\cdots w_{t-n}$ can be estimated as follows:\n",
    "\n",
    "$$ \\hat{P}(w_t | w_{t-1}\\dots w_{t-n}) = \\frac{C(w_{t-1}\\dots w_{t-n}, w_t)}{C(w_{t-1}\\dots w_{t-n})}  $$\n",
    "\n",
    "The numerator is the number of times word 't' appears after the n-gram, and the denominator is the number of times the n-gram occurs in the corpus, where $C(\\cdots)$ is a count function. Later, we add k-smoothing to avoid errors when any counts are zero."
   ]
  },
  {
   "cell_type": "markdown",
   "metadata": {},
   "source": [
    "To tackle the problem of probability estimation we divide the problem into 3 parts. In the following you will: \n",
    "1. Implement a function that computes the counts of n-grams for an arbitrary number n.\n",
    "2. Estimate the probability of a word given the prior n-words using the n-gram counts.\n",
    "3. Calculate probabilities for all possible words.\n",
    "4. Create a probability matrix. \n",
    "The steps are detailed below. "
   ]
  },
  {
   "cell_type": "markdown",
   "metadata": {},
   "source": [
    "Let's start by implementing a function that computes the counts of n-grams for an arbitrary number n.\n",
    "- Prepend necessary starting markers `<s>` to indicate the beginning of the sentence. In the case of a bi-gram model, you need to prepend two start tokens `<s><s>` to be able to predict the first word. \"hello world\"-> \"`<s><s>`hello world\".\n",
    "- Append an end token `<e>` so that the model can predict when to finish a sentence.\n",
    "- Create a dictionary to store all the n_gram counts."
   ]
  },
  {
   "cell_type": "code",
   "execution_count": 89,
   "metadata": {},
   "outputs": [],
   "source": [
    "def n_grams_counts(corpus, n):\n",
    "    \"\"\"\n",
    "    Count all n-grams in the corpus given the parameter n \n",
    "    \n",
    "    corpus: List of lists of words (your tokenized corpus)\n",
    "    n: n in the n-gram\n",
    "    \n",
    "    Returns: A dictionary that maps a tuple of n words to its frequency\n",
    "    \"\"\"\n",
    "    start_token = '<s>'\n",
    "    end_token = '<e>'\n",
    "    n_grams = defaultdict(int)\n",
    "    for sentence in corpus: \n",
    "        sentence = [start_token] + sentence + [end_token] # add start and end token\n",
    "        sentence = tuple(sentence) # convert list to tuple so it can be used as the key in the dictionary \n",
    "        \n",
    "        # iterate over the n-grams in the sentence, you can use the range() function, and increment the counts in the\n",
    "        # n_grams dictionary, where the key is the n_gram and the value is count \n",
    "        for i in range(len(sentence)-n+1):\n",
    "            n_grams[sentence[i:i+n]] += 1 \n",
    "            \n",
    "    return n_grams"
   ]
  },
  {
   "cell_type": "markdown",
   "metadata": {},
   "source": [
    "The next step is to estimate the probability of a word given the prior n words using the n-gram counts, based on the formula given at the beginning of this task. To deal with the problem of zero division we add k-smoothing. K-smoothing adds a positive constant $k$ to each numerator and $k \\times |vocabulary size|$ in the denominator. Below we will define a function that takes in a dictionary `n_gram_cnts`, where the key is the n-gram, and the value is the count of that n-gram, plus a dictionary for `plus_current_gram_cnts`, which you'll use to find the count for the previous n-gram plus the current word. Notice that these dictionaries are computed using the previous function `n_grams_counts`.\n"
   ]
  },
  {
   "cell_type": "code",
   "execution_count": 90,
   "metadata": {},
   "outputs": [],
   "source": [
    "def probability(word, prev_n_gram, n_gram_cnts, n_plus1_gram_cnts, vocab_size):\n",
    "    \"\"\"\n",
    "    Estimate the probabilities of a next word using the n-gram counts with k-smoothing\n",
    "    word: next word\n",
    "    prev_n_gram: previous n gram\n",
    "    n_gram_cnts: dictionary of counts of n-grams\n",
    "    plus_current_gram_cnts: dictionary of counts of (n+1)-grams -> current word + n-gram = (n+1)-gram\n",
    "    vocab_size: number of words in the vocabulary\n",
    "    \n",
    "    Returns: A probability\n",
    "    \"\"\"\n",
    "    k = 1.0\n",
    "    prev_n_gram = tuple(prev_n_gram)\n",
    "    \n",
    "    prev_n_gram_cnt = n_gram_cnts[prev_n_gram] # get the previous n-gram count from the dictionary \n",
    "    denominator = prev_n_gram_cnt + k * vocab_size # denominator with the previous n-gram count and k-smoothing\n",
    "    n_plus1_gram =  prev_n_gram + (word,) # add the current word to the n-gram \n",
    "    n_plus1_gram_cnt =  n_plus1_gram_cnts[n_plus1_gram] # get the current n-gram count using the dictionary\n",
    "    numerator = n_plus1_gram_cnt + k # calculate the numerator with k-smoothing\n",
    "    prob = numerator / denominator\n",
    "    \n",
    "    return prob"
   ]
  },
  {
   "cell_type": "markdown",
   "metadata": {},
   "source": [
    "Let's use the functions we have defined to calculate probabilities for all possible words.\n"
   ]
  },
  {
   "cell_type": "code",
   "execution_count": 91,
   "metadata": {},
   "outputs": [],
   "source": [
    "def probabilities(prev_n_gram, n_gram_cnts, plus_current_gram_cnts, vocab):\n",
    "    \"\"\"\n",
    "    Estimate the probabilities for all the words in the vocabulary given the previous n-gram \n",
    "    prev_n_gram: previous n-gram\n",
    "    n_gram_cnts: dictionary of counts of n-grams\n",
    "    plus_current_gram_cnts: dictionary of counts of (n+1)-grams -> current word + n-gram = (n+1)-gram\n",
    "    vocab: List of words\n",
    "    \n",
    "    Returns: A dictionary mapping from next words to the probability.\n",
    "    \"\"\"\n",
    "    prev_n_gram = tuple(prev_n_gram)\n",
    "    \n",
    "    vocab = vocab + ['<e>', '<unk>'] # add <e> and <unk> to the vocabulary\n",
    "    vocabulary_size = len(vocab) # compute the size \n",
    "    \n",
    "    probabilities = {}\n",
    "    for word in vocab:\n",
    "        # compute the probability\n",
    "        probabilities[word] = probability(word, prev_n_gram, n_gram_cnts, plus_current_gram_cnts, vocabulary_size)\n",
    "    return probabilities"
   ]
  },
  {
   "cell_type": "code",
   "execution_count": 92,
   "metadata": {},
   "outputs": [
    {
     "name": "stdout",
     "output_type": "stream",
     "text": [
      "['shining', 'the', 'and', 'mars', 'plants', 'plant', 'a', 'is', 'stars', 'bright', 'tonight', 'moon', 'are', 'shinnig']\n",
      "The word 'moon' should have the highest probability, if it is not the case, re-visit your previous functions.\n"
     ]
    },
    {
     "data": {
      "text/plain": [
       "{'shining': 0.05263157894736842,\n",
       " 'the': 0.05263157894736842,\n",
       " 'and': 0.05263157894736842,\n",
       " 'mars': 0.05263157894736842,\n",
       " 'plants': 0.05263157894736842,\n",
       " 'plant': 0.05263157894736842,\n",
       " 'a': 0.05263157894736842,\n",
       " 'is': 0.05263157894736842,\n",
       " 'stars': 0.05263157894736842,\n",
       " 'bright': 0.05263157894736842,\n",
       " 'tonight': 0.05263157894736842,\n",
       " 'moon': 0.21052631578947367,\n",
       " 'are': 0.05263157894736842,\n",
       " 'shinnig': 0.05263157894736842,\n",
       " '<e>': 0.05263157894736842,\n",
       " '<unk>': 0.05263157894736842}"
      ]
     },
     "execution_count": 92,
     "metadata": {},
     "output_type": "execute_result"
    }
   ],
   "source": [
    "# Predict the probability of the all possible words after the unigram \"the\"\n",
    "sentences = [['the', 'moon', 'and', 'stars', 'are','shining','bright'],\n",
    "             ['the', 'moon', 'is', 'shinnig','tonight'],\n",
    "             ['mars','and' ,'moon', 'are', 'plants'],\n",
    "             ['the' ,'moon', 'is','a', 'plant']]\n",
    "unique_words = list(set(sentences[0] + sentences[1] + sentences[2] + sentences[3]))\n",
    "print(unique_words)\n",
    "unigram_counts = n_grams_counts(sentences, 1)\n",
    "bigram_counts = n_grams_counts(sentences, 2)\n",
    "print(\"The word 'moon' should have the highest probability, if it is not the case, re-visit your previous functions.\")\n",
    "probabilities([\"the\"], unigram_counts, bigram_counts, unique_words)"
   ]
  },
  {
   "cell_type": "markdown",
   "metadata": {},
   "source": [
    "## Sub Task 3: Evaluation "
   ]
  },
  {
   "cell_type": "markdown",
   "metadata": {},
   "source": [
    "In this section we use the perplexity score to evaluate your model on the test set.\n",
    "the perplexity score of the test set on an n-gram model, is denoted as follows: \n",
    "\n",
    "$$ PP(W) =\\sqrt[N]{ \\prod_{t=n}^{N-1} \\frac{1}{P(w_t | w_{t-n} \\cdots w_{t-1})} } $$\n",
    "- where $N$ is the length of the sentence. ($N-1$ is used because in the code we start from the index 0).\n",
    "- $n$ is the number of words in the n-gram.\n",
    "\n",
    "Notice that we have already computed this probability. \n",
    "\n",
    "The higher the probabilities are, the lower the perplexity will be. "
   ]
  },
  {
   "cell_type": "code",
   "execution_count": 93,
   "metadata": {},
   "outputs": [],
   "source": [
    "def perplexity(sentence, n_gram_cnts, plus_current_gram_cnts, vocab_size, k=1.0):\n",
    "    \"\"\"\n",
    "    Calculate perplexity for a sentence\n",
    "    sentence: List of words\n",
    "    n_gram_cnts: dictionary of counts of n-grams\n",
    "    plus_current_gram_cnts: dictionary of counts of (n+1)-grams -> current word + n-gram = (n+1)-gram\n",
    "    vocab_size: number of unique words in the vocabulary\n",
    "    k: positive smoothing constant\n",
    "    \n",
    "    Returns: Perplexity score for a single sentence \n",
    "    \"\"\"\n",
    "    \n",
    "    n = len(list(n_gram_cnts.keys())[0]) # get the number 'n' in n-gram from n_gram_cnts  \n",
    "    \n",
    "    sentence =  ['<s>'] + sentence + ['<e>'] # prepend <s> and append <e>\n",
    "    sentence = tuple(sentence)\n",
    "    N = len(sentence) # length of sentence \n",
    "    \n",
    "    product_pi = 1.0 \n",
    "    \n",
    "    # Compute the product of probabilites ###\n",
    "    for t in range(n, N): \n",
    "        n_gram = sentence[t-n:t] # get the n-gram before the predicted word (n-gram before t)\n",
    "        word =  sentence[t] # get the word to be predicted (position t)\n",
    "        prob = probability(word, n_gram, n_gram_cnts, plus_current_gram_cnts, vocab_size)\n",
    "        product_pi *= 1 / prob # Update the product of the probabilities\n",
    "    \n",
    "    perplexity = product_pi**(1/float(N)) # Take the Nth root of the product\n",
    "    return perplexity"
   ]
  },
  {
   "cell_type": "markdown",
   "metadata": {},
   "source": [
    "Use the function to find the perplexity of a bi-gram model on the first instance of training and test set."
   ]
  },
  {
   "cell_type": "code",
   "execution_count": 94,
   "metadata": {},
   "outputs": [
    {
     "name": "stdout",
     "output_type": "stream",
     "text": [
      "Perplexity for first train sample: 96.4465\n",
      "Perplexity for test sample: 1357.0263\n"
     ]
    }
   ],
   "source": [
    "bigram_counts = n_grams_counts(train_replaced, 2)\n",
    "trigram_counts = n_grams_counts(train_replaced, 3)\n",
    "\n",
    "perplexity_train = perplexity(train_replaced[0], bigram_counts, trigram_counts, len(vocab))\n",
    "print(f\"Perplexity for first train sample: {perplexity_train:.4f}\")\n",
    "\n",
    "perplexity_test = perplexity(test_replaced[0], bigram_counts, trigram_counts, len(vocab))\n",
    "print(f\"Perplexity for test sample: {perplexity_test:.4f}\") # the preprexity for the train sample should be much lower "
   ]
  },
  {
   "cell_type": "markdown",
   "metadata": {},
   "source": [
    "Finally, let's use the model we created to generate an auto-complete system that makes suggestions."
   ]
  },
  {
   "cell_type": "code",
   "execution_count": 95,
   "metadata": {},
   "outputs": [],
   "source": [
    "def suggest_a_word(up_to_here, n_gram_cnts, plus_current_gram_cnts, vocab , start_with=None):\n",
    "    \"\"\"\n",
    "    Get suggestion for the next word\n",
    "    up_to_here: the sentence so far, must have length >= n \n",
    "    n_gram_cnts: dictionary of counts of n-grams\n",
    "    plus_current_gram_cnts: dictionary of counts of (n+1)-grams -> current word + n-gram = (n+1)-gram\n",
    "    vocab: List of words\n",
    "    start_with: If not None, specifies the first few letters of the next word\n",
    "        \n",
    "    Returns: (most likely next word,  probability) \n",
    "    \"\"\"    \n",
    "    n = len(list(n_gram_cnts.keys())[0]) # get the number 'n' in n-gram from n_gram_cnts     \n",
    "    previous_n_gram = up_to_here[-n:] # get the last 'n' words as the previous n-gram from the input sentence\n",
    "\n",
    "    \n",
    "    probabs = probabilities(previous_n_gram, n_gram_cnts, plus_current_gram_cnts, vocab) # Estimate the probabilities for each word in the vocabulary\n",
    "    \n",
    "    # sort the probability for higher to lower and return the highest probability (word, probability) tuple\n",
    "    # if start_with is specified then return the highest probability word that starts with that specific character \n",
    "    probabs = list(dict(sorted(probabs.items(), key=lambda item: item[1], reverse=True)).items())\n",
    "    if start_with is None:\n",
    "        return probabs[0]\n",
    "    else:\n",
    "        probabs_filtered = [probab for probab in probabs if probab[0].startswith(start_with)]\n",
    "        return probabs_filtered[0]"
   ]
  },
  {
   "cell_type": "markdown",
   "metadata": {},
   "source": [
    "Test your model based on the bi-gram model created on the training corpus."
   ]
  },
  {
   "cell_type": "code",
   "execution_count": 96,
   "metadata": {},
   "outputs": [
    {
     "data": {
      "text/plain": [
       "('going', 0.00013324450366422385)"
      ]
     },
     "execution_count": 96,
     "metadata": {},
     "output_type": "execute_result"
    }
   ],
   "source": [
    "previous_tokens=['i','like']\n",
    "start_with='g'\n",
    "suggestion = suggest_a_word(previous_tokens, bigram_counts,trigram_counts, list(vocab), start_with=start_with)\n",
    "suggestion"
   ]
  },
  {
   "cell_type": "code",
   "execution_count": 97,
   "metadata": {},
   "outputs": [
    {
     "data": {
      "text/plain": [
       "('see', 0.0006017249448418801)"
      ]
     },
     "execution_count": 97,
     "metadata": {},
     "output_type": "execute_result"
    }
   ],
   "source": [
    "previous_tokens=['i','like','to']\n",
    "start_with=None\n",
    "suggestion = suggest_a_word(previous_tokens, bigram_counts,trigram_counts, list(vocab), start_with=start_with)\n",
    "suggestion"
   ]
  },
  {
   "cell_type": "code",
   "execution_count": 98,
   "metadata": {},
   "outputs": [
    {
     "data": {
      "text/plain": [
       "('<unk>', 0.00040306328093510683)"
      ]
     },
     "execution_count": 98,
     "metadata": {},
     "output_type": "execute_result"
    }
   ],
   "source": [
    "previous_tokens=[\"hello\", \"my\", \"name\", \"is\"]\n",
    "start_with=None\n",
    "suggestion = suggest_a_word(previous_tokens, bigram_counts,trigram_counts, list(vocab), start_with=start_with)\n",
    "suggestion"
   ]
  },
  {
   "cell_type": "code",
   "execution_count": 99,
   "metadata": {},
   "outputs": [
    {
     "data": {
      "text/plain": [
       "('safe', 6.717721348918447e-05)"
      ]
     },
     "execution_count": 99,
     "metadata": {},
     "output_type": "execute_result"
    }
   ],
   "source": [
    "previous_tokens=[\"hello\", \"my\", \"name\", \"is\"]\n",
    "start_with='sa'\n",
    "suggestion = suggest_a_word(previous_tokens, bigram_counts,trigram_counts, list(vocab), start_with=start_with)\n",
    "suggestion"
   ]
  },
  {
   "cell_type": "markdown",
   "metadata": {},
   "source": [
    "## Task 4: Theoretical Questions ( 1 + 1 + 1 +1 + 1 = 5 Points) \n"
   ]
  },
  {
   "cell_type": "markdown",
   "metadata": {},
   "source": [
    "Please answer the following questions in the notebook cells using markdown, try to be percise and short. "
   ]
  },
  {
   "cell_type": "markdown",
   "metadata": {},
   "source": [
    "### Sub Task 1: What is the goal of Word2Vec? / What is a word embedding?"
   ]
  },
  {
   "cell_type": "markdown",
   "metadata": {},
   "source": [
    "A word embedding is a dense vector that is assigned to each word in a given corpus. The idea is that words that often appear in the same context and have a similar semantic meaning in the given corpus appear in a similar location in the high dimensional space of the word embeddings. A word embedding can be thought of a point in this high dimensional space. Word2Vec is a framework to learn these word embeddings from a given corpus using a sliding window approach by maximizing the probability to observe context words o given a center word c or vice versa. "
   ]
  },
  {
   "cell_type": "markdown",
   "metadata": {},
   "source": [
    "### Sub Task 2: For gradient descent, what advantage has a decaying learning rate?"
   ]
  },
  {
   "cell_type": "markdown",
   "metadata": {},
   "source": [
    "Gradient descent iteratively tries to adjust model weights to minimize the specified objective function. The learning rate defines how strong the model weights get adjusted and therefore how fast the gradient approaches the minimum of the objective function. In case the learning rate remains unadjusted, the gradient could surpass the minimum of the objective function and the objective function never converges to its minimum. Decaying the learning rate makes sure the minimum of the objective function is found, keeping a balance between fast convergence and model precision. "
   ]
  },
  {
   "cell_type": "markdown",
   "metadata": {},
   "source": [
    "### Sub Task 3: Why is it easier to maximize the log likelihood instead of the \"normal\" likelihood?"
   ]
  },
  {
   "cell_type": "markdown",
   "metadata": {},
   "source": [
    "The probability of a context word o within a fixed window of size m given a center word c at position t is:\n",
    "\n",
    "$\\prod_{t=1}^T\\prod_{-m<=j<=m;j\\neq0} P(w_{t+j}|w_t;\\theta)$ with the probability as a softmax function $P(o|c;\\theta) = \\frac{exp(u_o^T v_c)}{\\sum_{w\\in V} u_w^T v_c}$\n",
    "\n",
    "$u_o$ is the word vector of a context word and $v_c$ the word vector of the center word within the current window. $\\theta$ are all model parameters (the word embeddings of each word in the corpus as a context and a center word).\n",
    "\n",
    "Using the log likelihood as the objective function turns the product of the individual likelihoods into a sum, which is much less computationally expensive. Furthermore, one does not need the calculate the $exp()$ function any more. As likelihoods can become very small for a huge corpus, using the log likelihood guarantees to not run out of the floating point precision range. Last but not least, building the derivative for gradient descent over a sum is much more easier and less computationally expensive than over a product. "
   ]
  },
  {
   "cell_type": "markdown",
   "metadata": {},
   "source": [
    "### Sub Task 4: Word2Vec trains a complete neural network. How do we extract word embeddings from this network?"
   ]
  },
  {
   "cell_type": "markdown",
   "metadata": {},
   "source": [
    "Recall the objective function:\n",
    "\n",
    "$J(\\theta) = -\\frac{1}{T}\\sum_{t=1}^T\\sum_{-m<=j<=m;j\\neq0} log P(w_{t+j}|w_t;\\theta)$ with $P(o|c;\\theta) = \\frac{exp(u_o^T v_c)}{\\sum_{w\\in V} u_w^T v_c}$\n",
    "\n",
    "The word embeddings $\\theta$ are learned by minimizing this negative log likelihood over a given corpus. If a context word $u_c$ and a center word $v_c$ appear together in the corpus a lot of times, their word embeddings will be similar leading to a high value of the scalar product $u_o^T v_c$. \n",
    "\n",
    "Gradient descent is done via:\n",
    "\n",
    "$\\theta_{new} = \\theta_{old} − \\alpha\\nabla_{\\theta} J(\\theta)$\n",
    "\n",
    "This increases the probability for all context words for the given center words and at the same time decreases the probability for all non-context words for the given center words during the sliding window method. Word2Vec stores the model $\\theta$ in its weight matrix that is continuously being adjusted during the backpropagation by the gradient descent update rule. "
   ]
  },
  {
   "cell_type": "markdown",
   "metadata": {},
   "source": [
    "### Sub Task 5: What advantages has fastText over Word2Vec? "
   ]
  },
  {
   "cell_type": "markdown",
   "metadata": {},
   "source": [
    "FastText predicts surrounding character n-grams and not just context words. It trains a vector representation for every n-character gram, which includes words, subwords (compounds), misspelled words, partial words, and even single\n",
    "characters. Advantage is that it can handle rare words much better than Word2Vec approach. Basically, the “combined” vector for a word w is obtained as the sum of the word vector for w (as in Word2Vec) and the vectors for its character n-grams."
   ]
  },
  {
   "cell_type": "code",
   "execution_count": null,
   "metadata": {},
   "outputs": [],
   "source": []
  }
 ],
 "metadata": {
  "kernelspec": {
   "display_name": "Python 3",
   "language": "python",
   "name": "python3"
  },
  "language_info": {
   "codemirror_mode": {
    "name": "ipython",
    "version": 3
   },
   "file_extension": ".py",
   "mimetype": "text/x-python",
   "name": "python",
   "nbconvert_exporter": "python",
   "pygments_lexer": "ipython3",
   "version": "3.7.9"
  }
 },
 "nbformat": 4,
 "nbformat_minor": 2
}
